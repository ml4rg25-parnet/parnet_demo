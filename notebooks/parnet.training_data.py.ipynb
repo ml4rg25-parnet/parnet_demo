{
 "cells": [
  {
   "cell_type": "code",
   "execution_count": 3,
   "id": "7c1a064b",
   "metadata": {
    "tags": [
     "parameters"
    ]
   },
   "outputs": [],
   "source": [
    "params_notebook_name = \"parnet.training_data.py.ipynb\"\n",
    "params_resource_dir = \"../resources/\""
   ]
  },
  {
   "cell_type": "markdown",
   "id": "4b1767db",
   "metadata": {},
   "source": [
    "# PARNET - training data"
   ]
  },
  {
   "cell_type": "markdown",
   "id": "fa330a1a",
   "metadata": {},
   "source": [
    "## Overview"
   ]
  },
  {
   "cell_type": "code",
   "execution_count": null,
   "id": "356107d7",
   "metadata": {},
   "outputs": [],
   "source": []
  },
  {
   "cell_type": "markdown",
   "id": "1f38fdce",
   "metadata": {},
   "source": [
    "## Imports"
   ]
  },
  {
   "cell_type": "code",
   "execution_count": 26,
   "id": "60322b79",
   "metadata": {},
   "outputs": [],
   "source": [
    "import os\n",
    "import sys\n",
    "from pathlib import Path\n",
    "\n",
    "import numpy as np\n",
    "import pandas as pd\n",
    "import parnet\n",
    "import parnet.additional_utils\n",
    "import parnet.data\n",
    "import parnet.utils\n",
    "import pybedtools as pbt\n",
    "import torch\n",
    "import torch.utils\n",
    "import yaml\n",
    "from datasets import load_from_disk"
   ]
  },
  {
   "cell_type": "code",
   "execution_count": 4,
   "id": "608cd75a",
   "metadata": {},
   "outputs": [
    {
     "name": "stdout",
     "output_type": "stream",
     "text": [
      "Confirmed CWD: /home/l10n/projects/ml4rg25-parnet/parnet_demo/notebooks contains expected file: parnet.training_data.py.ipynb\n",
      "/home/l10n/projects/ml4rg25-parnet/parnet_demo/notebooks\n"
     ]
    }
   ],
   "source": [
    "def assert_notebook_working_dir(expected_local_file: os.PathLike) -> Path:\n",
    "    \"\"\"Assert or try updating the current working directory to where the notebook is located, to enable relative paths references.\n",
    "\n",
    "    This function is used in a set-up where notebooks are contained within a project\n",
    "    directory structure in which we want to reference filepaths relative to the notebook.\n",
    "    e.g. \"../src\" or \"../resources\" should be accessible if the notebook is in\n",
    "    \"../notebooks/<notebook_name>.ipynb\".\n",
    "\n",
    "    The function first check the filepath of the expected local file relative\n",
    "    to the current working directory.\n",
    "\n",
    "    If not found, the function will try to use the VSCode Jupyter variable `__vsc_ipynb_file__`\n",
    "    which should report the path of the notebook file being executed.\n",
    "\n",
    "    It then checks if the expected local file exists, relative to the new working directory.\n",
    "\n",
    "\n",
    "    Args:\n",
    "        expected_local_file (os.PathLike): The expected local file to check for in the current working directory.\n",
    "            This can be the name of the notebook file.\n",
    "\n",
    "    Raises:\n",
    "        KeyError: if the `__vsc_ipynb_file__` variable is not found in the global scope, while the first CWD check failed.\n",
    "        FileNotFoundError: if the expected local file is not found in the current working directory after attempting to change it.\n",
    "    \"\"\"\n",
    "    import os\n",
    "    from pathlib import Path\n",
    "\n",
    "    cwd = Path(os.getcwd())\n",
    "    expected_local_filepath = cwd / expected_local_file\n",
    "\n",
    "    if not expected_local_filepath.exists():\n",
    "        if \"__vsc_ipynb_file__\" not in globals():\n",
    "            raise KeyError(\n",
    "                f\"Detected CWD: {cwd} ; CWD does not contain expected file, but cannot use __vsc_ipynb_file__ to recover.\"\n",
    "            )\n",
    "        else:\n",
    "            os.chdir(Path(globals()[\"__vsc_ipynb_file__\"]).parent)\n",
    "            cwd = Path(os.getcwd())\n",
    "            print(f\"Changed CWD to {cwd}\")\n",
    "\n",
    "            expected_local_filepath = cwd / expected_local_file\n",
    "            if not expected_local_filepath.exists():\n",
    "                raise FileNotFoundError(\n",
    "                    f\"Updated (using __vsc_ipynb_file__) CWD: {cwd} ; CWD does not contain expected file.\"\n",
    "                )\n",
    "\n",
    "            return cwd\n",
    "    else:\n",
    "        print(f\"Confirmed CWD: {cwd} contains expected file: {expected_local_file}\")\n",
    "        return cwd\n",
    "\n",
    "\n",
    "expected_local_file: str = params_notebook_name\n",
    "cwd = assert_notebook_working_dir(expected_local_file=expected_local_file)\n",
    "print(cwd)"
   ]
  },
  {
   "cell_type": "markdown",
   "id": "f7998afb",
   "metadata": {},
   "source": [
    "## Init"
   ]
  },
  {
   "cell_type": "code",
   "execution_count": 5,
   "id": "35fea847",
   "metadata": {},
   "outputs": [
    {
     "name": "stdout",
     "output_type": "stream",
     "text": [
      "Using resources from: ../resources\n"
     ]
    }
   ],
   "source": [
    "resource_dir = Path(params_resource_dir)\n",
    "if not resource_dir.exists():\n",
    "    raise FileNotFoundError(\"Resource directory does not exist: \" + str(resource_dir))\n",
    "\n",
    "print(\"Using resources from:\", resource_dir)"
   ]
  },
  {
   "cell_type": "markdown",
   "id": "d37b869a",
   "metadata": {},
   "source": [
    "## Load "
   ]
  },
  {
   "cell_type": "code",
   "execution_count": null,
   "id": "8cc30c23",
   "metadata": {},
   "outputs": [
    {
     "data": {
      "text/html": [
       "<div>\n",
       "<style scoped>\n",
       "    .dataframe tbody tr th:only-of-type {\n",
       "        vertical-align: middle;\n",
       "    }\n",
       "\n",
       "    .dataframe tbody tr th {\n",
       "        vertical-align: top;\n",
       "    }\n",
       "\n",
       "    .dataframe thead th {\n",
       "        text-align: right;\n",
       "    }\n",
       "</style>\n",
       "<table border=\"1\" class=\"dataframe\">\n",
       "  <thead>\n",
       "    <tr style=\"text-align: right;\">\n",
       "      <th></th>\n",
       "      <th>chrom</th>\n",
       "      <th>start</th>\n",
       "      <th>end</th>\n",
       "      <th>name</th>\n",
       "      <th>score</th>\n",
       "      <th>strand</th>\n",
       "    </tr>\n",
       "  </thead>\n",
       "  <tbody>\n",
       "    <tr>\n",
       "      <th>0</th>\n",
       "      <td>chr1</td>\n",
       "      <td>29553</td>\n",
       "      <td>30365</td>\n",
       "      <td>lncRNA;MIR1302-2HG;lncRNA;ENSG00000243485.5</td>\n",
       "      <td>.</td>\n",
       "      <td>+</td>\n",
       "    </tr>\n",
       "    <tr>\n",
       "      <th>1</th>\n",
       "      <td>chr1</td>\n",
       "      <td>30365</td>\n",
       "      <td>30503</td>\n",
       "      <td>ncRNA;MIR1302-2;miRNA;ENSG00000284332.1</td>\n",
       "      <td>.</td>\n",
       "      <td>+</td>\n",
       "    </tr>\n",
       "    <tr>\n",
       "      <th>2</th>\n",
       "      <td>chr1</td>\n",
       "      <td>30503</td>\n",
       "      <td>31109</td>\n",
       "      <td>lncRNA;MIR1302-2HG;lncRNA;ENSG00000243485.5</td>\n",
       "      <td>.</td>\n",
       "      <td>+</td>\n",
       "    </tr>\n",
       "    <tr>\n",
       "      <th>3</th>\n",
       "      <td>chr1</td>\n",
       "      <td>65418</td>\n",
       "      <td>65433</td>\n",
       "      <td>five_prime_UTR;OR4F5;protein_coding;ENSG000001...</td>\n",
       "      <td>.</td>\n",
       "      <td>+</td>\n",
       "    </tr>\n",
       "    <tr>\n",
       "      <th>4</th>\n",
       "      <td>chr1</td>\n",
       "      <td>65433</td>\n",
       "      <td>65519</td>\n",
       "      <td>intron;OR4F5;protein_coding;ENSG00000186092.7</td>\n",
       "      <td>.</td>\n",
       "      <td>+</td>\n",
       "    </tr>\n",
       "    <tr>\n",
       "      <th>5</th>\n",
       "      <td>chr1</td>\n",
       "      <td>65519</td>\n",
       "      <td>65564</td>\n",
       "      <td>five_prime_UTR;OR4F5;protein_coding;ENSG000001...</td>\n",
       "      <td>.</td>\n",
       "      <td>+</td>\n",
       "    </tr>\n",
       "    <tr>\n",
       "      <th>6</th>\n",
       "      <td>chr1</td>\n",
       "      <td>65564</td>\n",
       "      <td>65567</td>\n",
       "      <td>start_codon;OR4F5;protein_coding;ENSG000001860...</td>\n",
       "      <td>.</td>\n",
       "      <td>+</td>\n",
       "    </tr>\n",
       "    <tr>\n",
       "      <th>7</th>\n",
       "      <td>chr1</td>\n",
       "      <td>65567</td>\n",
       "      <td>65573</td>\n",
       "      <td>CDS;OR4F5;protein_coding;ENSG00000186092.7</td>\n",
       "      <td>.</td>\n",
       "      <td>+</td>\n",
       "    </tr>\n",
       "    <tr>\n",
       "      <th>8</th>\n",
       "      <td>chr1</td>\n",
       "      <td>65573</td>\n",
       "      <td>69036</td>\n",
       "      <td>intron;OR4F5;protein_coding;ENSG00000186092.7</td>\n",
       "      <td>.</td>\n",
       "      <td>+</td>\n",
       "    </tr>\n",
       "    <tr>\n",
       "      <th>9</th>\n",
       "      <td>chr1</td>\n",
       "      <td>69036</td>\n",
       "      <td>70005</td>\n",
       "      <td>CDS;OR4F5;protein_coding;ENSG00000186092.7</td>\n",
       "      <td>.</td>\n",
       "      <td>+</td>\n",
       "    </tr>\n",
       "  </tbody>\n",
       "</table>\n",
       "</div>"
      ],
      "text/plain": [
       "  chrom  start    end                                               name  \\\n",
       "0  chr1  29553  30365        lncRNA;MIR1302-2HG;lncRNA;ENSG00000243485.5   \n",
       "1  chr1  30365  30503            ncRNA;MIR1302-2;miRNA;ENSG00000284332.1   \n",
       "2  chr1  30503  31109        lncRNA;MIR1302-2HG;lncRNA;ENSG00000243485.5   \n",
       "3  chr1  65418  65433  five_prime_UTR;OR4F5;protein_coding;ENSG000001...   \n",
       "4  chr1  65433  65519      intron;OR4F5;protein_coding;ENSG00000186092.7   \n",
       "5  chr1  65519  65564  five_prime_UTR;OR4F5;protein_coding;ENSG000001...   \n",
       "6  chr1  65564  65567  start_codon;OR4F5;protein_coding;ENSG000001860...   \n",
       "7  chr1  65567  65573         CDS;OR4F5;protein_coding;ENSG00000186092.7   \n",
       "8  chr1  65573  69036      intron;OR4F5;protein_coding;ENSG00000186092.7   \n",
       "9  chr1  69036  70005         CDS;OR4F5;protein_coding;ENSG00000186092.7   \n",
       "\n",
       "  score strand  \n",
       "0     .      +  \n",
       "1     .      +  \n",
       "2     .      +  \n",
       "3     .      +  \n",
       "4     .      +  \n",
       "5     .      +  \n",
       "6     .      +  \n",
       "7     .      +  \n",
       "8     .      +  \n",
       "9     .      +  "
      ]
     },
     "metadata": {},
     "output_type": "display_data"
    },
    {
     "data": {
      "text/html": [
       "<div>\n",
       "<style scoped>\n",
       "    .dataframe tbody tr th:only-of-type {\n",
       "        vertical-align: middle;\n",
       "    }\n",
       "\n",
       "    .dataframe tbody tr th {\n",
       "        vertical-align: top;\n",
       "    }\n",
       "\n",
       "    .dataframe thead th {\n",
       "        text-align: right;\n",
       "    }\n",
       "</style>\n",
       "<table border=\"1\" class=\"dataframe\">\n",
       "  <thead>\n",
       "    <tr style=\"text-align: right;\">\n",
       "      <th></th>\n",
       "      <th>chrom</th>\n",
       "      <th>start</th>\n",
       "      <th>end</th>\n",
       "      <th>name</th>\n",
       "      <th>score</th>\n",
       "      <th>strand</th>\n",
       "    </tr>\n",
       "  </thead>\n",
       "  <tbody>\n",
       "    <tr>\n",
       "      <th>0</th>\n",
       "      <td>chr1</td>\n",
       "      <td>17368</td>\n",
       "      <td>17436</td>\n",
       "      <td>ncRNA;MIR6859-1;miRNA;ENSG00000278267.1</td>\n",
       "      <td>.</td>\n",
       "      <td>-</td>\n",
       "    </tr>\n",
       "    <tr>\n",
       "      <th>1</th>\n",
       "      <td>chr1</td>\n",
       "      <td>34553</td>\n",
       "      <td>36081</td>\n",
       "      <td>lncRNA;FAM138A;lncRNA;ENSG00000237613.2</td>\n",
       "      <td>.</td>\n",
       "      <td>-</td>\n",
       "    </tr>\n",
       "    <tr>\n",
       "      <th>2</th>\n",
       "      <td>chr1</td>\n",
       "      <td>89294</td>\n",
       "      <td>89550</td>\n",
       "      <td>lncRNA;ENSG00000238009;lncRNA;ENSG00000238009.6</td>\n",
       "      <td>.</td>\n",
       "      <td>-</td>\n",
       "    </tr>\n",
       "    <tr>\n",
       "      <th>3</th>\n",
       "      <td>chr1</td>\n",
       "      <td>89550</td>\n",
       "      <td>91105</td>\n",
       "      <td>lncRNA;ENSG00000238009;lncRNA;ENSG00000238009....</td>\n",
       "      <td>.</td>\n",
       "      <td>-</td>\n",
       "    </tr>\n",
       "    <tr>\n",
       "      <th>4</th>\n",
       "      <td>chr1</td>\n",
       "      <td>91105</td>\n",
       "      <td>133723</td>\n",
       "      <td>lncRNA;ENSG00000238009;lncRNA;ENSG00000238009.6</td>\n",
       "      <td>.</td>\n",
       "      <td>-</td>\n",
       "    </tr>\n",
       "    <tr>\n",
       "      <th>5</th>\n",
       "      <td>chr1</td>\n",
       "      <td>139789</td>\n",
       "      <td>140339</td>\n",
       "      <td>lncRNA;ENSG00000239906;lncRNA;ENSG00000239906.1</td>\n",
       "      <td>.</td>\n",
       "      <td>-</td>\n",
       "    </tr>\n",
       "    <tr>\n",
       "      <th>6</th>\n",
       "      <td>chr1</td>\n",
       "      <td>141473</td>\n",
       "      <td>157783</td>\n",
       "      <td>lncRNA;ENSG00000241860;lncRNA;ENSG00000241860.7</td>\n",
       "      <td>.</td>\n",
       "      <td>-</td>\n",
       "    </tr>\n",
       "    <tr>\n",
       "      <th>7</th>\n",
       "      <td>chr1</td>\n",
       "      <td>157783</td>\n",
       "      <td>157887</td>\n",
       "      <td>ncRNA;RNU6-1100P;snRNA;ENSG00000222623.1</td>\n",
       "      <td>.</td>\n",
       "      <td>-</td>\n",
       "    </tr>\n",
       "    <tr>\n",
       "      <th>8</th>\n",
       "      <td>chr1</td>\n",
       "      <td>157887</td>\n",
       "      <td>173862</td>\n",
       "      <td>lncRNA;ENSG00000241860;lncRNA;ENSG00000241860.7</td>\n",
       "      <td>.</td>\n",
       "      <td>-</td>\n",
       "    </tr>\n",
       "    <tr>\n",
       "      <th>9</th>\n",
       "      <td>chr1</td>\n",
       "      <td>187890</td>\n",
       "      <td>187958</td>\n",
       "      <td>ncRNA;MIR6859-2;miRNA;ENSG00000273874.1</td>\n",
       "      <td>.</td>\n",
       "      <td>-</td>\n",
       "    </tr>\n",
       "  </tbody>\n",
       "</table>\n",
       "</div>"
      ],
      "text/plain": [
       "  chrom   start     end                                               name  \\\n",
       "0  chr1   17368   17436            ncRNA;MIR6859-1;miRNA;ENSG00000278267.1   \n",
       "1  chr1   34553   36081            lncRNA;FAM138A;lncRNA;ENSG00000237613.2   \n",
       "2  chr1   89294   89550    lncRNA;ENSG00000238009;lncRNA;ENSG00000238009.6   \n",
       "3  chr1   89550   91105  lncRNA;ENSG00000238009;lncRNA;ENSG00000238009....   \n",
       "4  chr1   91105  133723    lncRNA;ENSG00000238009;lncRNA;ENSG00000238009.6   \n",
       "5  chr1  139789  140339    lncRNA;ENSG00000239906;lncRNA;ENSG00000239906.1   \n",
       "6  chr1  141473  157783    lncRNA;ENSG00000241860;lncRNA;ENSG00000241860.7   \n",
       "7  chr1  157783  157887           ncRNA;RNU6-1100P;snRNA;ENSG00000222623.1   \n",
       "8  chr1  157887  173862    lncRNA;ENSG00000241860;lncRNA;ENSG00000241860.7   \n",
       "9  chr1  187890  187958            ncRNA;MIR6859-2;miRNA;ENSG00000273874.1   \n",
       "\n",
       "  score strand  \n",
       "0     .      -  \n",
       "1     .      -  \n",
       "2     .      -  \n",
       "3     .      -  \n",
       "4     .      -  \n",
       "5     .      -  \n",
       "6     .      -  \n",
       "7     .      -  \n",
       "8     .      -  \n",
       "9     .      -  "
      ]
     },
     "metadata": {},
     "output_type": "display_data"
    }
   ],
   "source": [
    "bed6_cols = [\"chrom\", \"start\", \"end\", \"name\", \"score\", \"strand\"]\n",
    "\n",
    "\n",
    "selected_annotation_set = \"complete\"\n",
    "\n",
    "filepath_minus = (\n",
    "    resource_dir\n",
    "    / \"general\"\n",
    "    / \"gene_annotations.hg38.gencode_v40\"\n",
    "    / f\"{selected_annotation_set}.non-overlap.annotated.minus.bed.gz\"\n",
    ")\n",
    "filepath_plus = (\n",
    "    resource_dir\n",
    "    / \"general\"\n",
    "    / \"gene_annotations.hg38.gencode_v40\"\n",
    "    / f\"{selected_annotation_set}.non-overlap.annotated.plus.bed.gz\"\n",
    ")\n",
    "\n",
    "gencode_minus = pd.read_csv(filepath_minus, sep=\"\\t\", compression=\"gzip\", header=None, comment=\"#\", names=bed6_cols)\n",
    "gencode_plus = pd.read_csv(filepath_plus, sep=\"\\t\", compression=\"gzip\", header=None, comment=\"#\", names=bed6_cols)\n",
    "\n",
    "display(gencode_plus.head(10))\n",
    "display(gencode_minus.head(10))\n"
   ]
  },
  {
   "cell_type": "markdown",
   "id": "057f80d9",
   "metadata": {},
   "source": [
    "## Demo - Load"
   ]
  },
  {
   "cell_type": "code",
   "execution_count": 6,
   "id": "5e337681",
   "metadata": {},
   "outputs": [],
   "source": [
    "filepath = \"../resources/parnet_encore_eclip/encode.filtered.hfds/\""
   ]
  },
  {
   "cell_type": "code",
   "execution_count": 7,
   "id": "bfa0b637",
   "metadata": {},
   "outputs": [
    {
     "data": {
      "application/vnd.jupyter.widget-view+json": {
       "model_id": "b6303921e10c40b2ad89f780e365e3fe",
       "version_major": 2,
       "version_minor": 0
      },
      "text/plain": [
       "Loading dataset from disk:   0%|          | 0/76 [00:00<?, ?it/s]"
      ]
     },
     "metadata": {},
     "output_type": "display_data"
    },
    {
     "data": {
      "application/vnd.jupyter.widget-view+json": {
       "model_id": "05bf66e474fb40efbc8ee8cd4e93f5d0",
       "version_major": 2,
       "version_minor": 0
      },
      "text/plain": [
       "Loading dataset from disk:   0%|          | 0/18 [00:00<?, ?it/s]"
      ]
     },
     "metadata": {},
     "output_type": "display_data"
    },
    {
     "name": "stdout",
     "output_type": "stream",
     "text": [
      "batch_input_data.keys()=dict_keys(['sequence'])\n",
      "len(batch_input_data['sequence'])=64\n",
      "torch.Size([64, 4, 600])\n",
      "\n",
      "\n",
      "batch_target_data.keys()=dict_keys(['total', 'control'])\n",
      "batch_target_data['total'].shape=torch.Size([64, 223, 600])\n",
      "batch_target_data['control'].shape=torch.Size([64, 223, 600])\n"
     ]
    }
   ],
   "source": [
    "# Load the data using the parnet library.\n",
    "test_dataset = parnet.data.datasets.HFDSDataset(filepath, split=\"test\")\n",
    "\n",
    "# Wrap in DataLoader\n",
    "test_loader = torch.utils.data.DataLoader(test_dataset, batch_size=64, shuffle=False)\n",
    "\n",
    "# Iterator ; we only want to inspect the first batch.\n",
    "for batch in test_loader:\n",
    "    batch_input_data, batch_target_data = batch[0], batch[1]\n",
    "\n",
    "    print(f\"{batch_input_data.keys()=}\")\n",
    "    print(f\"{len(batch_input_data['sequence'])=}\")\n",
    "    print(f\"{batch_input_data['sequence'].shape}\")\n",
    "\n",
    "    print(\"\\n\")\n",
    "\n",
    "    print(f\"{batch_target_data.keys()=}\")\n",
    "    print(f\"{batch_target_data['total'].shape=}\")\n",
    "    print(f\"{batch_target_data['control'].shape=}\")\n",
    "\n",
    "    break"
   ]
  },
  {
   "cell_type": "markdown",
   "id": "47487ff1",
   "metadata": {},
   "source": [
    "Expected: \n",
    "\n",
    "```python\n",
    "# Input data\n",
    "batch_input_data.keys()=dict_keys(['sequence'])\n",
    "len(batch_input_data['sequence'])=64\n",
    "torch.Size([64, 4, 600])\n",
    "\n",
    "# Target data\n",
    "batch_target_data.keys()=dict_keys(['total', 'control'])\n",
    "batch_target_data['total'].shape=torch.Size([64, 223, 600])\n",
    "batch_target_data['control'].shape=torch.Size([64, 223, 600])\n",
    "```"
   ]
  },
  {
   "cell_type": "markdown",
   "id": "300c465a",
   "metadata": {},
   "source": [
    "Input data: each of the 64 sequences in the batch are of length 600, with 4 channels (one for each nucleotide)\n",
    "\n",
    "Output data:\n",
    "\n",
    "- two tracks named \"total\" (for the eCLIP signal) and \"control\" (for the input control signal) for each of the 64 sequences. \n",
    "- each track is of length 600\n",
    "- there are 223 experiments (RBP_CELL-LINE)\n"
   ]
  },
  {
   "cell_type": "markdown",
   "id": "93e90cb6",
   "metadata": {},
   "source": [
    "NOTE: the input data actually contains more information, which may be useful to exploit.\n",
    "\n",
    "e.g. the `meta` dictionary contains the `name` of a given input region,\n",
    "which is actually built from the genomic coordinates of that region.\n",
    "\n",
    "This may be useful to augment the data with e.g. icSHAPE data."
   ]
  },
  {
   "cell_type": "code",
   "execution_count": 8,
   "id": "719201cf",
   "metadata": {},
   "outputs": [
    {
     "data": {
      "application/vnd.jupyter.widget-view+json": {
       "model_id": "d8592807954d4890be40742037a11098",
       "version_major": 2,
       "version_minor": 0
      },
      "text/plain": [
       "Loading dataset from disk:   0%|          | 0/76 [00:00<?, ?it/s]"
      ]
     },
     "metadata": {},
     "output_type": "display_data"
    },
    {
     "data": {
      "application/vnd.jupyter.widget-view+json": {
       "model_id": "6328275ae41443b882559000f12c3490",
       "version_major": 2,
       "version_minor": 0
      },
      "text/plain": [
       "Loading dataset from disk:   0%|          | 0/18 [00:00<?, ?it/s]"
      ]
     },
     "metadata": {},
     "output_type": "display_data"
    },
    {
     "name": "stdout",
     "output_type": "stream",
     "text": [
      "dict_keys(['meta', 'inputs', 'outputs'])\n",
      "element['inputs'].keys()=dict_keys(['sequence'])\n",
      "element['inputs']['sequence'].keys()=dict_keys(['indices', 'size', 'values'])\n",
      "element['inputs']['sequence']['values'][:10]=[1, 1, 1, 1, 1, 1, 1, 1, 1, 1]\n",
      "len(element['inputs']['sequence']['values'])=600\n"
     ]
    },
    {
     "data": {
      "text/plain": [
       "tensor([[  0.,   1.,   2.,  ..., 597., 598., 599.],\n",
       "        [  2.,   2.,   0.,  ...,   3.,   2.,   0.]])"
      ]
     },
     "metadata": {},
     "output_type": "display_data"
    },
    {
     "name": "stdout",
     "output_type": "stream",
     "text": [
      "{'name': b'chr8:8838703-8839303:-'}\n"
     ]
    }
   ],
   "source": [
    "test_dataset = load_from_disk(filepath)[\"test\"]\n",
    "element = next(iter(test_dataset))\n",
    "\n",
    "print(element.keys())\n",
    "print(f\"{element['inputs'].keys()=}\")\n",
    "print(f\"{element['inputs']['sequence'].keys()=}\")\n",
    "\n",
    "# TODO: make sure to parse correctly these elements.\n",
    "print(f\"{element['inputs']['sequence']['values'][:10]=}\")\n",
    "print(f\"{len(element['inputs']['sequence']['values'])=}\")\n",
    "display(torch.Tensor(element[\"inputs\"][\"sequence\"][\"indices\"]))\n",
    "\n",
    "print(element[\"meta\"])\n"
   ]
  },
  {
   "cell_type": "code",
   "execution_count": 9,
   "id": "09f7c0e1",
   "metadata": {},
   "outputs": [
    {
     "data": {
      "text/plain": [
       "[600, 4]"
      ]
     },
     "execution_count": 9,
     "metadata": {},
     "output_type": "execute_result"
    }
   ],
   "source": [
    "# TODO : parse correctly these elements\n",
    "\n",
    "element[\"inputs\"][\"sequence\"][\"size\"]"
   ]
  },
  {
   "cell_type": "markdown",
   "id": "93de3d89",
   "metadata": {},
   "source": [
    "## Annotate - check which genomic regions are covered by the input data"
   ]
  },
  {
   "cell_type": "markdown",
   "id": "b70754d7",
   "metadata": {},
   "source": [
    "Here : check whether the input data used to train the model is restricted to specific genomic regions.\n",
    "\n",
    "To do so: we will gather all the intervals metadata, and intersect them with GENCODE segmented regions."
   ]
  },
  {
   "cell_type": "markdown",
   "id": "32d5d09d",
   "metadata": {},
   "source": [
    "### Gather intervals metadata"
   ]
  },
  {
   "cell_type": "code",
   "execution_count": null,
   "id": "efd596ed",
   "metadata": {},
   "outputs": [
    {
     "data": {
      "application/vnd.jupyter.widget-view+json": {
       "model_id": "e8a97e2552a2451e8f8d1dfaea54a439",
       "version_major": 2,
       "version_minor": 0
      },
      "text/plain": [
       "Loading dataset from disk:   0%|          | 0/76 [00:00<?, ?it/s]"
      ]
     },
     "metadata": {},
     "output_type": "display_data"
    },
    {
     "data": {
      "application/vnd.jupyter.widget-view+json": {
       "model_id": "041ca47be93642a3a7b3525be61094a3",
       "version_major": 2,
       "version_minor": 0
      },
      "text/plain": [
       "Loading dataset from disk:   0%|          | 0/18 [00:00<?, ?it/s]"
      ]
     },
     "metadata": {},
     "output_type": "display_data"
    }
   ],
   "source": [
    "intervals = []\n",
    "\n",
    "test_dataset = load_from_disk(filepath)[\"test\"]\n",
    "for element in iter(test_dataset):\n",
    "    name = element[\"meta\"][\"name\"].decode(\"utf-8\")\n",
    "\n",
    "    # Parse into a bed6\n",
    "    chrom, start_end, strand = name.split(\":\")\n",
    "    start, end = map(int, start_end.split(\"-\"))\n",
    "\n",
    "    interval = pd.Series(\n",
    "        {\n",
    "            \"chrom\": chrom,\n",
    "            \"start\": start,\n",
    "            \"end\": end,\n",
    "            \"name\": name,\n",
    "            \"score\": 0,  # Placeholder score\n",
    "            \"strand\": strand,\n",
    "        }\n",
    "    )\n",
    "    intervals.append(interval)"
   ]
  },
  {
   "cell_type": "code",
   "execution_count": 21,
   "id": "3c3a83b5",
   "metadata": {},
   "outputs": [],
   "source": [
    "intervals_df = pd.DataFrame(intervals, columns=bed6_cols).sort_values(by=[\"chrom\", \"start\"])"
   ]
  },
  {
   "cell_type": "markdown",
   "id": "924929e5",
   "metadata": {},
   "source": [
    "### Annotate with GENCODE segments"
   ]
  },
  {
   "cell_type": "code",
   "execution_count": 33,
   "id": "b79ef9d4",
   "metadata": {},
   "outputs": [],
   "source": [
    "intervals_df_minus = intervals_df[intervals_df[\"strand\"] == \"-\"].sort_values(by=[\"chrom\", \"start\"])\n",
    "intervals_df_plus = intervals_df[intervals_df[\"strand\"] == \"+\"].sort_values(by=[\"chrom\", \"start\"])"
   ]
  },
  {
   "cell_type": "code",
   "execution_count": null,
   "id": "89220030",
   "metadata": {},
   "outputs": [],
   "source": [
    "bt_intervals_df_minus = pbt.BedTool.from_dataframe(intervals_df_minus)\n",
    "intersect_minus = bt_intervals_df_minus.intersect(\n",
    "    pbt.BedTool.from_dataframe(gencode_minus), wao=True, s=True\n",
    ").to_dataframe(names=[\"a.\" + c for c in bed6_cols] + [\"b.\" + c for c in bed6_cols] + [\"ol\"])\n",
    "\n",
    "bt_intervals_df_plus = pbt.BedTool.from_dataframe(intervals_df_plus)\n",
    "intersect_plus = bt_intervals_df_plus.intersect(\n",
    "    pbt.BedTool.from_dataframe(gencode_plus), wao=True, s=True\n",
    ").to_dataframe(names=[\"a.\" + c for c in bed6_cols] + [\"b.\" + c for c in bed6_cols] + [\"ol\"])"
   ]
  },
  {
   "cell_type": "code",
   "execution_count": 42,
   "id": "ffea4de0",
   "metadata": {},
   "outputs": [],
   "source": [
    "# Here: for each 600nt window, keep only the largest overlap with a genomic annotation.\n",
    "\n",
    "\n",
    "unique_intersect_minus = (\n",
    "    intersect_minus.sort_values(by=[\"a.name\", \"ol\"], ascending=[True, False])\n",
    "    .drop_duplicates(subset=[\"a.chrom\", \"a.start\", \"a.end\", \"a.name\"], keep=\"first\")\n",
    "    .reset_index(drop=True)\n",
    ")\n",
    "\n",
    "unique_intersect_plus = (\n",
    "    intersect_plus.sort_values(by=[\"a.name\", \"ol\"], ascending=[True, False])\n",
    "    .drop_duplicates(subset=[\"a.chrom\", \"a.start\", \"a.end\", \"a.name\"], keep=\"first\")\n",
    "    .reset_index(drop=True)\n",
    ")"
   ]
  },
  {
   "cell_type": "code",
   "execution_count": 44,
   "id": "c8511ac4",
   "metadata": {},
   "outputs": [
    {
     "data": {
      "text/plain": [
       "(0.9969896182510496, 0.9945260269173503)"
      ]
     },
     "execution_count": 44,
     "metadata": {},
     "output_type": "execute_result"
    }
   ],
   "source": [
    "(intersect_plus[\"ol\"] != 0).sum() / len(intersect_plus), (intersect_minus[\"ol\"] != 0).sum() / len(intersect_minus)"
   ]
  },
  {
   "cell_type": "code",
   "execution_count": 50,
   "id": "533f6307",
   "metadata": {},
   "outputs": [
    {
     "data": {
      "text/plain": [
       "b.name\n",
       "intron             55100\n",
       "lncRNA              6422\n",
       "three_prime_UTR     4215\n",
       "exon                2391\n",
       "CDS                 1193\n",
       "five_prime_UTR       682\n",
       ".                    560\n",
       "ncRNA                 63\n",
       "Name: count, dtype: int64"
      ]
     },
     "execution_count": 50,
     "metadata": {},
     "output_type": "execute_result"
    }
   ],
   "source": [
    "# Here, showing the total number of unique genomic annotations in which the 600nt windows overlap\n",
    "# This was mostly to verify that intronic regions are indeed considered.\n",
    "(\n",
    "    unique_intersect_minus[\"b.name\"].str.split(\";\").str[0].value_counts()\n",
    "    + unique_intersect_plus[\"b.name\"].str.split(\";\").str[0].value_counts()\n",
    ")"
   ]
  }
 ],
 "metadata": {
  "kernelspec": {
   "display_name": "parnet-demo",
   "language": "python",
   "name": "python3"
  },
  "language_info": {
   "codemirror_mode": {
    "name": "ipython",
    "version": 3
   },
   "file_extension": ".py",
   "mimetype": "text/x-python",
   "name": "python",
   "nbconvert_exporter": "python",
   "pygments_lexer": "ipython3",
   "version": "3.10.18"
  }
 },
 "nbformat": 4,
 "nbformat_minor": 5
}
