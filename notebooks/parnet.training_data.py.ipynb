{
 "cells": [
  {
   "cell_type": "code",
   "execution_count": null,
   "id": "7c1a064b",
   "metadata": {
    "tags": [
     "parameters"
    ]
   },
   "outputs": [],
   "source": []
  },
  {
   "cell_type": "markdown",
   "id": "4b1767db",
   "metadata": {},
   "source": [
    "# PARNET - training data"
   ]
  },
  {
   "cell_type": "markdown",
   "id": "fa330a1a",
   "metadata": {},
   "source": [
    "## Overview"
   ]
  },
  {
   "cell_type": "code",
   "execution_count": null,
   "id": "356107d7",
   "metadata": {},
   "outputs": [],
   "source": []
  },
  {
   "cell_type": "markdown",
   "id": "1f38fdce",
   "metadata": {},
   "source": [
    "## Imports"
   ]
  },
  {
   "cell_type": "code",
   "execution_count": 40,
   "id": "60322b79",
   "metadata": {},
   "outputs": [],
   "source": [
    "import os\n",
    "import sys\n",
    "from pathlib import Path\n",
    "\n",
    "import parnet\n",
    "import parnet.additional_utils\n",
    "import parnet.data\n",
    "import parnet.utils\n",
    "import torch\n",
    "import torch.utils\n",
    "import yaml\n",
    "from datasets import load_from_disk"
   ]
  },
  {
   "cell_type": "markdown",
   "id": "057f80d9",
   "metadata": {},
   "source": [
    "## Load"
   ]
  },
  {
   "cell_type": "code",
   "execution_count": 27,
   "id": "5e337681",
   "metadata": {},
   "outputs": [],
   "source": [
    "filepath = \"../resources/parnet_encore_eclip/encode.filtered.hfds/\""
   ]
  },
  {
   "cell_type": "code",
   "execution_count": 34,
   "id": "bfa0b637",
   "metadata": {},
   "outputs": [
    {
     "data": {
      "application/vnd.jupyter.widget-view+json": {
       "model_id": "4067e83065e54b18ae09669cf130de1c",
       "version_major": 2,
       "version_minor": 0
      },
      "text/plain": [
       "Loading dataset from disk:   0%|          | 0/76 [00:00<?, ?it/s]"
      ]
     },
     "metadata": {},
     "output_type": "display_data"
    },
    {
     "data": {
      "application/vnd.jupyter.widget-view+json": {
       "model_id": "a4b7bafe48be4148aee69ac69fb83e84",
       "version_major": 2,
       "version_minor": 0
      },
      "text/plain": [
       "Loading dataset from disk:   0%|          | 0/18 [00:00<?, ?it/s]"
      ]
     },
     "metadata": {},
     "output_type": "display_data"
    },
    {
     "name": "stdout",
     "output_type": "stream",
     "text": [
      "batch_input_data.keys()=dict_keys(['sequence'])\n",
      "len(batch_input_data['sequence'])=64\n",
      "torch.Size([64, 4, 600])\n",
      "\n",
      "\n",
      "batch_target_data.keys()=dict_keys(['total', 'control'])\n",
      "batch_target_data['total'].shape=torch.Size([64, 223, 600])\n",
      "batch_target_data['control'].shape=torch.Size([64, 223, 600])\n"
     ]
    }
   ],
   "source": [
    "# Load the data using the parnet library.\n",
    "test_dataset = parnet.data.datasets.HFDSDataset(filepath, split=\"test\")\n",
    "\n",
    "# Wrap in DataLoader\n",
    "test_loader = torch.utils.data.DataLoader(test_dataset, batch_size=64, shuffle=False)\n",
    "\n",
    "# Iterator ; we only want to inspect the first batch.\n",
    "for batch in test_loader:\n",
    "    batch_input_data, batch_target_data = batch[0], batch[1]\n",
    "\n",
    "    print(f\"{batch_input_data.keys()=}\")\n",
    "    print(f\"{len(batch_input_data['sequence'])=}\")\n",
    "    print(f\"{batch_input_data['sequence'].shape}\")\n",
    "\n",
    "    print(\"\\n\")\n",
    "\n",
    "    print(f\"{batch_target_data.keys()=}\")\n",
    "    print(f\"{batch_target_data['total'].shape=}\")\n",
    "    print(f\"{batch_target_data['control'].shape=}\")\n",
    "\n",
    "    break"
   ]
  },
  {
   "cell_type": "markdown",
   "id": "47487ff1",
   "metadata": {},
   "source": [
    "Expected: \n",
    "\n",
    "```python\n",
    "# Input data\n",
    "batch_input_data.keys()=dict_keys(['sequence'])\n",
    "len(batch_input_data['sequence'])=64\n",
    "torch.Size([64, 4, 600])\n",
    "\n",
    "# Target data\n",
    "batch_target_data.keys()=dict_keys(['total', 'control'])\n",
    "batch_target_data['total'].shape=torch.Size([64, 223, 600])\n",
    "batch_target_data['control'].shape=torch.Size([64, 223, 600])\n",
    "```"
   ]
  },
  {
   "cell_type": "markdown",
   "id": "300c465a",
   "metadata": {},
   "source": [
    "Input data: each of the 64 sequences in the batch are of length 600, with 4 channels (one for each nucleotide)\n",
    "\n",
    "Output data:\n",
    "\n",
    "- two tracks named \"total\" (for the eCLIP signal) and \"control\" (for the input control signal) for each of the 64 sequences. \n",
    "- each track is of length 600\n",
    "- there are 223 experiments (RBP_CELL-LINE)\n"
   ]
  },
  {
   "cell_type": "markdown",
   "id": "93e90cb6",
   "metadata": {},
   "source": [
    "NOTE: the input data actually contains more information, which may be useful to exploit.\n",
    "\n",
    "e.g. the `meta` dictionary contains the `name` of a given input region,\n",
    "which is actually built from the genomic coordinates of that region.\n",
    "\n",
    "This may be useful to augment the data with e.g. icSHAPE data."
   ]
  },
  {
   "cell_type": "code",
   "execution_count": null,
   "id": "719201cf",
   "metadata": {},
   "outputs": [
    {
     "data": {
      "application/vnd.jupyter.widget-view+json": {
       "model_id": "29a7fa6db817444f9aa355e76524bd65",
       "version_major": 2,
       "version_minor": 0
      },
      "text/plain": [
       "Loading dataset from disk:   0%|          | 0/76 [00:00<?, ?it/s]"
      ]
     },
     "metadata": {},
     "output_type": "display_data"
    },
    {
     "data": {
      "application/vnd.jupyter.widget-view+json": {
       "model_id": "fd3b360ab07d4d1a98d666790435322d",
       "version_major": 2,
       "version_minor": 0
      },
      "text/plain": [
       "Loading dataset from disk:   0%|          | 0/18 [00:00<?, ?it/s]"
      ]
     },
     "metadata": {},
     "output_type": "display_data"
    },
    {
     "name": "stdout",
     "output_type": "stream",
     "text": [
      "dict_keys(['meta', 'inputs', 'outputs'])\n",
      "element['inputs'].keys()=dict_keys(['sequence'])\n",
      "element['inputs']['sequence'].keys()=dict_keys(['indices', 'size', 'values'])\n",
      "element['inputs']['sequence']['values'][:10]=[1, 1, 1, 1, 1, 1, 1, 1, 1, 1]\n",
      "len(element['inputs']['sequence']['values'])=600\n"
     ]
    },
    {
     "data": {
      "text/plain": [
       "tensor([[  0.,   1.,   2.,  ..., 597., 598., 599.],\n",
       "        [  2.,   2.,   0.,  ...,   3.,   2.,   0.]])"
      ]
     },
     "metadata": {},
     "output_type": "display_data"
    },
    {
     "name": "stdout",
     "output_type": "stream",
     "text": [
      "{'name': b'chr8:8838703-8839303:-'}\n"
     ]
    }
   ],
   "source": [
    "test_dataset = load_from_disk(filepath)[\"test\"]\n",
    "element = next(iter(test_dataset))\n",
    "\n",
    "print(element.keys())\n",
    "print(f\"{element['inputs'].keys()=}\")\n",
    "print(f\"{element['inputs']['sequence'].keys()=}\")\n",
    "\n",
    "# TODO: make sure to parse correctly these elements.\n",
    "print(f\"{element['inputs']['sequence']['values'][:10]=}\")\n",
    "print(f\"{len(element['inputs']['sequence']['values'])=}\")\n",
    "display(torch.Tensor(element[\"inputs\"][\"sequence\"][\"indices\"]))\n",
    "\n",
    "print(element[\"meta\"])\n"
   ]
  },
  {
   "cell_type": "code",
   "execution_count": 73,
   "id": "09f7c0e1",
   "metadata": {},
   "outputs": [
    {
     "data": {
      "text/plain": [
       "[600, 4]"
      ]
     },
     "execution_count": 73,
     "metadata": {},
     "output_type": "execute_result"
    }
   ],
   "source": [
    "# TODO : parse correctly these elements\n",
    "\n",
    "element[\"inputs\"][\"sequence\"][\"size\"]"
   ]
  }
 ],
 "metadata": {
  "kernelspec": {
   "display_name": "parnet-demo",
   "language": "python",
   "name": "python3"
  },
  "language_info": {
   "codemirror_mode": {
    "name": "ipython",
    "version": 3
   },
   "file_extension": ".py",
   "mimetype": "text/x-python",
   "name": "python",
   "nbconvert_exporter": "python",
   "pygments_lexer": "ipython3",
   "version": "3.10.18"
  }
 },
 "nbformat": 4,
 "nbformat_minor": 5
}
