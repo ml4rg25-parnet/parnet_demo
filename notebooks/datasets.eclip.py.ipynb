{
 "cells": [
  {
   "cell_type": "code",
   "execution_count": 1,
   "id": "ea951b99",
   "metadata": {
    "tags": [
     "parameters"
    ]
   },
   "outputs": [],
   "source": [
    "params_notebook_name = \"datasets.eclip.py.ipynb\"\n",
    "params_resource_dir = \"../resources/\"\n",
    "params_subset_chroms = [\n",
    "    \"chr12\",\n",
    "]\n",
    "\n",
    "params_subset_rbp_cl = [\n",
    "    \"QKI_HepG2\",\n",
    "    \"QKI_K562\",\n",
    "    \"PTBP1_HepG2\",\n",
    "    \"SRSF7_HepG2\",\n",
    "]\n",
    "\n",
    "params_tmp_dir = None"
   ]
  },
  {
   "cell_type": "markdown",
   "id": "c73a19f1",
   "metadata": {},
   "source": [
    "# Datasets - eCLIP datasets"
   ]
  },
  {
   "cell_type": "markdown",
   "id": "6103c4d5",
   "metadata": {},
   "source": [
    "## Overview"
   ]
  },
  {
   "cell_type": "code",
   "execution_count": null,
   "id": "a9ba9c80",
   "metadata": {},
   "outputs": [],
   "source": []
  },
  {
   "cell_type": "markdown",
   "id": "373c44e0",
   "metadata": {},
   "source": [
    "## Imports"
   ]
  },
  {
   "cell_type": "code",
   "execution_count": 2,
   "id": "5c2f07b6",
   "metadata": {},
   "outputs": [],
   "source": [
    "import dataclasses\n",
    "import os\n",
    "import sys\n",
    "import tempfile\n",
    "from io import StringIO\n",
    "from numbers import Number\n",
    "from pathlib import Path\n",
    "from typing import Literal\n",
    "\n",
    "import numpy as np\n",
    "import pandas as pd\n",
    "import pybedtools as pbt\n",
    "import pyBigWig as pbw\n",
    "import pydantic.dataclasses\n",
    "import pyfaidx\n",
    "from Bio import SeqIO\n",
    "from Bio.Seq import Seq\n",
    "from Bio.SeqRecord import SeqRecord\n",
    "from dotenv import find_dotenv, load_dotenv\n",
    "from IPython.display import HTML, SVG, Image, display\n",
    "from pydantic.dataclasses import dataclass\n",
    "from snakemake.io import glob_wildcards"
   ]
  },
  {
   "cell_type": "code",
   "execution_count": 3,
   "id": "5ef0fe86",
   "metadata": {},
   "outputs": [],
   "source": [
    "import matplotlib as mpl\n",
    "import matplotlib.font_manager\n",
    "import matplotlib.pyplot as plt\n",
    "import seaborn as sns\n",
    "from matplotlib import rc\n",
    "\n",
    "try:\n",
    "    matplotlib.font_manager.findfont(\"Arial\")\n",
    "    mpl.rcParams[\"font.sans-serif\"] = [\"Arial\"]\n",
    "except Exception as e:\n",
    "    print(\"Setting Arial font failed in some way...\")\n",
    "    print(e)\n",
    "\n",
    "rc(\"text\", usetex=False)"
   ]
  },
  {
   "cell_type": "code",
   "execution_count": 4,
   "id": "f74f07ab",
   "metadata": {},
   "outputs": [
    {
     "name": "stdout",
     "output_type": "stream",
     "text": [
      "Confirmed CWD: /home/l10n/projects/ml4rg25-parnet/parnet_demo/notebooks contains expected file: datasets.eclip.py.ipynb\n",
      "/home/l10n/projects/ml4rg25-parnet/parnet_demo/notebooks\n"
     ]
    }
   ],
   "source": [
    "def assert_notebook_working_dir(expected_local_file: os.PathLike) -> Path:\n",
    "    \"\"\"Assert or try updating the current working directory to where the notebook is located, to enable relative paths references.\n",
    "\n",
    "    This function is used in a set-up where notebooks are contained within a project\n",
    "    directory structure in which we want to reference filepaths relative to the notebook.\n",
    "    e.g. \"../src\" or \"../resources\" should be accessible if the notebook is in\n",
    "    \"../notebooks/<notebook_name>.ipynb\".\n",
    "\n",
    "    The function first check the filepath of the expected local file relative\n",
    "    to the current working directory.\n",
    "\n",
    "    If not found, the function will try to use the VSCode Jupyter variable `__vsc_ipynb_file__`\n",
    "    which should report the path of the notebook file being executed.\n",
    "\n",
    "    It then checks if the expected local file exists, relative to the new working directory.\n",
    "\n",
    "\n",
    "    Args:\n",
    "        expected_local_file (os.PathLike): The expected local file to check for in the current working directory.\n",
    "            This can be the name of the notebook file.\n",
    "\n",
    "    Raises:\n",
    "        KeyError: if the `__vsc_ipynb_file__` variable is not found in the global scope, while the first CWD check failed.\n",
    "        FileNotFoundError: if the expected local file is not found in the current working directory after attempting to change it.\n",
    "    \"\"\"\n",
    "    import os\n",
    "    from pathlib import Path\n",
    "\n",
    "    cwd = Path(os.getcwd())\n",
    "    expected_local_filepath = cwd / expected_local_file\n",
    "\n",
    "    if not expected_local_filepath.exists():\n",
    "        if \"__vsc_ipynb_file__\" not in globals():\n",
    "            raise KeyError(\n",
    "                f\"Detected CWD: {cwd} ; CWD does not contain expected file, but cannot use __vsc_ipynb_file__ to recover.\"\n",
    "            )\n",
    "        else:\n",
    "            os.chdir(Path(globals()[\"__vsc_ipynb_file__\"]).parent)\n",
    "            cwd = Path(os.getcwd())\n",
    "            print(f\"Changed CWD to {cwd}\")\n",
    "\n",
    "            expected_local_filepath = cwd / expected_local_file\n",
    "            if not expected_local_filepath.exists():\n",
    "                raise FileNotFoundError(\n",
    "                    f\"Updated (using __vsc_ipynb_file__) CWD: {cwd} ; CWD does not contain expected file.\"\n",
    "                )\n",
    "\n",
    "            return cwd\n",
    "    else:\n",
    "        print(f\"Confirmed CWD: {cwd} contains expected file: {expected_local_file}\")\n",
    "        return cwd\n",
    "\n",
    "\n",
    "expected_local_file: str = params_notebook_name\n",
    "cwd = assert_notebook_working_dir(expected_local_file=expected_local_file)\n",
    "print(cwd)"
   ]
  },
  {
   "cell_type": "markdown",
   "id": "a8103b76",
   "metadata": {},
   "source": [
    "## Initialization"
   ]
  },
  {
   "cell_type": "code",
   "execution_count": 5,
   "id": "e349ea24",
   "metadata": {},
   "outputs": [
    {
     "data": {
      "text/plain": [
       "False"
      ]
     },
     "execution_count": 5,
     "metadata": {},
     "output_type": "execute_result"
    }
   ],
   "source": [
    "# Env variables, defined in the `.env` file at the root of the project directory.\n",
    "load_dotenv(find_dotenv(), override=True)"
   ]
  },
  {
   "cell_type": "code",
   "execution_count": 7,
   "id": "a40176ea",
   "metadata": {},
   "outputs": [
    {
     "name": "stdout",
     "output_type": "stream",
     "text": [
      "Using resources from: ../resources\n"
     ]
    }
   ],
   "source": [
    "resource_dir = Path(params_resource_dir)\n",
    "if not resource_dir.exists():\n",
    "    raise FileNotFoundError(\"Resource directory does not exist: \" + str(resource_dir))\n",
    "\n",
    "print(\"Using resources from:\", resource_dir)"
   ]
  },
  {
   "cell_type": "code",
   "execution_count": 8,
   "id": "273504eb",
   "metadata": {},
   "outputs": [],
   "source": [
    "bed6_cols = [\"chrom\", \"start\", \"end\", \"name\", \"score\", \"strand\"]"
   ]
  },
  {
   "cell_type": "code",
   "execution_count": 9,
   "id": "778fa2c4",
   "metadata": {},
   "outputs": [
    {
     "name": "stdout",
     "output_type": "stream",
     "text": [
      "Using temporary directory for pyBedTools: /tmp/tmp5hbkvhqa\n"
     ]
    }
   ],
   "source": [
    "# Caution: pyBedTools relies on tmp dir, which can get quite large.\n",
    "def create_randomized_tmp_dir() -> str:\n",
    "    # Get the parent tmp dir where to create a randomized tmp dir.\n",
    "\n",
    "    parent_tmp_dir = None\n",
    "\n",
    "    # Default system value\n",
    "    parent_tmp_dir = Path(tempfile.gettempdir())\n",
    "    if params_tmp_dir is not None:\n",
    "        parent_tmp_dir = Path(params_tmp_dir)\n",
    "\n",
    "    if os.getenv(\"TMP_DIR\") is not None:\n",
    "        parent_tmp_dir = Path(os.getenv(\"TMP_DIR\"))\n",
    "\n",
    "    if os.getenv(\"TMP\") is not None:\n",
    "        parent_tmp_dir = Path(os.getenv(\"TMP\"))\n",
    "\n",
    "    if parent_tmp_dir is None:\n",
    "        raise ValueError(\"No temporary directory specified or found.\")\n",
    "\n",
    "    # Test write access to the parent tmp dir\n",
    "    if not parent_tmp_dir.is_dir():\n",
    "        raise NotADirectoryError(f\"Parent tmp dir is not a directory: {parent_tmp_dir}\")\n",
    "\n",
    "    if not os.access(parent_tmp_dir, os.W_OK):\n",
    "        raise PermissionError(f\"Parent tmp dir is not writable: {parent_tmp_dir}\")\n",
    "\n",
    "    # Make a randomized tmp dir\n",
    "    tmp_dir = tempfile.mkdtemp(dir=parent_tmp_dir)\n",
    "    return tmp_dir\n",
    "\n",
    "\n",
    "tmp_dir = create_randomized_tmp_dir()\n",
    "print(\"Using temporary directory for pyBedTools:\", tmp_dir)\n",
    "\n",
    "pbt.set_tempdir(tmp_dir)"
   ]
  },
  {
   "cell_type": "markdown",
   "id": "b9c147cd",
   "metadata": {},
   "source": [
    "## Load general datasets"
   ]
  },
  {
   "cell_type": "markdown",
   "id": "59274dbd",
   "metadata": {},
   "source": [
    "### Genome data"
   ]
  },
  {
   "cell_type": "code",
   "execution_count": 10,
   "id": "2aa15536",
   "metadata": {},
   "outputs": [
    {
     "name": "stdout",
     "output_type": "stream",
     "text": [
      "Loading the \"genome file\" from: ../resources/general/genome/hg38.chrom.sizes\n"
     ]
    }
   ],
   "source": [
    "filepath = resource_dir / \"general\" / \"genome\" / \"hg38.chrom.sizes\"\n",
    "print('Loading the \"genome file\" from:', filepath)\n",
    "\n",
    "genome_file = pd.read_csv(filepath, header=None, sep=\"\\t\")\n",
    "genome_file.columns = [\"chrom\", \"size\"]\n",
    "\n",
    "main_autosomes = [f\"chr{i}\" for i in range(1, 23)]\n",
    "sex_chromosomes = [\"chrX\", \"chrY\"]\n",
    "mitochondrial_chromosome = [\"chrM\"]\n",
    "main_chromosomes = list(set(main_autosomes) | set(sex_chromosomes) | set(mitochondrial_chromosome))\n"
   ]
  },
  {
   "cell_type": "code",
   "execution_count": 11,
   "id": "875f1566",
   "metadata": {},
   "outputs": [],
   "source": [
    "# We also load the genome FASTA file, to demonstrate basic sequence enrichment analysis.\n",
    "fa = pyfaidx.Fasta(resource_dir / \"general\" / \"genome\" / \"hg38.fa.gz\")"
   ]
  },
  {
   "cell_type": "markdown",
   "id": "df5b92d7",
   "metadata": {},
   "source": [
    "### Gene annotations"
   ]
  },
  {
   "cell_type": "markdown",
   "id": "472a3967",
   "metadata": {},
   "source": [
    "We will load MANE reference transcripts and genome chrom sizes to define ranges of regions to look into."
   ]
  },
  {
   "cell_type": "code",
   "execution_count": 12,
   "id": "b1d7951a",
   "metadata": {},
   "outputs": [],
   "source": [
    "filepath = (\n",
    "    resource_dir / \"general\" / \"gene_annotations.hg38.MANE_v1.4\" / \"MANE.GRCh38.v1.4.ensembl_genomic.transcripts.bed.gz\"\n",
    ")\n",
    "\n",
    "# Rather than load the file, we will query it with bedtools,\n",
    "bt_transcripts = pbt.BedTool(filepath)\n",
    "bt_transcripts = bt_transcripts.tabix()\n",
    "\n",
    "bt_genome = pbt.BedTool.from_dataframe(\n",
    "    genome_file.loc[lambda df: df[\"chrom\"].isin(params_subset_chroms), :]\n",
    "    .assign(start=0, end=lambda df: df[\"size\"])\n",
    "    .loc[:, [\"chrom\", \"start\", \"end\"]]\n",
    ")\n",
    "\n",
    "\n",
    "mane_transcripts = bt_transcripts.intersect(bt_genome).to_dataframe()"
   ]
  },
  {
   "cell_type": "code",
   "execution_count": 13,
   "id": "38b31661",
   "metadata": {},
   "outputs": [
    {
     "data": {
      "text/html": [
       "<div>\n",
       "<style scoped>\n",
       "    .dataframe tbody tr th:only-of-type {\n",
       "        vertical-align: middle;\n",
       "    }\n",
       "\n",
       "    .dataframe tbody tr th {\n",
       "        vertical-align: top;\n",
       "    }\n",
       "\n",
       "    .dataframe thead th {\n",
       "        text-align: right;\n",
       "    }\n",
       "</style>\n",
       "<table border=\"1\" class=\"dataframe\">\n",
       "  <thead>\n",
       "    <tr style=\"text-align: right;\">\n",
       "      <th></th>\n",
       "      <th>chrom</th>\n",
       "      <th>start</th>\n",
       "      <th>end</th>\n",
       "      <th>name</th>\n",
       "      <th>score</th>\n",
       "      <th>strand</th>\n",
       "    </tr>\n",
       "  </thead>\n",
       "  <tbody>\n",
       "    <tr>\n",
       "      <th>0</th>\n",
       "      <td>chr12</td>\n",
       "      <td>66766</td>\n",
       "      <td>178455</td>\n",
       "      <td>ENST00000538872.6</td>\n",
       "      <td>.</td>\n",
       "      <td>+</td>\n",
       "    </tr>\n",
       "    <tr>\n",
       "      <th>1</th>\n",
       "      <td>chr12</td>\n",
       "      <td>190080</td>\n",
       "      <td>214157</td>\n",
       "      <td>ENST00000684302.1</td>\n",
       "      <td>.</td>\n",
       "      <td>-</td>\n",
       "    </tr>\n",
       "    <tr>\n",
       "      <th>2</th>\n",
       "      <td>chr12</td>\n",
       "      <td>220621</td>\n",
       "      <td>262836</td>\n",
       "      <td>ENST00000343164.9</td>\n",
       "      <td>.</td>\n",
       "      <td>-</td>\n",
       "    </tr>\n",
       "  </tbody>\n",
       "</table>\n",
       "</div>"
      ],
      "text/plain": [
       "   chrom   start     end               name score strand\n",
       "0  chr12   66766  178455  ENST00000538872.6     .      +\n",
       "1  chr12  190080  214157  ENST00000684302.1     .      -\n",
       "2  chr12  220621  262836  ENST00000343164.9     .      -"
      ]
     },
     "metadata": {},
     "output_type": "display_data"
    },
    {
     "name": "stdout",
     "output_type": "stream",
     "text": [
      "Number of MANE transcripts: 1008\n"
     ]
    }
   ],
   "source": [
    "display(mane_transcripts.head(3))\n",
    "print(\"Number of MANE transcripts:\", len(mane_transcripts))"
   ]
  },
  {
   "cell_type": "markdown",
   "id": "45e3b127",
   "metadata": {},
   "source": [
    "We also load the GENCODE datasets:\n",
    "\n",
    "- gene metadata table\n",
    "- gene type metadata table\n",
    "- non-overlapping, biotype annotated intervals for plus and minus strands"
   ]
  },
  {
   "cell_type": "code",
   "execution_count": 14,
   "id": "79811131",
   "metadata": {},
   "outputs": [
    {
     "data": {
      "text/html": [
       "<div>\n",
       "<style scoped>\n",
       "    .dataframe tbody tr th:only-of-type {\n",
       "        vertical-align: middle;\n",
       "    }\n",
       "\n",
       "    .dataframe tbody tr th {\n",
       "        vertical-align: top;\n",
       "    }\n",
       "\n",
       "    .dataframe thead th {\n",
       "        text-align: right;\n",
       "    }\n",
       "</style>\n",
       "<table border=\"1\" class=\"dataframe\">\n",
       "  <thead>\n",
       "    <tr style=\"text-align: right;\">\n",
       "      <th></th>\n",
       "      <th>transcript_id</th>\n",
       "      <th>gene_id</th>\n",
       "      <th>gene_name</th>\n",
       "      <th>gene_type</th>\n",
       "      <th>protein_id</th>\n",
       "      <th>official_name</th>\n",
       "      <th>official_id</th>\n",
       "    </tr>\n",
       "  </thead>\n",
       "  <tbody>\n",
       "    <tr>\n",
       "      <th>0</th>\n",
       "      <td>ENST00000456328.2</td>\n",
       "      <td>ENSG00000223972.5</td>\n",
       "      <td>DDX11L1</td>\n",
       "      <td>transcribed_unprocessed_pseudogene</td>\n",
       "      <td>NaN</td>\n",
       "      <td>DDX11L1</td>\n",
       "      <td>HGNC:37102</td>\n",
       "    </tr>\n",
       "    <tr>\n",
       "      <th>1</th>\n",
       "      <td>ENST00000450305.2</td>\n",
       "      <td>ENSG00000223972.5</td>\n",
       "      <td>DDX11L1</td>\n",
       "      <td>transcribed_unprocessed_pseudogene</td>\n",
       "      <td>NaN</td>\n",
       "      <td>DDX11L1</td>\n",
       "      <td>HGNC:37102</td>\n",
       "    </tr>\n",
       "    <tr>\n",
       "      <th>2</th>\n",
       "      <td>ENST00000488147.1</td>\n",
       "      <td>ENSG00000227232.5</td>\n",
       "      <td>WASH7P</td>\n",
       "      <td>unprocessed_pseudogene</td>\n",
       "      <td>NaN</td>\n",
       "      <td>WASH7P</td>\n",
       "      <td>HGNC:38034</td>\n",
       "    </tr>\n",
       "  </tbody>\n",
       "</table>\n",
       "</div>"
      ],
      "text/plain": [
       "       transcript_id            gene_id gene_name  \\\n",
       "0  ENST00000456328.2  ENSG00000223972.5   DDX11L1   \n",
       "1  ENST00000450305.2  ENSG00000223972.5   DDX11L1   \n",
       "2  ENST00000488147.1  ENSG00000227232.5    WASH7P   \n",
       "\n",
       "                            gene_type protein_id official_name official_id  \n",
       "0  transcribed_unprocessed_pseudogene        NaN       DDX11L1  HGNC:37102  \n",
       "1  transcribed_unprocessed_pseudogene        NaN       DDX11L1  HGNC:37102  \n",
       "2              unprocessed_pseudogene        NaN        WASH7P  HGNC:38034  "
      ]
     },
     "metadata": {},
     "output_type": "display_data"
    }
   ],
   "source": [
    "filepath = resource_dir / \"general\" / \"gene_annotations.hg38.gencode_v40\" / \"gene_metadata.tsv.gz\"\n",
    "gencode_gene_metadata = pd.read_csv(filepath, sep=\"\\t\", compression=\"gzip\", header=0)\n",
    "display(gencode_gene_metadata.head(3))"
   ]
  },
  {
   "cell_type": "code",
   "execution_count": 15,
   "id": "3beae0aa",
   "metadata": {},
   "outputs": [
    {
     "data": {
      "text/html": [
       "<div>\n",
       "<style scoped>\n",
       "    .dataframe tbody tr th:only-of-type {\n",
       "        vertical-align: middle;\n",
       "    }\n",
       "\n",
       "    .dataframe tbody tr th {\n",
       "        vertical-align: top;\n",
       "    }\n",
       "\n",
       "    .dataframe thead th {\n",
       "        text-align: right;\n",
       "    }\n",
       "</style>\n",
       "<table border=\"1\" class=\"dataframe\">\n",
       "  <thead>\n",
       "    <tr style=\"text-align: right;\">\n",
       "      <th></th>\n",
       "      <th>genetype</th>\n",
       "      <th>simplified_genetype</th>\n",
       "      <th>group_genetype</th>\n",
       "    </tr>\n",
       "  </thead>\n",
       "  <tbody>\n",
       "    <tr>\n",
       "      <th>0</th>\n",
       "      <td>IG_C_gene</td>\n",
       "      <td>IG_TR_gene</td>\n",
       "      <td>protein_coding</td>\n",
       "    </tr>\n",
       "    <tr>\n",
       "      <th>1</th>\n",
       "      <td>IG_D_gene</td>\n",
       "      <td>IG_TR_gene</td>\n",
       "      <td>protein_coding</td>\n",
       "    </tr>\n",
       "    <tr>\n",
       "      <th>2</th>\n",
       "      <td>IG_J_gene</td>\n",
       "      <td>IG_TR_gene</td>\n",
       "      <td>protein_coding</td>\n",
       "    </tr>\n",
       "  </tbody>\n",
       "</table>\n",
       "</div>"
      ],
      "text/plain": [
       "    genetype simplified_genetype  group_genetype\n",
       "0  IG_C_gene          IG_TR_gene  protein_coding\n",
       "1  IG_D_gene          IG_TR_gene  protein_coding\n",
       "2  IG_J_gene          IG_TR_gene  protein_coding"
      ]
     },
     "metadata": {},
     "output_type": "display_data"
    }
   ],
   "source": [
    "filepath = resource_dir / \"general\" / \"gene_annotations.hg38.gencode_v40\" / \"simplified_grouped_genetype.tsv\"\n",
    "gencode_genetype_metadata = pd.read_csv(filepath, sep=\"\\t\", header=0)\n",
    "display(gencode_genetype_metadata.head(3))\n"
   ]
  },
  {
   "cell_type": "code",
   "execution_count": 16,
   "id": "14aacb4f",
   "metadata": {},
   "outputs": [
    {
     "data": {
      "text/html": [
       "<div>\n",
       "<style scoped>\n",
       "    .dataframe tbody tr th:only-of-type {\n",
       "        vertical-align: middle;\n",
       "    }\n",
       "\n",
       "    .dataframe tbody tr th {\n",
       "        vertical-align: top;\n",
       "    }\n",
       "\n",
       "    .dataframe thead th {\n",
       "        text-align: right;\n",
       "    }\n",
       "</style>\n",
       "<table border=\"1\" class=\"dataframe\">\n",
       "  <thead>\n",
       "    <tr style=\"text-align: right;\">\n",
       "      <th></th>\n",
       "      <th>chrom</th>\n",
       "      <th>start</th>\n",
       "      <th>end</th>\n",
       "      <th>name</th>\n",
       "      <th>score</th>\n",
       "      <th>strand</th>\n",
       "    </tr>\n",
       "  </thead>\n",
       "  <tbody>\n",
       "    <tr>\n",
       "      <th>0</th>\n",
       "      <td>chr12</td>\n",
       "      <td>36601</td>\n",
       "      <td>38133</td>\n",
       "      <td>lncRNA;FAM138D;lncRNA;ENSG00000249054.2</td>\n",
       "      <td>.</td>\n",
       "      <td>-</td>\n",
       "    </tr>\n",
       "    <tr>\n",
       "      <th>1</th>\n",
       "      <td>chr12</td>\n",
       "      <td>106523</td>\n",
       "      <td>111850</td>\n",
       "      <td>lncRNA;ENSG00000256948;lncRNA;ENSG00000256948.1</td>\n",
       "      <td>.</td>\n",
       "      <td>-</td>\n",
       "    </tr>\n",
       "    <tr>\n",
       "      <th>2</th>\n",
       "      <td>chr12</td>\n",
       "      <td>137410</td>\n",
       "      <td>149169</td>\n",
       "      <td>lncRNA;ENSG00000249695;lncRNA;ENSG00000249695.6</td>\n",
       "      <td>.</td>\n",
       "      <td>-</td>\n",
       "    </tr>\n",
       "  </tbody>\n",
       "</table>\n",
       "</div>"
      ],
      "text/plain": [
       "   chrom   start     end                                             name  \\\n",
       "0  chr12   36601   38133          lncRNA;FAM138D;lncRNA;ENSG00000249054.2   \n",
       "1  chr12  106523  111850  lncRNA;ENSG00000256948;lncRNA;ENSG00000256948.1   \n",
       "2  chr12  137410  149169  lncRNA;ENSG00000249695;lncRNA;ENSG00000249695.6   \n",
       "\n",
       "  score strand  \n",
       "0     .      -  \n",
       "1     .      -  \n",
       "2     .      -  "
      ]
     },
     "metadata": {},
     "output_type": "display_data"
    },
    {
     "data": {
      "text/html": [
       "<div>\n",
       "<style scoped>\n",
       "    .dataframe tbody tr th:only-of-type {\n",
       "        vertical-align: middle;\n",
       "    }\n",
       "\n",
       "    .dataframe tbody tr th {\n",
       "        vertical-align: top;\n",
       "    }\n",
       "\n",
       "    .dataframe thead th {\n",
       "        text-align: right;\n",
       "    }\n",
       "</style>\n",
       "<table border=\"1\" class=\"dataframe\">\n",
       "  <thead>\n",
       "    <tr style=\"text-align: right;\">\n",
       "      <th></th>\n",
       "      <th>chrom</th>\n",
       "      <th>start</th>\n",
       "      <th>end</th>\n",
       "      <th>name</th>\n",
       "      <th>score</th>\n",
       "      <th>strand</th>\n",
       "    </tr>\n",
       "  </thead>\n",
       "  <tbody>\n",
       "    <tr>\n",
       "      <th>0</th>\n",
       "      <td>chr12</td>\n",
       "      <td>66766</td>\n",
       "      <td>66882</td>\n",
       "      <td>five_prime_UTR;IQSEC3;protein_coding;ENSG00000...</td>\n",
       "      <td>.</td>\n",
       "      <td>+</td>\n",
       "    </tr>\n",
       "    <tr>\n",
       "      <th>1</th>\n",
       "      <td>chr12</td>\n",
       "      <td>66882</td>\n",
       "      <td>66885</td>\n",
       "      <td>start_codon;IQSEC3;protein_coding;ENSG00000120...</td>\n",
       "      <td>.</td>\n",
       "      <td>+</td>\n",
       "    </tr>\n",
       "    <tr>\n",
       "      <th>2</th>\n",
       "      <td>chr12</td>\n",
       "      <td>66885</td>\n",
       "      <td>67436</td>\n",
       "      <td>CDS;IQSEC3;protein_coding;ENSG00000120645.12</td>\n",
       "      <td>.</td>\n",
       "      <td>+</td>\n",
       "    </tr>\n",
       "  </tbody>\n",
       "</table>\n",
       "</div>"
      ],
      "text/plain": [
       "   chrom  start    end                                               name  \\\n",
       "0  chr12  66766  66882  five_prime_UTR;IQSEC3;protein_coding;ENSG00000...   \n",
       "1  chr12  66882  66885  start_codon;IQSEC3;protein_coding;ENSG00000120...   \n",
       "2  chr12  66885  67436       CDS;IQSEC3;protein_coding;ENSG00000120645.12   \n",
       "\n",
       "  score strand  \n",
       "0     .      +  \n",
       "1     .      +  \n",
       "2     .      +  "
      ]
     },
     "metadata": {},
     "output_type": "display_data"
    },
    {
     "name": "stdout",
     "output_type": "stream",
     "text": [
      "Number of GENCODE minus strand intervals: 26_540\n",
      "Number of GENCODE plus strand intervals: 26_688\n"
     ]
    }
   ],
   "source": [
    "filepath_minus = (\n",
    "    resource_dir / \"general\" / \"gene_annotations.hg38.gencode_v40\" / \"complete.non-overlap.annotated.minus.bed.gz\"\n",
    ")\n",
    "filepath_plus = (\n",
    "    resource_dir / \"general\" / \"gene_annotations.hg38.gencode_v40\" / \"complete.non-overlap.annotated.plus.bed.gz\"\n",
    ")\n",
    "\n",
    "# Rather than load the complete files, we apply again bedtools to query the files.\n",
    "gencode_minus = pbt.BedTool(filepath_minus).intersect(bt_genome).to_dataframe()\n",
    "gencode_plus = pbt.BedTool(filepath_plus).intersect(bt_genome).to_dataframe()\n",
    "\n",
    "display(gencode_minus.head(3))\n",
    "display(gencode_plus.head(3))\n",
    "print(f\"Number of GENCODE minus strand intervals: {len(gencode_minus):_}\")\n",
    "print(f\"Number of GENCODE plus strand intervals: {len(gencode_plus):_}\")"
   ]
  },
  {
   "cell_type": "markdown",
   "id": "27ce5d8d",
   "metadata": {},
   "source": [
    "## eCLIP data - read counts"
   ]
  },
  {
   "cell_type": "markdown",
   "id": "606c804f",
   "metadata": {},
   "source": [
    "Here we load `bigwig` files, a binary format for storing one numeric value per position\n",
    "in a genomic coordinate system.\n",
    "\n",
    "This format can be manually built from a `Wiggle` file format, using the command `wigToBigWig <in.wig> <genome.chrom.sizes> <out.bw>`.\n",
    "\n",
    "Check the specification of the `Wiggle` format [here](https://genome.ucsc.edu/goldenPath/help/wiggle)\n",
    "\n",
    "The simplest version below shows a header line defining a fixed-step size of 1 nucleotide, starting at position 1 (wiggle format is 1-based) or chromosome 1.\n",
    "\n",
    "```bash\n",
    "fixedStep  chrom=\"chr1\" start=1  step=1`\n",
    "0.1\n",
    "0.2\n",
    "...\n",
    "```\n",
    "\n",
    "This can be useful for creating your own `bigwig` files, for example from PARNET predictions.\n",
    "\n",
    "Hereafter we demonstrate how to manipulate `bigwig` files using the `pyBigWig` library."
   ]
  },
  {
   "cell_type": "markdown",
   "id": "c22c5c4a",
   "metadata": {},
   "source": [
    "On the available files:\n",
    "\n",
    "- each eCLIP experiment is performed on a specific RNA Binding Protein (e.g. `QKI`) in a specific Cell Line (e.g. `HepG2`).\n",
    "\n",
    "- each experiment has\n",
    "    - 2 biological replicates for the *eCLIP* (i.e. the data generated from the part of the protocol where the RBP is actually immunoprecipitated),\n",
    "    - and 1 biological replicate for the *input* (i.e. the data generated from the part of the protocol where no RBP is immunoprecipitated).\n",
    "\n",
    "- for training PARNET, the two biological replicates of the *eCLIP* are summed position-wise into a single file. Keeping the two replicate separate here allows to compare between-replicate correlation vs prediction-vs-replicate correlation.\n",
    "\n",
    "- For now, we will simply demonstrate how to load the data."
   ]
  },
  {
   "cell_type": "code",
   "execution_count": 17,
   "id": "ae7d64d4",
   "metadata": {},
   "outputs": [],
   "source": [
    "LIST_ECLIP_STRAND: list[Literal[\"pos\", \"neg\"]]\n",
    "LIST_ECLIP_REPLICATE: list[Literal[\"1\", \"2\"]]\n",
    "LIST_SUBSET_RBP_CL: list[str] = params_subset_rbp_cl\n",
    "\n",
    "ufmt_readcounts_eclip_fp = (\n",
    "    resource_dir\n",
    "    / \"parnet_encore_eclip\"\n",
    "    / \"bigwig_processed_counts\"\n",
    "    / \"{RBP_CL}\"\n",
    "    / \"eCLIP\"\n",
    "    / \"{REPLICATE}\"\n",
    "    / \"counts.{STRAND}.bw\"\n",
    ")\n",
    "\n",
    "ufmt_readcounts_control_fp = (\n",
    "    resource_dir / \"parnet_encore_eclip\" / \"bigwig_processed_counts\" / \"{RBP_CL}\" / \"control\" / \"counts.{STRAND}.bw\"\n",
    ")\n"
   ]
  },
  {
   "cell_type": "code",
   "execution_count": null,
   "id": "203661bd",
   "metadata": {},
   "outputs": [
    {
     "ename": "ValueError",
     "evalue": "Length of ascending (2) != length of by (4)",
     "output_type": "error",
     "traceback": [
      "\u001b[0;31m---------------------------------------------------------------------------\u001b[0m",
      "\u001b[0;31mValueError\u001b[0m                                Traceback (most recent call last)",
      "\u001b[0;32m/tmp/tmp5hbkvhqa/ipykernel_514856/148000329.py\u001b[0m in \u001b[0;36m?\u001b[0;34m()\u001b[0m\n\u001b[1;32m      6\u001b[0m df_experiments = pd.concat(\n\u001b[1;32m      7\u001b[0m     \u001b[0;34m[\u001b[0m\u001b[0mdf_experiments\u001b[0m\u001b[0;34m,\u001b[0m \u001b[0mdf_experiments\u001b[0m\u001b[0;34m[\u001b[0m\u001b[0;34m\"RBP_CL\"\u001b[0m\u001b[0;34m]\u001b[0m\u001b[0;34m.\u001b[0m\u001b[0mstr\u001b[0m\u001b[0;34m.\u001b[0m\u001b[0msplit\u001b[0m\u001b[0;34m(\u001b[0m\u001b[0;34m\"_\"\u001b[0m\u001b[0;34m,\u001b[0m \u001b[0mexpand\u001b[0m\u001b[0;34m=\u001b[0m\u001b[0;32mTrue\u001b[0m\u001b[0;34m)\u001b[0m\u001b[0;34m.\u001b[0m\u001b[0mset_axis\u001b[0m\u001b[0;34m(\u001b[0m\u001b[0;34m[\u001b[0m\u001b[0;34m\"RBP\"\u001b[0m\u001b[0;34m,\u001b[0m \u001b[0;34m\"CL\"\u001b[0m\u001b[0;34m]\u001b[0m\u001b[0;34m,\u001b[0m \u001b[0maxis\u001b[0m\u001b[0;34m=\u001b[0m\u001b[0;36m1\u001b[0m\u001b[0;34m)\u001b[0m\u001b[0;34m]\u001b[0m\u001b[0;34m,\u001b[0m \u001b[0maxis\u001b[0m\u001b[0;34m=\u001b[0m\u001b[0;36m1\u001b[0m\u001b[0;34m\u001b[0m\u001b[0;34m\u001b[0m\u001b[0m\n\u001b[1;32m      8\u001b[0m )\n\u001b[1;32m      9\u001b[0m df_experiments = (\n\u001b[0;32m---> 10\u001b[0;31m     \u001b[0mdf_experiments\u001b[0m\u001b[0;34m.\u001b[0m\u001b[0msort_values\u001b[0m\u001b[0;34m(\u001b[0m\u001b[0mby\u001b[0m\u001b[0;34m=\u001b[0m\u001b[0;34m[\u001b[0m\u001b[0;34m\"RBP\"\u001b[0m\u001b[0;34m,\u001b[0m \u001b[0;34m\"CL\"\u001b[0m\u001b[0;34m,\u001b[0m \u001b[0;34m\"REPLICATE\"\u001b[0m\u001b[0;34m,\u001b[0m \u001b[0;34m\"STRAND\"\u001b[0m\u001b[0;34m]\u001b[0m\u001b[0;34m,\u001b[0m \u001b[0mascending\u001b[0m\u001b[0;34m=\u001b[0m\u001b[0;34m[\u001b[0m\u001b[0;32mTrue\u001b[0m\u001b[0;34m,\u001b[0m \u001b[0;32mTrue\u001b[0m\u001b[0;34m]\u001b[0m\u001b[0;34m)\u001b[0m\u001b[0;34m.\u001b[0m\u001b[0mreset_index\u001b[0m\u001b[0;34m(\u001b[0m\u001b[0mdrop\u001b[0m\u001b[0;34m=\u001b[0m\u001b[0;32mTrue\u001b[0m\u001b[0;34m)\u001b[0m\u001b[0;34m,\u001b[0m\u001b[0;34m\u001b[0m\u001b[0;34m\u001b[0m\u001b[0m\n\u001b[0m\u001b[1;32m     11\u001b[0m )\n\u001b[1;32m     12\u001b[0m \u001b[0;34m\u001b[0m\u001b[0m\n\u001b[1;32m     13\u001b[0m \u001b[0mdisplay\u001b[0m\u001b[0;34m(\u001b[0m\u001b[0mdf_experiments\u001b[0m\u001b[0;34m.\u001b[0m\u001b[0mhead\u001b[0m\u001b[0;34m(\u001b[0m\u001b[0;36m5\u001b[0m\u001b[0;34m)\u001b[0m\u001b[0;34m)\u001b[0m\u001b[0;34m\u001b[0m\u001b[0;34m\u001b[0m\u001b[0m\n",
      "\u001b[0;32m~/projects/ml4rg25-parnet/parnet_demo/.pixi/envs/parnet-demo/lib/python3.10/site-packages/pandas/core/frame.py\u001b[0m in \u001b[0;36m?\u001b[0;34m(self, by, axis, ascending, inplace, kind, na_position, ignore_index, key)\u001b[0m\n\u001b[1;32m   7170\u001b[0m             \u001b[0mlen\u001b[0m\u001b[0;34m(\u001b[0m\u001b[0mby\u001b[0m\u001b[0;34m)\u001b[0m \u001b[0;34m!=\u001b[0m \u001b[0mlen\u001b[0m\u001b[0;34m(\u001b[0m\u001b[0mascending\u001b[0m\u001b[0;34m)\u001b[0m  \u001b[0;31m# type: ignore[arg-type]\u001b[0m\u001b[0;34m\u001b[0m\u001b[0;34m\u001b[0m\u001b[0m\n\u001b[1;32m   7171\u001b[0m         ):\n\u001b[1;32m   7172\u001b[0m             \u001b[0;31m# error: Argument 1 to \"len\" has incompatible type \"Union[bool,\u001b[0m\u001b[0;34m\u001b[0m\u001b[0;34m\u001b[0m\u001b[0m\n\u001b[1;32m   7173\u001b[0m             \u001b[0;31m# List[bool]]\"; expected \"Sized\"\u001b[0m\u001b[0;34m\u001b[0m\u001b[0;34m\u001b[0m\u001b[0m\n\u001b[0;32m-> 7174\u001b[0;31m             raise ValueError(\n\u001b[0m\u001b[1;32m   7175\u001b[0m                 \u001b[0;34mf\"Length of ascending ({len(ascending)})\"\u001b[0m  \u001b[0;31m# type: ignore[arg-type]\u001b[0m\u001b[0;34m\u001b[0m\u001b[0;34m\u001b[0m\u001b[0m\n\u001b[1;32m   7176\u001b[0m                 \u001b[0;34mf\" != length of by ({len(by)})\"\u001b[0m\u001b[0;34m\u001b[0m\u001b[0;34m\u001b[0m\u001b[0m\n\u001b[1;32m   7177\u001b[0m             )\n",
      "\u001b[0;31mValueError\u001b[0m: Length of ascending (2) != length of by (4)"
     ]
    }
   ],
   "source": [
    "globbed_wildcards = glob_wildcards(ufmt_readcounts_eclip_fp)\n",
    "\n",
    "# Here we use a function that automatically identifies the possible values for \"wildcards\" in a filepath.\n",
    "\n",
    "df_experiments = pd.DataFrame(globbed_wildcards._asdict())\n",
    "df_experiments = pd.concat(\n",
    "    [df_experiments, df_experiments[\"RBP_CL\"].str.split(\"_\", expand=True).set_axis([\"RBP\", \"CL\"], axis=1)], axis=1\n",
    ")\n",
    "df_experiments = (\n",
    "    df_experiments.sort_values(by=[\"RBP\", \"CL\", \"REPLICATE\", \"STRAND\"], ascending=[True, True]).reset_index(drop=True),\n",
    ")\n",
    "\n",
    "display(df_experiments.head(5))"
   ]
  },
  {
   "cell_type": "code",
   "execution_count": null,
   "id": "72f63c2e",
   "metadata": {},
   "outputs": [],
   "source": []
  },
  {
   "cell_type": "code",
   "execution_count": null,
   "id": "3600dd5c",
   "metadata": {},
   "outputs": [],
   "source": [
    "for rbp_ct, replicate, strand in zip(*glob_wildcards(ufmt_eclip_fp)):\n",
    "    print(rbp_ct, replicate, strand)\n",
    "    break"
   ]
  },
  {
   "cell_type": "code",
   "execution_count": null,
   "id": "036e7373",
   "metadata": {},
   "outputs": [],
   "source": [
    "for RBP_CT in set(glob_wildcards(ufmt_eclip_fp).RBP_CT):\n",
    "    if not os.path.exists(str(ufmt_eclip_fp).format(RBP_CT=RBP_CT, REPLICATE=\"2\", STRAND=\"pos\")):\n",
    "        print(f\"eCLIP data for {RBP_CT} not found, skipping.\")\n",
    "        continue"
   ]
  },
  {
   "cell_type": "markdown",
   "id": "c6f28240",
   "metadata": {},
   "source": [
    "## eCLIP - peaks"
   ]
  },
  {
   "cell_type": "code",
   "execution_count": null,
   "id": "b7520ce4",
   "metadata": {},
   "outputs": [],
   "source": []
  },
  {
   "cell_type": "markdown",
   "id": "5a4c1068",
   "metadata": {},
   "source": [
    "## Integrating together - distribution of read counts in peaks"
   ]
  },
  {
   "cell_type": "markdown",
   "id": "880c6b02",
   "metadata": {},
   "source": [
    "### Read counts distribution in peaks"
   ]
  },
  {
   "cell_type": "code",
   "execution_count": null,
   "id": "6d837a30",
   "metadata": {},
   "outputs": [],
   "source": []
  },
  {
   "cell_type": "markdown",
   "id": "1810e37c",
   "metadata": {},
   "source": [
    "### Peaks distribution accross gene types"
   ]
  },
  {
   "cell_type": "code",
   "execution_count": null,
   "id": "41aad372",
   "metadata": {},
   "outputs": [],
   "source": []
  },
  {
   "cell_type": "markdown",
   "id": "a91a282a",
   "metadata": {},
   "source": [
    "## External resources"
   ]
  },
  {
   "cell_type": "markdown",
   "id": "7a3dfad4",
   "metadata": {},
   "source": [
    "### oRNAment"
   ]
  },
  {
   "cell_type": "markdown",
   "id": "fc3f59da",
   "metadata": {},
   "source": [
    "Database that provides pre-computed instances of binding sites for a large number of RBPs. \n",
    "\n",
    "This may be useful to compare with your own results. \n",
    "\n",
    "e.g. here PTBP1 is shown to rather bind in protein coding genes, specifically in the 3'UTR region."
   ]
  },
  {
   "cell_type": "code",
   "execution_count": null,
   "id": "eaa5692e",
   "metadata": {},
   "outputs": [],
   "source": [
    "display(Image(\"../documentation/media/ornament.ptbp1_example.png\"))"
   ]
  },
  {
   "cell_type": "markdown",
   "id": "4b5b4c25",
   "metadata": {},
   "source": [
    "### mCrossBase"
   ]
  },
  {
   "cell_type": "markdown",
   "id": "b9ea7a4e",
   "metadata": {},
   "source": [
    "[https://zhanglab.c2b2.columbia.edu/mCrossBase/rbp.php?id=K562.RBFOX2](https://zhanglab.c2b2.columbia.edu/mCrossBase/rbp.php?id=K562.RBFOX2)"
   ]
  },
  {
   "cell_type": "code",
   "execution_count": null,
   "id": "a4942599",
   "metadata": {},
   "outputs": [],
   "source": [
    "display(Image(\"../documentation/media/mcrossbase.rbfox2_example.png\"))"
   ]
  },
  {
   "cell_type": "code",
   "execution_count": null,
   "id": "5d1dd0cf",
   "metadata": {},
   "outputs": [],
   "source": [
    "url = \"https://zhanglab.c2b2.columbia.edu/mCrossBase/static/plots/logo/{CELLTYPE}.{RBP}.top10.cluster.m1.00.svg\".format(\n",
    "    RBP=\"RBFOX2\", CELLTYPE=\"K562\"\n",
    ")\n",
    "response = requests.get(url, verify=False)\n",
    "\n",
    "display(SVG(response.content))"
   ]
  },
  {
   "cell_type": "markdown",
   "id": "babb43a9",
   "metadata": {},
   "source": [
    "## Cleanup"
   ]
  },
  {
   "cell_type": "code",
   "execution_count": null,
   "id": "1ddc7b14",
   "metadata": {},
   "outputs": [],
   "source": [
    "pbt.cleanup()"
   ]
  }
 ],
 "metadata": {
  "kernelspec": {
   "display_name": "parnet-demo",
   "language": "python",
   "name": "python3"
  },
  "language_info": {
   "codemirror_mode": {
    "name": "ipython",
    "version": 3
   },
   "file_extension": ".py",
   "mimetype": "text/x-python",
   "name": "python",
   "nbconvert_exporter": "python",
   "pygments_lexer": "ipython3",
   "version": "3.10.18"
  }
 },
 "nbformat": 4,
 "nbformat_minor": 5
}
