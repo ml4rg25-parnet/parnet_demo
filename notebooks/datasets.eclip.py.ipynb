{
 "cells": [
  {
   "cell_type": "code",
   "execution_count": 1,
   "id": "ea951b99",
   "metadata": {
    "tags": [
     "parameters"
    ]
   },
   "outputs": [],
   "source": [
    "params_notebook_name = \"datasets.eclip.py.ipynb\"\n",
    "params_resource_dir = \"../resources/\"\n",
    "params_subset_chroms = [\n",
    "    \"chr12\",\n",
    "]\n",
    "\n",
    "params_subset_rbp_cl = [\n",
    "    \"QKI_HepG2\",\n",
    "    \"QKI_K562\",\n",
    "    \"PTBP1_HepG2\",\n",
    "    \"SRSF7_HepG2\",\n",
    "]\n",
    "\n",
    "params_tmp_dir = None"
   ]
  },
  {
   "cell_type": "markdown",
   "id": "c73a19f1",
   "metadata": {},
   "source": [
    "# Datasets - eCLIP datasets"
   ]
  },
  {
   "cell_type": "markdown",
   "id": "6103c4d5",
   "metadata": {},
   "source": [
    "## Overview"
   ]
  },
  {
   "cell_type": "code",
   "execution_count": null,
   "id": "a9ba9c80",
   "metadata": {},
   "outputs": [],
   "source": []
  },
  {
   "cell_type": "markdown",
   "id": "373c44e0",
   "metadata": {},
   "source": [
    "## Imports"
   ]
  },
  {
   "cell_type": "code",
   "execution_count": null,
   "id": "5c2f07b6",
   "metadata": {},
   "outputs": [],
   "source": [
    "import dataclasses\n",
    "import os\n",
    "import sys\n",
    "import tempfile\n",
    "from dataclasses import asdict\n",
    "from io import StringIO\n",
    "from numbers import Number\n",
    "from pathlib import Path\n",
    "from typing import Literal, Optional\n",
    "\n",
    "import numpy as np\n",
    "import pandas as pd\n",
    "import pybedtools as pbt\n",
    "import pyBigWig as pbw\n",
    "import pydantic.dataclasses\n",
    "import pyfaidx\n",
    "import requests\n",
    "from Bio import SeqIO\n",
    "from Bio.Seq import Seq\n",
    "from Bio.SeqRecord import SeqRecord\n",
    "from dotenv import find_dotenv, load_dotenv\n",
    "from dotmap import DotMap\n",
    "from IPython.display import HTML, SVG, Image, display\n",
    "from pydantic.dataclasses import dataclass\n",
    "from snakemake.io import glob_wildcards"
   ]
  },
  {
   "cell_type": "code",
   "execution_count": 4,
   "id": "5ef0fe86",
   "metadata": {},
   "outputs": [],
   "source": [
    "import matplotlib as mpl\n",
    "import matplotlib.font_manager\n",
    "import matplotlib.pyplot as plt\n",
    "import seaborn as sns\n",
    "from matplotlib import rc\n",
    "\n",
    "try:\n",
    "    matplotlib.font_manager.findfont(\"Arial\")\n",
    "    mpl.rcParams[\"font.sans-serif\"] = [\"Arial\"]\n",
    "except Exception as e:\n",
    "    print(\"Setting Arial font failed in some way...\")\n",
    "    print(e)\n",
    "\n",
    "rc(\"text\", usetex=False)"
   ]
  },
  {
   "cell_type": "code",
   "execution_count": 5,
   "id": "f74f07ab",
   "metadata": {},
   "outputs": [
    {
     "name": "stdout",
     "output_type": "stream",
     "text": [
      "Confirmed CWD: /home/l10n/projects/ml4rg25-parnet/parnet_demo/notebooks contains expected file: datasets.eclip.py.ipynb\n",
      "/home/l10n/projects/ml4rg25-parnet/parnet_demo/notebooks\n"
     ]
    }
   ],
   "source": [
    "def assert_notebook_working_dir(expected_local_file: os.PathLike) -> Path:\n",
    "    \"\"\"Assert or try updating the current working directory to where the notebook is located, to enable relative paths references.\n",
    "\n",
    "    This function is used in a set-up where notebooks are contained within a project\n",
    "    directory structure in which we want to reference filepaths relative to the notebook.\n",
    "    e.g. \"../src\" or \"../resources\" should be accessible if the notebook is in\n",
    "    \"../notebooks/<notebook_name>.ipynb\".\n",
    "\n",
    "    The function first check the filepath of the expected local file relative\n",
    "    to the current working directory.\n",
    "\n",
    "    If not found, the function will try to use the VSCode Jupyter variable `__vsc_ipynb_file__`\n",
    "    which should report the path of the notebook file being executed.\n",
    "\n",
    "    It then checks if the expected local file exists, relative to the new working directory.\n",
    "\n",
    "\n",
    "    Args:\n",
    "        expected_local_file (os.PathLike): The expected local file to check for in the current working directory.\n",
    "            This can be the name of the notebook file.\n",
    "\n",
    "    Raises:\n",
    "        KeyError: if the `__vsc_ipynb_file__` variable is not found in the global scope, while the first CWD check failed.\n",
    "        FileNotFoundError: if the expected local file is not found in the current working directory after attempting to change it.\n",
    "    \"\"\"\n",
    "    import os\n",
    "    from pathlib import Path\n",
    "\n",
    "    cwd = Path(os.getcwd())\n",
    "    expected_local_filepath = cwd / expected_local_file\n",
    "\n",
    "    if not expected_local_filepath.exists():\n",
    "        if \"__vsc_ipynb_file__\" not in globals():\n",
    "            raise KeyError(\n",
    "                f\"Detected CWD: {cwd} ; CWD does not contain expected file, but cannot use __vsc_ipynb_file__ to recover.\"\n",
    "            )\n",
    "        else:\n",
    "            os.chdir(Path(globals()[\"__vsc_ipynb_file__\"]).parent)\n",
    "            cwd = Path(os.getcwd())\n",
    "            print(f\"Changed CWD to {cwd}\")\n",
    "\n",
    "            expected_local_filepath = cwd / expected_local_file\n",
    "            if not expected_local_filepath.exists():\n",
    "                raise FileNotFoundError(\n",
    "                    f\"Updated (using __vsc_ipynb_file__) CWD: {cwd} ; CWD does not contain expected file.\"\n",
    "                )\n",
    "\n",
    "            return cwd\n",
    "    else:\n",
    "        print(f\"Confirmed CWD: {cwd} contains expected file: {expected_local_file}\")\n",
    "        return cwd\n",
    "\n",
    "\n",
    "expected_local_file: str = params_notebook_name\n",
    "cwd = assert_notebook_working_dir(expected_local_file=expected_local_file)\n",
    "print(cwd)"
   ]
  },
  {
   "cell_type": "markdown",
   "id": "9be7bafb",
   "metadata": {},
   "source": [
    "## Definitions"
   ]
  },
  {
   "cell_type": "code",
   "execution_count": 48,
   "id": "90116f0d",
   "metadata": {},
   "outputs": [],
   "source": [
    "@dataclass\n",
    "class GenomicInterval:\n",
    "    chrom: str\n",
    "    start: int\n",
    "    end: int\n",
    "    name: str\n",
    "    score: int | float | str\n",
    "    strand: Literal[\"+\", \"-\"]\n",
    "\n",
    "    def __post_init__(self):\n",
    "        # Enforce [0, end) interval.\n",
    "        if self.start < 0:\n",
    "            raise ValueError(f\"Start position {self.start} must be non-negative.\")\n",
    "        if self.start >= self.end:\n",
    "            raise ValueError(f\"Start position {self.start} must be less than end position {self.end}.\")\n"
   ]
  },
  {
   "cell_type": "markdown",
   "id": "a8103b76",
   "metadata": {},
   "source": [
    "## Initialization"
   ]
  },
  {
   "cell_type": "code",
   "execution_count": 6,
   "id": "e349ea24",
   "metadata": {},
   "outputs": [
    {
     "data": {
      "text/plain": [
       "False"
      ]
     },
     "execution_count": 6,
     "metadata": {},
     "output_type": "execute_result"
    }
   ],
   "source": [
    "# Env variables, defined in the `.env` file at the root of the project directory.\n",
    "load_dotenv(find_dotenv(), override=True)"
   ]
  },
  {
   "cell_type": "code",
   "execution_count": 7,
   "id": "a40176ea",
   "metadata": {},
   "outputs": [
    {
     "name": "stdout",
     "output_type": "stream",
     "text": [
      "Using resources from: ../resources\n"
     ]
    }
   ],
   "source": [
    "resource_dir = Path(params_resource_dir)\n",
    "if not resource_dir.exists():\n",
    "    raise FileNotFoundError(\"Resource directory does not exist: \" + str(resource_dir))\n",
    "\n",
    "print(\"Using resources from:\", resource_dir)"
   ]
  },
  {
   "cell_type": "code",
   "execution_count": 8,
   "id": "273504eb",
   "metadata": {},
   "outputs": [],
   "source": [
    "bed6_cols = [\"chrom\", \"start\", \"end\", \"name\", \"score\", \"strand\"]"
   ]
  },
  {
   "cell_type": "code",
   "execution_count": 9,
   "id": "778fa2c4",
   "metadata": {},
   "outputs": [
    {
     "name": "stdout",
     "output_type": "stream",
     "text": [
      "Using temporary directory for pyBedTools: /tmp/tmprnbt0klp\n"
     ]
    }
   ],
   "source": [
    "# Caution: pyBedTools relies on tmp dir, which can get quite large.\n",
    "def create_randomized_tmp_dir(parent_dir: os.PathLike | None = None) -> str:\n",
    "    # Get the parent tmp dir where to create a randomized tmp dir.\n",
    "\n",
    "    parent_tmp_dir = None\n",
    "\n",
    "    # Default system value\n",
    "    parent_tmp_dir = Path(tempfile.gettempdir())\n",
    "    if params_tmp_dir is not None:\n",
    "        parent_tmp_dir = Path(params_tmp_dir)\n",
    "\n",
    "    if os.getenv(\"TMP_DIR\") is not None:\n",
    "        parent_tmp_dir = Path(os.getenv(\"TMP_DIR\"))\n",
    "\n",
    "    if os.getenv(\"TMP\") is not None:\n",
    "        parent_tmp_dir = Path(os.getenv(\"TMP\"))\n",
    "\n",
    "    if parent_tmp_dir is None:\n",
    "        raise ValueError(\"No temporary directory specified or found.\")\n",
    "\n",
    "    # Test write access to the parent tmp dir\n",
    "    if not parent_tmp_dir.is_dir():\n",
    "        raise NotADirectoryError(f\"Parent tmp dir is not a directory: {parent_tmp_dir}\")\n",
    "\n",
    "    if not os.access(parent_tmp_dir, os.W_OK):\n",
    "        raise PermissionError(f\"Parent tmp dir is not writable: {parent_tmp_dir}\")\n",
    "\n",
    "    # Make a randomized tmp dir\n",
    "    tmp_dir = tempfile.mkdtemp(dir=parent_tmp_dir)\n",
    "    return tmp_dir\n",
    "\n",
    "\n",
    "tmp_dir = create_randomized_tmp_dir()\n",
    "print(\"Using temporary directory for pyBedTools:\", tmp_dir)\n",
    "\n",
    "pbt.set_tempdir(tmp_dir)"
   ]
  },
  {
   "cell_type": "markdown",
   "id": "b9c147cd",
   "metadata": {},
   "source": [
    "## Load general datasets"
   ]
  },
  {
   "cell_type": "markdown",
   "id": "59274dbd",
   "metadata": {},
   "source": [
    "### Genome data"
   ]
  },
  {
   "cell_type": "code",
   "execution_count": 75,
   "id": "2aa15536",
   "metadata": {},
   "outputs": [
    {
     "name": "stdout",
     "output_type": "stream",
     "text": [
      "Loading the \"genome file\" from: ../resources/general/genome/hg38.chrom.sizes\n"
     ]
    }
   ],
   "source": [
    "genome_size_filepath = resource_dir / \"general\" / \"genome\" / \"hg38.chrom.sizes\"\n",
    "print('Loading the \"genome file\" from:', genome_size_filepath)\n",
    "\n",
    "genome_file = pd.read_csv(genome_size_filepath, header=None, sep=\"\\t\")\n",
    "genome_file.columns = [\"chrom\", \"size\"]\n",
    "\n",
    "main_autosomes = [f\"chr{i}\" for i in range(1, 23)]\n",
    "sex_chromosomes = [\"chrX\", \"chrY\"]\n",
    "mitochondrial_chromosome = [\"chrM\"]\n",
    "main_chromosomes = list(set(main_autosomes) | set(sex_chromosomes) | set(mitochondrial_chromosome))\n"
   ]
  },
  {
   "cell_type": "code",
   "execution_count": 11,
   "id": "875f1566",
   "metadata": {},
   "outputs": [],
   "source": [
    "# We also load the genome FASTA file, to demonstrate basic sequence enrichment analysis.\n",
    "fa = pyfaidx.Fasta(resource_dir / \"general\" / \"genome\" / \"hg38.fa.gz\")"
   ]
  },
  {
   "cell_type": "markdown",
   "id": "df5b92d7",
   "metadata": {},
   "source": [
    "### Gene annotations"
   ]
  },
  {
   "cell_type": "markdown",
   "id": "472a3967",
   "metadata": {},
   "source": [
    "We will load MANE reference transcripts and genome chrom sizes to define ranges of regions to look into."
   ]
  },
  {
   "cell_type": "code",
   "execution_count": 12,
   "id": "b1d7951a",
   "metadata": {},
   "outputs": [],
   "source": [
    "filepath = (\n",
    "    resource_dir / \"general\" / \"gene_annotations.hg38.MANE_v1.4\" / \"MANE.GRCh38.v1.4.ensembl_genomic.transcripts.bed.gz\"\n",
    ")\n",
    "\n",
    "# Rather than load the file, we will query it with bedtools,\n",
    "bt_transcripts = pbt.BedTool(filepath)\n",
    "bt_transcripts = bt_transcripts.tabix()\n",
    "\n",
    "bt_genome = pbt.BedTool.from_dataframe(\n",
    "    genome_file.loc[lambda df: df[\"chrom\"].isin(params_subset_chroms), :]\n",
    "    .assign(start=0, end=lambda df: df[\"size\"])\n",
    "    .loc[:, [\"chrom\", \"start\", \"end\"]]\n",
    ")\n",
    "\n",
    "mane_transcripts = bt_transcripts.intersect(bt_genome).to_dataframe()"
   ]
  },
  {
   "cell_type": "code",
   "execution_count": 13,
   "id": "38b31661",
   "metadata": {},
   "outputs": [
    {
     "data": {
      "text/html": [
       "<div>\n",
       "<style scoped>\n",
       "    .dataframe tbody tr th:only-of-type {\n",
       "        vertical-align: middle;\n",
       "    }\n",
       "\n",
       "    .dataframe tbody tr th {\n",
       "        vertical-align: top;\n",
       "    }\n",
       "\n",
       "    .dataframe thead th {\n",
       "        text-align: right;\n",
       "    }\n",
       "</style>\n",
       "<table border=\"1\" class=\"dataframe\">\n",
       "  <thead>\n",
       "    <tr style=\"text-align: right;\">\n",
       "      <th></th>\n",
       "      <th>chrom</th>\n",
       "      <th>start</th>\n",
       "      <th>end</th>\n",
       "      <th>name</th>\n",
       "      <th>score</th>\n",
       "      <th>strand</th>\n",
       "    </tr>\n",
       "  </thead>\n",
       "  <tbody>\n",
       "    <tr>\n",
       "      <th>0</th>\n",
       "      <td>chr12</td>\n",
       "      <td>66766</td>\n",
       "      <td>178455</td>\n",
       "      <td>ENST00000538872.6</td>\n",
       "      <td>.</td>\n",
       "      <td>+</td>\n",
       "    </tr>\n",
       "    <tr>\n",
       "      <th>1</th>\n",
       "      <td>chr12</td>\n",
       "      <td>190080</td>\n",
       "      <td>214157</td>\n",
       "      <td>ENST00000684302.1</td>\n",
       "      <td>.</td>\n",
       "      <td>-</td>\n",
       "    </tr>\n",
       "    <tr>\n",
       "      <th>2</th>\n",
       "      <td>chr12</td>\n",
       "      <td>220621</td>\n",
       "      <td>262836</td>\n",
       "      <td>ENST00000343164.9</td>\n",
       "      <td>.</td>\n",
       "      <td>-</td>\n",
       "    </tr>\n",
       "  </tbody>\n",
       "</table>\n",
       "</div>"
      ],
      "text/plain": [
       "   chrom   start     end               name score strand\n",
       "0  chr12   66766  178455  ENST00000538872.6     .      +\n",
       "1  chr12  190080  214157  ENST00000684302.1     .      -\n",
       "2  chr12  220621  262836  ENST00000343164.9     .      -"
      ]
     },
     "metadata": {},
     "output_type": "display_data"
    },
    {
     "name": "stdout",
     "output_type": "stream",
     "text": [
      "Number of MANE transcripts: 1008\n"
     ]
    }
   ],
   "source": [
    "display(mane_transcripts.head(3))\n",
    "print(\"Number of MANE transcripts:\", len(mane_transcripts))"
   ]
  },
  {
   "cell_type": "markdown",
   "id": "45e3b127",
   "metadata": {},
   "source": [
    "We also load the GENCODE datasets:\n",
    "\n",
    "- gene metadata table\n",
    "- gene type metadata table\n",
    "- non-overlapping, biotype annotated intervals for plus and minus strands"
   ]
  },
  {
   "cell_type": "code",
   "execution_count": 14,
   "id": "79811131",
   "metadata": {},
   "outputs": [
    {
     "data": {
      "text/html": [
       "<div>\n",
       "<style scoped>\n",
       "    .dataframe tbody tr th:only-of-type {\n",
       "        vertical-align: middle;\n",
       "    }\n",
       "\n",
       "    .dataframe tbody tr th {\n",
       "        vertical-align: top;\n",
       "    }\n",
       "\n",
       "    .dataframe thead th {\n",
       "        text-align: right;\n",
       "    }\n",
       "</style>\n",
       "<table border=\"1\" class=\"dataframe\">\n",
       "  <thead>\n",
       "    <tr style=\"text-align: right;\">\n",
       "      <th></th>\n",
       "      <th>transcript_id</th>\n",
       "      <th>gene_id</th>\n",
       "      <th>gene_name</th>\n",
       "      <th>gene_type</th>\n",
       "      <th>protein_id</th>\n",
       "      <th>official_name</th>\n",
       "      <th>official_id</th>\n",
       "    </tr>\n",
       "  </thead>\n",
       "  <tbody>\n",
       "    <tr>\n",
       "      <th>0</th>\n",
       "      <td>ENST00000456328.2</td>\n",
       "      <td>ENSG00000223972.5</td>\n",
       "      <td>DDX11L1</td>\n",
       "      <td>transcribed_unprocessed_pseudogene</td>\n",
       "      <td>NaN</td>\n",
       "      <td>DDX11L1</td>\n",
       "      <td>HGNC:37102</td>\n",
       "    </tr>\n",
       "    <tr>\n",
       "      <th>1</th>\n",
       "      <td>ENST00000450305.2</td>\n",
       "      <td>ENSG00000223972.5</td>\n",
       "      <td>DDX11L1</td>\n",
       "      <td>transcribed_unprocessed_pseudogene</td>\n",
       "      <td>NaN</td>\n",
       "      <td>DDX11L1</td>\n",
       "      <td>HGNC:37102</td>\n",
       "    </tr>\n",
       "    <tr>\n",
       "      <th>2</th>\n",
       "      <td>ENST00000488147.1</td>\n",
       "      <td>ENSG00000227232.5</td>\n",
       "      <td>WASH7P</td>\n",
       "      <td>unprocessed_pseudogene</td>\n",
       "      <td>NaN</td>\n",
       "      <td>WASH7P</td>\n",
       "      <td>HGNC:38034</td>\n",
       "    </tr>\n",
       "  </tbody>\n",
       "</table>\n",
       "</div>"
      ],
      "text/plain": [
       "       transcript_id            gene_id gene_name  \\\n",
       "0  ENST00000456328.2  ENSG00000223972.5   DDX11L1   \n",
       "1  ENST00000450305.2  ENSG00000223972.5   DDX11L1   \n",
       "2  ENST00000488147.1  ENSG00000227232.5    WASH7P   \n",
       "\n",
       "                            gene_type protein_id official_name official_id  \n",
       "0  transcribed_unprocessed_pseudogene        NaN       DDX11L1  HGNC:37102  \n",
       "1  transcribed_unprocessed_pseudogene        NaN       DDX11L1  HGNC:37102  \n",
       "2              unprocessed_pseudogene        NaN        WASH7P  HGNC:38034  "
      ]
     },
     "metadata": {},
     "output_type": "display_data"
    }
   ],
   "source": [
    "filepath = resource_dir / \"general\" / \"gene_annotations.hg38.gencode_v40\" / \"gene_metadata.tsv.gz\"\n",
    "gencode_gene_metadata = pd.read_csv(filepath, sep=\"\\t\", compression=\"gzip\", header=0)\n",
    "display(gencode_gene_metadata.head(3))"
   ]
  },
  {
   "cell_type": "code",
   "execution_count": 16,
   "id": "3beae0aa",
   "metadata": {},
   "outputs": [
    {
     "data": {
      "text/html": [
       "<div>\n",
       "<style scoped>\n",
       "    .dataframe tbody tr th:only-of-type {\n",
       "        vertical-align: middle;\n",
       "    }\n",
       "\n",
       "    .dataframe tbody tr th {\n",
       "        vertical-align: top;\n",
       "    }\n",
       "\n",
       "    .dataframe thead th {\n",
       "        text-align: right;\n",
       "    }\n",
       "</style>\n",
       "<table border=\"1\" class=\"dataframe\">\n",
       "  <thead>\n",
       "    <tr style=\"text-align: right;\">\n",
       "      <th></th>\n",
       "      <th>genetype</th>\n",
       "      <th>simplified_genetype</th>\n",
       "      <th>group_genetype</th>\n",
       "    </tr>\n",
       "  </thead>\n",
       "  <tbody>\n",
       "    <tr>\n",
       "      <th>0</th>\n",
       "      <td>IG_C_gene</td>\n",
       "      <td>IG_TR_gene</td>\n",
       "      <td>protein_coding</td>\n",
       "    </tr>\n",
       "    <tr>\n",
       "      <th>1</th>\n",
       "      <td>IG_D_gene</td>\n",
       "      <td>IG_TR_gene</td>\n",
       "      <td>protein_coding</td>\n",
       "    </tr>\n",
       "    <tr>\n",
       "      <th>2</th>\n",
       "      <td>IG_J_gene</td>\n",
       "      <td>IG_TR_gene</td>\n",
       "      <td>protein_coding</td>\n",
       "    </tr>\n",
       "  </tbody>\n",
       "</table>\n",
       "</div>"
      ],
      "text/plain": [
       "    genetype simplified_genetype  group_genetype\n",
       "0  IG_C_gene          IG_TR_gene  protein_coding\n",
       "1  IG_D_gene          IG_TR_gene  protein_coding\n",
       "2  IG_J_gene          IG_TR_gene  protein_coding"
      ]
     },
     "metadata": {},
     "output_type": "display_data"
    }
   ],
   "source": [
    "filepath = resource_dir / \"general\" / \"gene_annotations.hg38.gencode_v40\" / \"simplified_grouped_genetype.tsv\"\n",
    "gencode_genetype_metadata = pd.read_csv(filepath, sep=\"\\t\", header=0)\n",
    "display(gencode_genetype_metadata.head(3))"
   ]
  },
  {
   "cell_type": "code",
   "execution_count": 17,
   "id": "14aacb4f",
   "metadata": {},
   "outputs": [
    {
     "data": {
      "text/html": [
       "<div>\n",
       "<style scoped>\n",
       "    .dataframe tbody tr th:only-of-type {\n",
       "        vertical-align: middle;\n",
       "    }\n",
       "\n",
       "    .dataframe tbody tr th {\n",
       "        vertical-align: top;\n",
       "    }\n",
       "\n",
       "    .dataframe thead th {\n",
       "        text-align: right;\n",
       "    }\n",
       "</style>\n",
       "<table border=\"1\" class=\"dataframe\">\n",
       "  <thead>\n",
       "    <tr style=\"text-align: right;\">\n",
       "      <th></th>\n",
       "      <th>chrom</th>\n",
       "      <th>start</th>\n",
       "      <th>end</th>\n",
       "      <th>name</th>\n",
       "      <th>score</th>\n",
       "      <th>strand</th>\n",
       "    </tr>\n",
       "  </thead>\n",
       "  <tbody>\n",
       "    <tr>\n",
       "      <th>0</th>\n",
       "      <td>chr12</td>\n",
       "      <td>36601</td>\n",
       "      <td>38133</td>\n",
       "      <td>lncRNA;FAM138D;lncRNA;ENSG00000249054.2</td>\n",
       "      <td>.</td>\n",
       "      <td>-</td>\n",
       "    </tr>\n",
       "    <tr>\n",
       "      <th>1</th>\n",
       "      <td>chr12</td>\n",
       "      <td>106523</td>\n",
       "      <td>111850</td>\n",
       "      <td>lncRNA;ENSG00000256948;lncRNA;ENSG00000256948.1</td>\n",
       "      <td>.</td>\n",
       "      <td>-</td>\n",
       "    </tr>\n",
       "    <tr>\n",
       "      <th>2</th>\n",
       "      <td>chr12</td>\n",
       "      <td>137410</td>\n",
       "      <td>149169</td>\n",
       "      <td>lncRNA;ENSG00000249695;lncRNA;ENSG00000249695.6</td>\n",
       "      <td>.</td>\n",
       "      <td>-</td>\n",
       "    </tr>\n",
       "  </tbody>\n",
       "</table>\n",
       "</div>"
      ],
      "text/plain": [
       "   chrom   start     end                                             name  \\\n",
       "0  chr12   36601   38133          lncRNA;FAM138D;lncRNA;ENSG00000249054.2   \n",
       "1  chr12  106523  111850  lncRNA;ENSG00000256948;lncRNA;ENSG00000256948.1   \n",
       "2  chr12  137410  149169  lncRNA;ENSG00000249695;lncRNA;ENSG00000249695.6   \n",
       "\n",
       "  score strand  \n",
       "0     .      -  \n",
       "1     .      -  \n",
       "2     .      -  "
      ]
     },
     "metadata": {},
     "output_type": "display_data"
    },
    {
     "data": {
      "text/html": [
       "<div>\n",
       "<style scoped>\n",
       "    .dataframe tbody tr th:only-of-type {\n",
       "        vertical-align: middle;\n",
       "    }\n",
       "\n",
       "    .dataframe tbody tr th {\n",
       "        vertical-align: top;\n",
       "    }\n",
       "\n",
       "    .dataframe thead th {\n",
       "        text-align: right;\n",
       "    }\n",
       "</style>\n",
       "<table border=\"1\" class=\"dataframe\">\n",
       "  <thead>\n",
       "    <tr style=\"text-align: right;\">\n",
       "      <th></th>\n",
       "      <th>chrom</th>\n",
       "      <th>start</th>\n",
       "      <th>end</th>\n",
       "      <th>name</th>\n",
       "      <th>score</th>\n",
       "      <th>strand</th>\n",
       "    </tr>\n",
       "  </thead>\n",
       "  <tbody>\n",
       "    <tr>\n",
       "      <th>0</th>\n",
       "      <td>chr12</td>\n",
       "      <td>66766</td>\n",
       "      <td>66882</td>\n",
       "      <td>five_prime_UTR;IQSEC3;protein_coding;ENSG00000...</td>\n",
       "      <td>.</td>\n",
       "      <td>+</td>\n",
       "    </tr>\n",
       "    <tr>\n",
       "      <th>1</th>\n",
       "      <td>chr12</td>\n",
       "      <td>66882</td>\n",
       "      <td>66885</td>\n",
       "      <td>start_codon;IQSEC3;protein_coding;ENSG00000120...</td>\n",
       "      <td>.</td>\n",
       "      <td>+</td>\n",
       "    </tr>\n",
       "    <tr>\n",
       "      <th>2</th>\n",
       "      <td>chr12</td>\n",
       "      <td>66885</td>\n",
       "      <td>67436</td>\n",
       "      <td>CDS;IQSEC3;protein_coding;ENSG00000120645.12</td>\n",
       "      <td>.</td>\n",
       "      <td>+</td>\n",
       "    </tr>\n",
       "  </tbody>\n",
       "</table>\n",
       "</div>"
      ],
      "text/plain": [
       "   chrom  start    end                                               name  \\\n",
       "0  chr12  66766  66882  five_prime_UTR;IQSEC3;protein_coding;ENSG00000...   \n",
       "1  chr12  66882  66885  start_codon;IQSEC3;protein_coding;ENSG00000120...   \n",
       "2  chr12  66885  67436       CDS;IQSEC3;protein_coding;ENSG00000120645.12   \n",
       "\n",
       "  score strand  \n",
       "0     .      +  \n",
       "1     .      +  \n",
       "2     .      +  "
      ]
     },
     "metadata": {},
     "output_type": "display_data"
    },
    {
     "name": "stdout",
     "output_type": "stream",
     "text": [
      "Number of GENCODE minus strand intervals: 26_540\n",
      "Number of GENCODE plus strand intervals: 26_688\n"
     ]
    }
   ],
   "source": [
    "filepath_minus = (\n",
    "    resource_dir / \"general\" / \"gene_annotations.hg38.gencode_v40\" / \"complete.non-overlap.annotated.minus.bed.gz\"\n",
    ")\n",
    "filepath_plus = (\n",
    "    resource_dir / \"general\" / \"gene_annotations.hg38.gencode_v40\" / \"complete.non-overlap.annotated.plus.bed.gz\"\n",
    ")\n",
    "\n",
    "# Rather than load the complete files, we apply again bedtools to query the files.\n",
    "# NOTE: here you can see that a \"BedTool\" object can be created from a filepath,\n",
    "# rather than from a loaded pandas DataFrame.\n",
    "gencode_minus = pbt.BedTool(filepath_minus).intersect(bt_genome).to_dataframe()\n",
    "gencode_plus = pbt.BedTool(filepath_plus).intersect(bt_genome).to_dataframe()\n",
    "\n",
    "display(gencode_minus.head(3))\n",
    "display(gencode_plus.head(3))\n",
    "print(f\"Number of GENCODE minus strand intervals: {len(gencode_minus):_}\")\n",
    "print(f\"Number of GENCODE plus strand intervals: {len(gencode_plus):_}\")"
   ]
  },
  {
   "cell_type": "markdown",
   "id": "27ce5d8d",
   "metadata": {},
   "source": [
    "## eCLIP data - read counts"
   ]
  },
  {
   "cell_type": "markdown",
   "id": "606c804f",
   "metadata": {},
   "source": [
    "Here we load `bigwig` files, a binary format for storing one numeric value per position\n",
    "in a genomic coordinate system.\n",
    "\n",
    "This format can be manually built from a `Wiggle` file format, using the command `wigToBigWig <in.wig> <genome.chrom.sizes> <out.bw>`.\n",
    "\n",
    "Check the specification of the `Wiggle` format [here](https://genome.ucsc.edu/goldenPath/help/wiggle)\n",
    "\n",
    "The simplest version below shows a header line defining a fixed-step size of 1 nucleotide, starting at position 1 (wiggle format is 1-based) or chromosome 1.\n",
    "\n",
    "```bash\n",
    "fixedStep  chrom=\"chr1\" start=1  step=1`\n",
    "0.1\n",
    "0.2\n",
    "...\n",
    "```\n",
    "\n",
    "This can be useful for creating your own `bigwig` files, for example from PARNET predictions.\n",
    "\n",
    "Hereafter we demonstrate how to manipulate `bigwig` files using the `pyBigWig` library."
   ]
  },
  {
   "cell_type": "markdown",
   "id": "c22c5c4a",
   "metadata": {},
   "source": [
    "On the available files:\n",
    "\n",
    "- each eCLIP experiment is performed on a specific RNA Binding Protein (e.g. `QKI`) in a specific Cell Line (e.g. `HepG2`).\n",
    "\n",
    "- each experiment has\n",
    "    - 2 biological replicates for the *eCLIP* (i.e. the data generated from the part of the protocol where the RBP is actually immunoprecipitated),\n",
    "    - and 1 biological replicate for the *input* (i.e. the data generated from the part of the protocol where no RBP is immunoprecipitated).\n",
    "\n",
    "- for training PARNET, the two biological replicates of the *eCLIP* are summed position-wise into a single file. Keeping the two replicate separate here allows to compare between-replicate correlation vs prediction-vs-replicate correlation.\n",
    "\n",
    "- For now, we will simply demonstrate how to load the data."
   ]
  },
  {
   "cell_type": "markdown",
   "id": "11026f7b",
   "metadata": {},
   "source": [
    "#### Load"
   ]
  },
  {
   "cell_type": "code",
   "execution_count": null,
   "id": "ae7d64d4",
   "metadata": {},
   "outputs": [],
   "source": [
    "LIST_ECLIP_STRAND: list[Literal[\"pos\", \"neg\"]] = [\"pos\", \"neg\"]\n",
    "LIST_ECLIP_REPLICATE: list[Literal[\"1\", \"2\"]] = [\"1\", \"2\"]\n",
    "LIST_SUBSET_RBP_CL: list[str] = params_subset_rbp_cl\n",
    "\n",
    "parent_dir_bigwig = resource_dir / \"parnet_encore_eclip\" / \"bigwig_processed_counts\"\n",
    "\n",
    "# List the content of the directory to get the list of \"{RBP_CL}\" e.g. \"QKI_K562\", \"PTBP1_HepG2\", etc.\n",
    "LIST_RBP_CL = sorted(os.listdir(parent_dir_bigwig))\n",
    "\n",
    "ufmt_readcounts_eclip_fp = parent_dir_bigwig / \"{RBP_CL}\" / \"eCLIP\" / \"{REPLICATE}\" / \"counts.{STRAND}.bw\"\n",
    "\n",
    "ufmt_readcounts_control_fp = parent_dir_bigwig / \"{RBP_CL}\" / \"control\" / \"counts.{STRAND}.bw\""
   ]
  },
  {
   "cell_type": "code",
   "execution_count": 25,
   "id": "0d22dac1",
   "metadata": {},
   "outputs": [
    {
     "data": {
      "text/html": [
       "<div>\n",
       "<style scoped>\n",
       "    .dataframe tbody tr th:only-of-type {\n",
       "        vertical-align: middle;\n",
       "    }\n",
       "\n",
       "    .dataframe tbody tr th {\n",
       "        vertical-align: top;\n",
       "    }\n",
       "\n",
       "    .dataframe thead th {\n",
       "        text-align: right;\n",
       "    }\n",
       "</style>\n",
       "<table border=\"1\" class=\"dataframe\">\n",
       "  <thead>\n",
       "    <tr style=\"text-align: right;\">\n",
       "      <th></th>\n",
       "      <th>RBP_CL</th>\n",
       "      <th>REPLICATE</th>\n",
       "      <th>STRAND</th>\n",
       "      <th>RBP</th>\n",
       "      <th>CL</th>\n",
       "    </tr>\n",
       "  </thead>\n",
       "  <tbody>\n",
       "    <tr>\n",
       "      <th>0</th>\n",
       "      <td>AARS_K562</td>\n",
       "      <td>1</td>\n",
       "      <td>pos</td>\n",
       "      <td>AARS</td>\n",
       "      <td>K562</td>\n",
       "    </tr>\n",
       "    <tr>\n",
       "      <th>1</th>\n",
       "      <td>AARS_K562</td>\n",
       "      <td>1</td>\n",
       "      <td>neg</td>\n",
       "      <td>AARS</td>\n",
       "      <td>K562</td>\n",
       "    </tr>\n",
       "    <tr>\n",
       "      <th>2</th>\n",
       "      <td>AARS_K562</td>\n",
       "      <td>2</td>\n",
       "      <td>pos</td>\n",
       "      <td>AARS</td>\n",
       "      <td>K562</td>\n",
       "    </tr>\n",
       "  </tbody>\n",
       "</table>\n",
       "</div>"
      ],
      "text/plain": [
       "      RBP_CL REPLICATE STRAND   RBP    CL\n",
       "0  AARS_K562         1    pos  AARS  K562\n",
       "1  AARS_K562         1    neg  AARS  K562\n",
       "2  AARS_K562         2    pos  AARS  K562"
      ]
     },
     "metadata": {},
     "output_type": "display_data"
    },
    {
     "name": "stdout",
     "output_type": "stream",
     "text": [
      "(892, 5)\n",
      "Subsetted experiments to the following RBP_CLs: ['QKI_HepG2', 'QKI_K562', 'PTBP1_HepG2', 'SRSF7_HepG2']\n"
     ]
    },
    {
     "data": {
      "text/html": [
       "<div>\n",
       "<style scoped>\n",
       "    .dataframe tbody tr th:only-of-type {\n",
       "        vertical-align: middle;\n",
       "    }\n",
       "\n",
       "    .dataframe tbody tr th {\n",
       "        vertical-align: top;\n",
       "    }\n",
       "\n",
       "    .dataframe thead th {\n",
       "        text-align: right;\n",
       "    }\n",
       "</style>\n",
       "<table border=\"1\" class=\"dataframe\">\n",
       "  <thead>\n",
       "    <tr style=\"text-align: right;\">\n",
       "      <th></th>\n",
       "      <th>RBP_CL</th>\n",
       "      <th>REPLICATE</th>\n",
       "      <th>STRAND</th>\n",
       "      <th>RBP</th>\n",
       "      <th>CL</th>\n",
       "    </tr>\n",
       "  </thead>\n",
       "  <tbody>\n",
       "    <tr>\n",
       "      <th>0</th>\n",
       "      <td>PTBP1_HepG2</td>\n",
       "      <td>1</td>\n",
       "      <td>pos</td>\n",
       "      <td>PTBP1</td>\n",
       "      <td>HepG2</td>\n",
       "    </tr>\n",
       "    <tr>\n",
       "      <th>1</th>\n",
       "      <td>PTBP1_HepG2</td>\n",
       "      <td>1</td>\n",
       "      <td>neg</td>\n",
       "      <td>PTBP1</td>\n",
       "      <td>HepG2</td>\n",
       "    </tr>\n",
       "    <tr>\n",
       "      <th>2</th>\n",
       "      <td>PTBP1_HepG2</td>\n",
       "      <td>2</td>\n",
       "      <td>pos</td>\n",
       "      <td>PTBP1</td>\n",
       "      <td>HepG2</td>\n",
       "    </tr>\n",
       "  </tbody>\n",
       "</table>\n",
       "</div>"
      ],
      "text/plain": [
       "        RBP_CL REPLICATE STRAND    RBP     CL\n",
       "0  PTBP1_HepG2         1    pos  PTBP1  HepG2\n",
       "1  PTBP1_HepG2         1    neg  PTBP1  HepG2\n",
       "2  PTBP1_HepG2         2    pos  PTBP1  HepG2"
      ]
     },
     "metadata": {},
     "output_type": "display_data"
    },
    {
     "name": "stdout",
     "output_type": "stream",
     "text": [
      "(16, 5)\n"
     ]
    }
   ],
   "source": [
    "# Here we use a function that automatically identifies the possible values for \"wildcards\" in a filepath.\n",
    "\n",
    "compiled_experiments: list[tuple[str, str, str]] = []\n",
    "\n",
    "for RBP_CL in LIST_RBP_CL:\n",
    "    for REPLICATE in LIST_ECLIP_REPLICATE:\n",
    "        for STRAND in LIST_ECLIP_STRAND:\n",
    "            compiled_experiments.append((RBP_CL, REPLICATE, STRAND))\n",
    "\n",
    "df_experiments = pd.DataFrame(compiled_experiments, columns=[\"RBP_CL\", \"REPLICATE\", \"STRAND\"])\n",
    "split_rbp_cl = df_experiments[\"RBP_CL\"].str.split(\"_\", expand=True).set_axis([\"RBP\", \"CL\"], axis=1)\n",
    "df_experiments = pd.concat([df_experiments, split_rbp_cl], axis=1)\n",
    "df_experiments = df_experiments.sort_values(by=[\"RBP\", \"CL\"], ascending=[True, True])\n",
    "\n",
    "display(df_experiments.head(3))\n",
    "print(df_experiments.shape)\n",
    "\n",
    "df_experiments = df_experiments.loc[lambda df: df[\"RBP_CL\"].isin(params_subset_rbp_cl), :].reset_index(drop=True)\n",
    "\n",
    "print(\"Subsetted experiments to the following RBP_CLs:\", params_subset_rbp_cl)\n",
    "display(df_experiments.head(3))\n",
    "print(df_experiments.shape)"
   ]
  },
  {
   "cell_type": "code",
   "execution_count": 35,
   "id": "036e7373",
   "metadata": {},
   "outputs": [
    {
     "name": "stdout",
     "output_type": "stream",
     "text": [
      "{'RBP_CL': 'PTBP1_HepG2', 'REPLICATE': '1', 'STRAND': 'pos', 'RBP': 'PTBP1', 'CL': 'HepG2'}\n",
      "{'RBP_CL': 'PTBP1_HepG2', 'REPLICATE': '1', 'STRAND': 'neg', 'RBP': 'PTBP1', 'CL': 'HepG2'}\n",
      "{'RBP_CL': 'PTBP1_HepG2', 'REPLICATE': '2', 'STRAND': 'pos', 'RBP': 'PTBP1', 'CL': 'HepG2'}\n",
      "{'RBP_CL': 'PTBP1_HepG2', 'REPLICATE': '2', 'STRAND': 'neg', 'RBP': 'PTBP1', 'CL': 'HepG2'}\n",
      "{'RBP_CL': 'QKI_HepG2', 'REPLICATE': '1', 'STRAND': 'pos', 'RBP': 'QKI', 'CL': 'HepG2'}\n",
      "{'RBP_CL': 'QKI_HepG2', 'REPLICATE': '1', 'STRAND': 'neg', 'RBP': 'QKI', 'CL': 'HepG2'}\n",
      "{'RBP_CL': 'QKI_HepG2', 'REPLICATE': '2', 'STRAND': 'pos', 'RBP': 'QKI', 'CL': 'HepG2'}\n",
      "{'RBP_CL': 'QKI_HepG2', 'REPLICATE': '2', 'STRAND': 'neg', 'RBP': 'QKI', 'CL': 'HepG2'}\n",
      "{'RBP_CL': 'QKI_K562', 'REPLICATE': '1', 'STRAND': 'pos', 'RBP': 'QKI', 'CL': 'K562'}\n",
      "{'RBP_CL': 'QKI_K562', 'REPLICATE': '1', 'STRAND': 'neg', 'RBP': 'QKI', 'CL': 'K562'}\n",
      "{'RBP_CL': 'QKI_K562', 'REPLICATE': '2', 'STRAND': 'pos', 'RBP': 'QKI', 'CL': 'K562'}\n",
      "{'RBP_CL': 'QKI_K562', 'REPLICATE': '2', 'STRAND': 'neg', 'RBP': 'QKI', 'CL': 'K562'}\n",
      "{'RBP_CL': 'SRSF7_HepG2', 'REPLICATE': '1', 'STRAND': 'pos', 'RBP': 'SRSF7', 'CL': 'HepG2'}\n",
      "{'RBP_CL': 'SRSF7_HepG2', 'REPLICATE': '1', 'STRAND': 'neg', 'RBP': 'SRSF7', 'CL': 'HepG2'}\n",
      "{'RBP_CL': 'SRSF7_HepG2', 'REPLICATE': '2', 'STRAND': 'pos', 'RBP': 'SRSF7', 'CL': 'HepG2'}\n",
      "{'RBP_CL': 'SRSF7_HepG2', 'REPLICATE': '2', 'STRAND': 'neg', 'RBP': 'SRSF7', 'CL': 'HepG2'}\n"
     ]
    }
   ],
   "source": [
    "data_eclip_signal = DotMap()\n",
    "\n",
    "for _, row in df_experiments.iterrows():\n",
    "    print(row.to_dict())\n",
    "    readcounts_eclip_fp = str(ufmt_readcounts_eclip_fp).format(\n",
    "        RBP_CL=row[\"RBP_CL\"], REPLICATE=row[\"REPLICATE\"], STRAND=row[\"STRAND\"]\n",
    "    )\n",
    "    data_eclip = pbw.open(readcounts_eclip_fp)\n",
    "    data_eclip_signal[row[\"RBP_CL\"]][\"eCLIP\"][row[\"REPLICATE\"]][row[\"STRAND\"]] = data_eclip\n",
    "\n",
    "    # NOTE: this could be optimized as, we load twice the same \"control\" track,\n",
    "    # since for each RBP_CL and STRAND we have two replicates, while there is only one control track.\n",
    "\n",
    "    readcounts_control_fp = str(ufmt_readcounts_control_fp).format(RBP_CL=row[\"RBP_CL\"], STRAND=row[\"STRAND\"])\n",
    "    data_control = pbw.open(readcounts_control_fp)\n",
    "    data_eclip_signal[row[\"RBP_CL\"]][\"control\"][row[\"STRAND\"]] = data_control"
   ]
  },
  {
   "cell_type": "markdown",
   "id": "5aa42e51",
   "metadata": {},
   "source": [
    "#### Single example"
   ]
  },
  {
   "cell_type": "code",
   "execution_count": 36,
   "id": "417f2e80",
   "metadata": {},
   "outputs": [],
   "source": [
    "# We will work with a random genomic annotation for now.\n",
    "# NOTE: GAPDH is selected because highly expressed in HepG2 cell lines.\n",
    "example_interval = GenomicInterval(\n",
    "    chrom=\"chr12\",\n",
    "    start=6_538_170,\n",
    "    end=6_538_371,\n",
    "    name=\"three_prime_UTR;GAPDH;ENST00000229239.10\",\n",
    "    score=\".\",\n",
    "    strand=\"+\",\n",
    ")"
   ]
  },
  {
   "cell_type": "code",
   "execution_count": 49,
   "id": "b2e2346b",
   "metadata": {},
   "outputs": [],
   "source": [
    "# We store in this dictionary the results ; the keys will be {RBP_CL}.{ECLIP_OR_CONTROL}[.{REPLICATE}]\n",
    "# e.g. QKI_HepG2_eCLIP_1 for the eCLIP signal from replicate 1\n",
    "queried_results: dict[str, list[float]] = {}\n",
    "\n",
    "eclip_strand_str_mapping = {\n",
    "    \"+\": \"pos\",\n",
    "    \"-\": \"neg\",\n",
    "}\n",
    "\n",
    "for RBP_CL in params_subset_rbp_cl:\n",
    "    for REPLICATE in LIST_ECLIP_REPLICATE:\n",
    "        name = f\"{RBP_CL}.control\"\n",
    "        control_signal_bw = data_eclip_signal[RBP_CL][\"control\"][eclip_strand_str_mapping[example_interval.strand]]\n",
    "\n",
    "        queried_control_signal = control_signal_bw.values(\n",
    "            example_interval.chrom, example_interval.start, example_interval.end\n",
    "        )\n",
    "        queried_results[name] = queried_control_signal\n",
    "\n",
    "        for replicate in LIST_ECLIP_REPLICATE:\n",
    "            name = f\"{RBP_CL}.eCLIP.{REPLICATE}\"\n",
    "            eclip_signal_bw = data_eclip_signal[RBP_CL][\"eCLIP\"][REPLICATE][\n",
    "                eclip_strand_str_mapping[example_interval.strand]\n",
    "            ]\n",
    "\n",
    "            queried_results[name] = eclip_signal_bw.values(\n",
    "                example_interval.chrom, example_interval.start, example_interval.end\n",
    "            )\n",
    "\n",
    "queried_results_df = pd.DataFrame(queried_results)"
   ]
  },
  {
   "cell_type": "code",
   "execution_count": 50,
   "id": "c3d9c790",
   "metadata": {},
   "outputs": [
    {
     "data": {
      "text/html": [
       "<div>\n",
       "<style scoped>\n",
       "    .dataframe tbody tr th:only-of-type {\n",
       "        vertical-align: middle;\n",
       "    }\n",
       "\n",
       "    .dataframe tbody tr th {\n",
       "        vertical-align: top;\n",
       "    }\n",
       "\n",
       "    .dataframe thead th {\n",
       "        text-align: right;\n",
       "    }\n",
       "</style>\n",
       "<table border=\"1\" class=\"dataframe\">\n",
       "  <thead>\n",
       "    <tr style=\"text-align: right;\">\n",
       "      <th></th>\n",
       "      <th>QKI_HepG2.control</th>\n",
       "      <th>QKI_HepG2.eCLIP.1</th>\n",
       "      <th>QKI_HepG2.eCLIP.2</th>\n",
       "      <th>QKI_K562.control</th>\n",
       "      <th>QKI_K562.eCLIP.1</th>\n",
       "      <th>QKI_K562.eCLIP.2</th>\n",
       "      <th>PTBP1_HepG2.control</th>\n",
       "      <th>PTBP1_HepG2.eCLIP.1</th>\n",
       "      <th>PTBP1_HepG2.eCLIP.2</th>\n",
       "      <th>SRSF7_HepG2.control</th>\n",
       "      <th>SRSF7_HepG2.eCLIP.1</th>\n",
       "      <th>SRSF7_HepG2.eCLIP.2</th>\n",
       "    </tr>\n",
       "  </thead>\n",
       "  <tbody>\n",
       "    <tr>\n",
       "      <th>0</th>\n",
       "      <td>1.0</td>\n",
       "      <td>NaN</td>\n",
       "      <td>NaN</td>\n",
       "      <td>1.0</td>\n",
       "      <td>NaN</td>\n",
       "      <td>NaN</td>\n",
       "      <td>NaN</td>\n",
       "      <td>NaN</td>\n",
       "      <td>NaN</td>\n",
       "      <td>1.0</td>\n",
       "      <td>NaN</td>\n",
       "      <td>NaN</td>\n",
       "    </tr>\n",
       "    <tr>\n",
       "      <th>1</th>\n",
       "      <td>1.0</td>\n",
       "      <td>2.0</td>\n",
       "      <td>NaN</td>\n",
       "      <td>4.0</td>\n",
       "      <td>NaN</td>\n",
       "      <td>1.0</td>\n",
       "      <td>1.0</td>\n",
       "      <td>NaN</td>\n",
       "      <td>2.0</td>\n",
       "      <td>NaN</td>\n",
       "      <td>NaN</td>\n",
       "      <td>NaN</td>\n",
       "    </tr>\n",
       "    <tr>\n",
       "      <th>2</th>\n",
       "      <td>NaN</td>\n",
       "      <td>NaN</td>\n",
       "      <td>NaN</td>\n",
       "      <td>1.0</td>\n",
       "      <td>NaN</td>\n",
       "      <td>1.0</td>\n",
       "      <td>NaN</td>\n",
       "      <td>NaN</td>\n",
       "      <td>NaN</td>\n",
       "      <td>NaN</td>\n",
       "      <td>NaN</td>\n",
       "      <td>NaN</td>\n",
       "    </tr>\n",
       "    <tr>\n",
       "      <th>3</th>\n",
       "      <td>NaN</td>\n",
       "      <td>1.0</td>\n",
       "      <td>NaN</td>\n",
       "      <td>NaN</td>\n",
       "      <td>NaN</td>\n",
       "      <td>NaN</td>\n",
       "      <td>NaN</td>\n",
       "      <td>NaN</td>\n",
       "      <td>NaN</td>\n",
       "      <td>NaN</td>\n",
       "      <td>NaN</td>\n",
       "      <td>NaN</td>\n",
       "    </tr>\n",
       "    <tr>\n",
       "      <th>4</th>\n",
       "      <td>NaN</td>\n",
       "      <td>NaN</td>\n",
       "      <td>NaN</td>\n",
       "      <td>NaN</td>\n",
       "      <td>NaN</td>\n",
       "      <td>NaN</td>\n",
       "      <td>2.0</td>\n",
       "      <td>NaN</td>\n",
       "      <td>NaN</td>\n",
       "      <td>NaN</td>\n",
       "      <td>NaN</td>\n",
       "      <td>NaN</td>\n",
       "    </tr>\n",
       "    <tr>\n",
       "      <th>...</th>\n",
       "      <td>...</td>\n",
       "      <td>...</td>\n",
       "      <td>...</td>\n",
       "      <td>...</td>\n",
       "      <td>...</td>\n",
       "      <td>...</td>\n",
       "      <td>...</td>\n",
       "      <td>...</td>\n",
       "      <td>...</td>\n",
       "      <td>...</td>\n",
       "      <td>...</td>\n",
       "      <td>...</td>\n",
       "    </tr>\n",
       "    <tr>\n",
       "      <th>196</th>\n",
       "      <td>NaN</td>\n",
       "      <td>NaN</td>\n",
       "      <td>NaN</td>\n",
       "      <td>NaN</td>\n",
       "      <td>NaN</td>\n",
       "      <td>NaN</td>\n",
       "      <td>NaN</td>\n",
       "      <td>NaN</td>\n",
       "      <td>NaN</td>\n",
       "      <td>NaN</td>\n",
       "      <td>NaN</td>\n",
       "      <td>NaN</td>\n",
       "    </tr>\n",
       "    <tr>\n",
       "      <th>197</th>\n",
       "      <td>NaN</td>\n",
       "      <td>NaN</td>\n",
       "      <td>NaN</td>\n",
       "      <td>NaN</td>\n",
       "      <td>NaN</td>\n",
       "      <td>NaN</td>\n",
       "      <td>NaN</td>\n",
       "      <td>NaN</td>\n",
       "      <td>NaN</td>\n",
       "      <td>NaN</td>\n",
       "      <td>NaN</td>\n",
       "      <td>NaN</td>\n",
       "    </tr>\n",
       "    <tr>\n",
       "      <th>198</th>\n",
       "      <td>NaN</td>\n",
       "      <td>NaN</td>\n",
       "      <td>NaN</td>\n",
       "      <td>NaN</td>\n",
       "      <td>NaN</td>\n",
       "      <td>NaN</td>\n",
       "      <td>NaN</td>\n",
       "      <td>NaN</td>\n",
       "      <td>NaN</td>\n",
       "      <td>NaN</td>\n",
       "      <td>NaN</td>\n",
       "      <td>NaN</td>\n",
       "    </tr>\n",
       "    <tr>\n",
       "      <th>199</th>\n",
       "      <td>NaN</td>\n",
       "      <td>NaN</td>\n",
       "      <td>NaN</td>\n",
       "      <td>NaN</td>\n",
       "      <td>NaN</td>\n",
       "      <td>NaN</td>\n",
       "      <td>NaN</td>\n",
       "      <td>NaN</td>\n",
       "      <td>NaN</td>\n",
       "      <td>NaN</td>\n",
       "      <td>NaN</td>\n",
       "      <td>NaN</td>\n",
       "    </tr>\n",
       "    <tr>\n",
       "      <th>200</th>\n",
       "      <td>NaN</td>\n",
       "      <td>NaN</td>\n",
       "      <td>NaN</td>\n",
       "      <td>NaN</td>\n",
       "      <td>NaN</td>\n",
       "      <td>NaN</td>\n",
       "      <td>NaN</td>\n",
       "      <td>NaN</td>\n",
       "      <td>NaN</td>\n",
       "      <td>NaN</td>\n",
       "      <td>NaN</td>\n",
       "      <td>NaN</td>\n",
       "    </tr>\n",
       "  </tbody>\n",
       "</table>\n",
       "<p>201 rows × 12 columns</p>\n",
       "</div>"
      ],
      "text/plain": [
       "     QKI_HepG2.control  QKI_HepG2.eCLIP.1  QKI_HepG2.eCLIP.2  \\\n",
       "0                  1.0                NaN                NaN   \n",
       "1                  1.0                2.0                NaN   \n",
       "2                  NaN                NaN                NaN   \n",
       "3                  NaN                1.0                NaN   \n",
       "4                  NaN                NaN                NaN   \n",
       "..                 ...                ...                ...   \n",
       "196                NaN                NaN                NaN   \n",
       "197                NaN                NaN                NaN   \n",
       "198                NaN                NaN                NaN   \n",
       "199                NaN                NaN                NaN   \n",
       "200                NaN                NaN                NaN   \n",
       "\n",
       "     QKI_K562.control  QKI_K562.eCLIP.1  QKI_K562.eCLIP.2  \\\n",
       "0                 1.0               NaN               NaN   \n",
       "1                 4.0               NaN               1.0   \n",
       "2                 1.0               NaN               1.0   \n",
       "3                 NaN               NaN               NaN   \n",
       "4                 NaN               NaN               NaN   \n",
       "..                ...               ...               ...   \n",
       "196               NaN               NaN               NaN   \n",
       "197               NaN               NaN               NaN   \n",
       "198               NaN               NaN               NaN   \n",
       "199               NaN               NaN               NaN   \n",
       "200               NaN               NaN               NaN   \n",
       "\n",
       "     PTBP1_HepG2.control  PTBP1_HepG2.eCLIP.1  PTBP1_HepG2.eCLIP.2  \\\n",
       "0                    NaN                  NaN                  NaN   \n",
       "1                    1.0                  NaN                  2.0   \n",
       "2                    NaN                  NaN                  NaN   \n",
       "3                    NaN                  NaN                  NaN   \n",
       "4                    2.0                  NaN                  NaN   \n",
       "..                   ...                  ...                  ...   \n",
       "196                  NaN                  NaN                  NaN   \n",
       "197                  NaN                  NaN                  NaN   \n",
       "198                  NaN                  NaN                  NaN   \n",
       "199                  NaN                  NaN                  NaN   \n",
       "200                  NaN                  NaN                  NaN   \n",
       "\n",
       "     SRSF7_HepG2.control  SRSF7_HepG2.eCLIP.1  SRSF7_HepG2.eCLIP.2  \n",
       "0                    1.0                  NaN                  NaN  \n",
       "1                    NaN                  NaN                  NaN  \n",
       "2                    NaN                  NaN                  NaN  \n",
       "3                    NaN                  NaN                  NaN  \n",
       "4                    NaN                  NaN                  NaN  \n",
       "..                   ...                  ...                  ...  \n",
       "196                  NaN                  NaN                  NaN  \n",
       "197                  NaN                  NaN                  NaN  \n",
       "198                  NaN                  NaN                  NaN  \n",
       "199                  NaN                  NaN                  NaN  \n",
       "200                  NaN                  NaN                  NaN  \n",
       "\n",
       "[201 rows x 12 columns]"
      ]
     },
     "execution_count": 50,
     "metadata": {},
     "output_type": "execute_result"
    }
   ],
   "source": [
    "queried_results_df"
   ]
  },
  {
   "cell_type": "code",
   "execution_count": 51,
   "id": "a9df206e",
   "metadata": {},
   "outputs": [
    {
     "data": {
      "text/plain": [
       "QKI_K562.control       100\n",
       "QKI_HepG2.control      147\n",
       "PTBP1_HepG2.eCLIP.1    169\n",
       "PTBP1_HepG2.eCLIP.2    169\n",
       "QKI_HepG2.eCLIP.1      174\n",
       "PTBP1_HepG2.control    175\n",
       "QKI_K562.eCLIP.2       182\n",
       "SRSF7_HepG2.control    186\n",
       "QKI_K562.eCLIP.1       191\n",
       "QKI_HepG2.eCLIP.2      193\n",
       "SRSF7_HepG2.eCLIP.1    198\n",
       "SRSF7_HepG2.eCLIP.2    198\n",
       "dtype: int64"
      ]
     },
     "execution_count": 51,
     "metadata": {},
     "output_type": "execute_result"
    }
   ],
   "source": [
    "# The signal is rather sparse.\n",
    "queried_results_df.isna().sum(axis=0).sort_values()"
   ]
  },
  {
   "cell_type": "markdown",
   "id": "c6f28240",
   "metadata": {},
   "source": [
    "## eCLIP - peaks"
   ]
  },
  {
   "cell_type": "markdown",
   "id": "b7520ce4",
   "metadata": {},
   "source": [
    "### Load"
   ]
  },
  {
   "cell_type": "markdown",
   "id": "968e4246",
   "metadata": {},
   "source": [
    "Peaks are genomic intervals representing boundaries within the eCLIP counts data that are likely to represent \n",
    "true binding events of an RBP onto an RNA.\n",
    "\n",
    "Different tools exist to \"call\" peaks from read counts data. \n",
    "\n",
    "Here we use peaks that were called with the `pureCLIP` tool. \n",
    "\n",
    "This tool considers both replicates for a given RBP+cell line experiment, as well as the control input data.\n",
    "\n",
    "\n",
    "Hence we have a single peak file per RBP+cell line experiment."
   ]
  },
  {
   "cell_type": "code",
   "execution_count": 52,
   "id": "48bea394",
   "metadata": {},
   "outputs": [],
   "source": [
    "LIST_SUBSET_RBP_CL: list[str] = params_subset_rbp_cl\n",
    "\n",
    "parent_dir_peaks = resource_dir / \"parnet_encore_eclip\" / \"bed6_peaks_pureclip\"\n",
    "\n",
    "# List the content of the directory to get the list of \"{RBP_CL}\" e.g. \"QKI_K562\", \"PTBP1_HepG2\", etc.\n",
    "LIST_RBP_CL = sorted(os.listdir(parent_dir_peaks))\n",
    "\n",
    "ufmt_peaks_fp = parent_dir_peaks / \"{RBP_CL}\" / \"peaks.crosslink.bed6\""
   ]
  },
  {
   "cell_type": "code",
   "execution_count": 53,
   "id": "5563b09e",
   "metadata": {},
   "outputs": [
    {
     "name": "stdout",
     "output_type": "stream",
     "text": [
      "Loading peaks for RBP_CL: SRSF7_HepG2\n",
      "Loading peaks for RBP_CL: QKI_HepG2\n",
      "Loading peaks for RBP_CL: QKI_K562\n",
      "Loading peaks for RBP_CL: PTBP1_HepG2\n"
     ]
    }
   ],
   "source": [
    "data_eclip_peaks = DotMap()\n",
    "\n",
    "for RBP_CL in set(LIST_SUBSET_RBP_CL) & set(LIST_RBP_CL):\n",
    "    print(\"Loading peaks for RBP_CL:\", RBP_CL)\n",
    "    readcounts_peaks_fp = str(ufmt_peaks_fp).format(RBP_CL=RBP_CL)\n",
    "\n",
    "    # NOTE : rather than loading the file into a dataframe, we can use pyBedTool to build\n",
    "    # a BedTool object. This provides with an interface to query the content of the file.\n",
    "    data_eclip_peaks[RBP_CL] = pbt.BedTool(readcounts_peaks_fp)\n"
   ]
  },
  {
   "cell_type": "code",
   "execution_count": 56,
   "id": "2a02055e",
   "metadata": {},
   "outputs": [
    {
     "name": "stdout",
     "output_type": "stream",
     "text": [
      "BedTool object filepath: ../resources/parnet_encore_eclip/bed6_peaks_pureclip/PTBP1_HepG2/peaks.crosslink.bed6\n",
      "BedTool object content:\n",
      "chr1\t630716\t630717\t3\t58.4343\t+\n",
      " chr1\t630717\t630718\t3\t8.10339\t+\n",
      " chr1\t1037609\t1037610\t3\t0.363269\t+\n",
      " None\n"
     ]
    }
   ],
   "source": [
    "# We can display the filepath of a BedTool object.\n",
    "print(\"BedTool object filepath:\", data_eclip_peaks[RBP_CL].fn)\n",
    "# We can display the content of the BedTool object.\n",
    "print(\"BedTool object content:\")\n",
    "print(data_eclip_peaks[RBP_CL].head(3))"
   ]
  },
  {
   "cell_type": "markdown",
   "id": "4c234a9b",
   "metadata": {},
   "source": [
    "IMPORTANT: here you can see that the intervals are of length = 1.\n",
    "\n",
    "This is because the PureCLIP tool actually has returned **cross-link sites** i.e. single-nucleotide events \n",
    "most likely representing where the RBP was \"glued\" to the RNA.\n",
    "\n"
   ]
  },
  {
   "cell_type": "markdown",
   "id": "0c6aec97",
   "metadata": {},
   "source": [
    "### Demo: intersection with example interval"
   ]
  },
  {
   "cell_type": "markdown",
   "id": "286ffab7",
   "metadata": {},
   "source": [
    "#### Cross-link sites"
   ]
  },
  {
   "cell_type": "code",
   "execution_count": 70,
   "id": "399cee93",
   "metadata": {},
   "outputs": [
    {
     "data": {
      "text/html": [
       "<div>\n",
       "<style scoped>\n",
       "    .dataframe tbody tr th:only-of-type {\n",
       "        vertical-align: middle;\n",
       "    }\n",
       "\n",
       "    .dataframe tbody tr th {\n",
       "        vertical-align: top;\n",
       "    }\n",
       "\n",
       "    .dataframe thead th {\n",
       "        text-align: right;\n",
       "    }\n",
       "</style>\n",
       "<table border=\"1\" class=\"dataframe\">\n",
       "  <thead>\n",
       "    <tr style=\"text-align: right;\">\n",
       "      <th></th>\n",
       "      <th>chrom</th>\n",
       "      <th>start</th>\n",
       "      <th>end</th>\n",
       "      <th>name</th>\n",
       "      <th>score</th>\n",
       "      <th>strand</th>\n",
       "    </tr>\n",
       "  </thead>\n",
       "  <tbody>\n",
       "    <tr>\n",
       "      <th>0</th>\n",
       "      <td>chr12</td>\n",
       "      <td>6538170</td>\n",
       "      <td>6538371</td>\n",
       "      <td>three_prime_UTR;GAPDH;ENST00000229239.10</td>\n",
       "      <td>.</td>\n",
       "      <td>+</td>\n",
       "    </tr>\n",
       "  </tbody>\n",
       "</table>\n",
       "</div>"
      ],
      "text/plain": [
       "   chrom    start      end                                      name score  \\\n",
       "0  chr12  6538170  6538371  three_prime_UTR;GAPDH;ENST00000229239.10     .   \n",
       "\n",
       "  strand  \n",
       "0      +  "
      ]
     },
     "metadata": {},
     "output_type": "display_data"
    },
    {
     "name": "stdout",
     "output_type": "stream",
     "text": [
      "BedTool object filepath: /tmp/tmprnbt0klp/pybedtools.ekl755sr.tmp\n",
      "Number of intersected peaks for SRSF7_HepG2: 0\n",
      "Number of intersected peaks for QKI_HepG2: 0\n",
      "Number of intersected peaks for QKI_K562: 0\n",
      "Number of intersected peaks for PTBP1_HepG2: 1\n"
     ]
    }
   ],
   "source": [
    "# We will create a dataframe with a single row from the example genomic interval.\n",
    "example_interval_df = pd.DataFrame([asdict(example_interval)])\n",
    "display(example_interval_df)\n",
    "\n",
    "\n",
    "# We can now create the BedTool object for this example interval, and then use the API to intersect the eCLIP peaks.\n",
    "bt_example_interval = pbt.BedTool.from_dataframe(example_interval_df)\n",
    "\n",
    "# NOTE: any BedTool object has a file on disk ; we can display it here (and this can be useful for some\n",
    "# of the methods in the pyBedTools API).\n",
    "\n",
    "print(\"BedTool object filepath:\", bt_example_interval.fn)\n",
    "\n",
    "\n",
    "# Here we will simply print the number of peaks for each RBP_CL that intersect the example interval.\n",
    "\n",
    "for RBP_CL in data_eclip_peaks.keys():\n",
    "    peaks_intersected = data_eclip_peaks[RBP_CL].intersect(bt_example_interval, s=True, wa=True, u=True)\n",
    "\n",
    "    print(f\"Number of intersected peaks for {RBP_CL}: {len(peaks_intersected)}\")\n"
   ]
  },
  {
   "cell_type": "markdown",
   "id": "8fac08d2",
   "metadata": {},
   "source": [
    "#### Demo: extending cross-links"
   ]
  },
  {
   "cell_type": "markdown",
   "id": "6979c616",
   "metadata": {},
   "source": [
    "As pointed before, the \"peaks\" we loaded are actually single-nucleotide intervals. \n",
    "\n",
    "We might want to be a bit more lenient and extend the intervals a bit, for example to 10 nucleotides on each side.\n",
    "\n",
    "This can be done with the `pybedtools` library, which allows to manipulate genomic intervals in a very convenient way."
   ]
  },
  {
   "cell_type": "markdown",
   "id": "4c86cef5",
   "metadata": {},
   "source": [
    "NOTE: the official documentation of BedTool has very nice illustrations\n",
    "of the different methods to manipulate intervals: https://bedtools.readthedocs.io/en/latest/content/tools/intersect.html"
   ]
  },
  {
   "cell_type": "code",
   "execution_count": 89,
   "id": "2001e019",
   "metadata": {},
   "outputs": [
    {
     "name": "stdout",
     "output_type": "stream",
     "text": [
      "Processing RBP_CL: SRSF7_HepG2\n",
      "Showing that any operation on a BedTool object creates a new temporary file on disk (for SRSF7_HepG2)\n",
      "Filepath of loaded peaks:  ../resources/parnet_encore_eclip/bed6_peaks_pureclip/SRSF7_HepG2/peaks.crosslink.bed6\n",
      "Filepath of the results from intersection with the transcript:  /tmp/tmprnbt0klp/pybedtools.o972jzva.tmp\n",
      "\n",
      "\n",
      "No cross-links found for SRSF7_HepG2 in the transcript interval of three_prime_UTR;GAPDH;ENST00000229239.10.\n",
      "\n",
      "\n",
      "Processing RBP_CL: QKI_HepG2\n",
      "No cross-links found for QKI_HepG2 in the transcript interval of three_prime_UTR;GAPDH;ENST00000229239.10.\n",
      "\n",
      "\n",
      "Processing RBP_CL: QKI_K562\n",
      "No cross-links found for QKI_K562 in the transcript interval of three_prime_UTR;GAPDH;ENST00000229239.10.\n",
      "\n",
      "\n",
      "Processing RBP_CL: PTBP1_HepG2\n"
     ]
    },
    {
     "data": {
      "text/html": [
       "<div>\n",
       "<style scoped>\n",
       "    .dataframe tbody tr th:only-of-type {\n",
       "        vertical-align: middle;\n",
       "    }\n",
       "\n",
       "    .dataframe tbody tr th {\n",
       "        vertical-align: top;\n",
       "    }\n",
       "\n",
       "    .dataframe thead th {\n",
       "        text-align: right;\n",
       "    }\n",
       "</style>\n",
       "<table border=\"1\" class=\"dataframe\">\n",
       "  <thead>\n",
       "    <tr style=\"text-align: right;\">\n",
       "      <th></th>\n",
       "      <th>chrom</th>\n",
       "      <th>start</th>\n",
       "      <th>end</th>\n",
       "      <th>name</th>\n",
       "      <th>score</th>\n",
       "      <th>strand</th>\n",
       "      <th>length</th>\n",
       "    </tr>\n",
       "  </thead>\n",
       "  <tbody>\n",
       "    <tr>\n",
       "      <th>0</th>\n",
       "      <td>chr12</td>\n",
       "      <td>6534547</td>\n",
       "      <td>6534564</td>\n",
       "      <td>7</td>\n",
       "      <td>2.384484</td>\n",
       "      <td>+</td>\n",
       "      <td>17</td>\n",
       "    </tr>\n",
       "    <tr>\n",
       "      <th>1</th>\n",
       "      <td>chr12</td>\n",
       "      <td>6534855</td>\n",
       "      <td>6534866</td>\n",
       "      <td>1</td>\n",
       "      <td>4.041740</td>\n",
       "      <td>+</td>\n",
       "      <td>11</td>\n",
       "    </tr>\n",
       "    <tr>\n",
       "      <th>2</th>\n",
       "      <td>chr12</td>\n",
       "      <td>6535497</td>\n",
       "      <td>6535510</td>\n",
       "      <td>3</td>\n",
       "      <td>2.303780</td>\n",
       "      <td>+</td>\n",
       "      <td>13</td>\n",
       "    </tr>\n",
       "  </tbody>\n",
       "</table>\n",
       "</div>"
      ],
      "text/plain": [
       "   chrom    start      end  name     score strand  length\n",
       "0  chr12  6534547  6534564     7  2.384484      +      17\n",
       "1  chr12  6534855  6534866     1  4.041740      +      11\n",
       "2  chr12  6535497  6535510     3  2.303780      +      13"
      ]
     },
     "metadata": {},
     "output_type": "display_data"
    }
   ],
   "source": [
    "data_eclip_peaks_extended = {}\n",
    "\n",
    "# We will focus on peaks that are within the gene for the example interval.\n",
    "# This will speed upt the steps of extending the cross-link and merging the cross-links into actual peaks\n",
    "transcript_interval = mane_transcripts.loc[lambda df: df[\"name\"] == example_interval.name.split(\";\")[-1], :]\n",
    "\n",
    "if transcript_interval.empty:\n",
    "    raise ValueError(f\"Transcript interval for {example_interval.name} not found in MANE transcripts.\")\n",
    "\n",
    "bt_transcript_interval = pbt.BedTool.from_dataframe(transcript_interval)\n",
    "\n",
    "for i, RBP_CL in enumerate(data_eclip_peaks.keys()):\n",
    "    print(f\"Processing RBP_CL: {RBP_CL}\")\n",
    "\n",
    "    # First: focus on the peaks within the transcript interval.\n",
    "    bt_crosslinks = data_eclip_peaks[RBP_CL]\n",
    "    bt_crosslinks_in_transcript = bt_crosslinks.intersect(bt_transcript_interval)\n",
    "\n",
    "    if i == 0:\n",
    "        print(f\"Showing that any operation on a BedTool object creates a new temporary file on disk (for {RBP_CL})\")\n",
    "        print(\"Filepath of loaded peaks: \", bt_crosslinks.fn)\n",
    "        print(\"Filepath of the results from intersection with the transcript: \", bt_crosslinks_in_transcript.fn)\n",
    "        print(\"\\n\")\n",
    "\n",
    "    if bt_crosslinks_in_transcript.count() == 0:\n",
    "        print(f\"No cross-links found for {RBP_CL} in the transcript interval of {example_interval.name}.\")\n",
    "        print(\"\\n\")\n",
    "        continue\n",
    "\n",
    "    # Now: extend the individual cross-links by 5 nucleotides on each side.\n",
    "    # This requires providing the genome file to define boundaries beyond which the extension is not possible.\n",
    "    bt_crosslinks_extended = bt_crosslinks_in_transcript.slop(b=5, g=genome_size_filepath)\n",
    "\n",
    "    # And we can merge the extended cross-links that overlaps into single intervals.\n",
    "    # This requires\n",
    "    bt_crosslinks_extended_merged = bt_crosslinks_extended.merge(s=True, d=1, c=\"4,5,6\", o=\"count,mean,distinct\")\n",
    "\n",
    "    # We can generate back a dataframe for metadata information.\n",
    "    df_crosslinks_extended_merged = bt_crosslinks_extended_merged.to_dataframe()\n",
    "    df_crosslinks_extended_merged[\"length\"] = (\n",
    "        df_crosslinks_extended_merged[\"end\"] - df_crosslinks_extended_merged[\"start\"]\n",
    "    )\n",
    "\n",
    "    display(df_crosslinks_extended_merged.head(3))\n",
    "\n",
    "    # We will store the BedTool object for intersecting again with the example interval.\n",
    "    data_eclip_peaks_extended[RBP_CL] = bt_crosslinks_extended_merged"
   ]
  },
  {
   "cell_type": "code",
   "execution_count": 90,
   "id": "3ea96367",
   "metadata": {},
   "outputs": [
    {
     "name": "stdout",
     "output_type": "stream",
     "text": [
      "Number of intersected peaks for PTBP1_HepG2: 1\n"
     ]
    }
   ],
   "source": [
    "for RBP_CL in data_eclip_peaks_extended:\n",
    "    peaks_intersected = data_eclip_peaks_extended[RBP_CL].intersect(bt_example_interval, s=True, wa=True, u=True)\n",
    "\n",
    "    print(f\"Number of intersected peaks for {RBP_CL}: {len(peaks_intersected)}\")\n"
   ]
  },
  {
   "cell_type": "markdown",
   "id": "5a4c1068",
   "metadata": {},
   "source": [
    "## Integrating together - distribution of read counts in peaks"
   ]
  },
  {
   "cell_type": "markdown",
   "id": "880c6b02",
   "metadata": {},
   "source": [
    "### Read counts distribution in peaks"
   ]
  },
  {
   "cell_type": "code",
   "execution_count": null,
   "id": "6d837a30",
   "metadata": {},
   "outputs": [],
   "source": []
  },
  {
   "cell_type": "markdown",
   "id": "1810e37c",
   "metadata": {},
   "source": [
    "### Peaks distribution accross gene types"
   ]
  },
  {
   "cell_type": "code",
   "execution_count": null,
   "id": "41aad372",
   "metadata": {},
   "outputs": [],
   "source": []
  },
  {
   "cell_type": "markdown",
   "id": "a91a282a",
   "metadata": {},
   "source": [
    "## External resources"
   ]
  },
  {
   "cell_type": "markdown",
   "id": "7a3dfad4",
   "metadata": {},
   "source": [
    "### oRNAment"
   ]
  },
  {
   "cell_type": "markdown",
   "id": "fc3f59da",
   "metadata": {},
   "source": [
    "Database that provides pre-computed instances of binding sites for a large number of RBPs. \n",
    "\n",
    "This may be useful to compare with your own results. \n",
    "\n",
    "e.g. here PTBP1 is shown to rather bind in protein coding genes, specifically in the 3'UTR region."
   ]
  },
  {
   "cell_type": "code",
   "execution_count": null,
   "id": "eaa5692e",
   "metadata": {},
   "outputs": [],
   "source": [
    "display(Image(\"../documentation/media/ornament.ptbp1_example.png\"))"
   ]
  },
  {
   "cell_type": "markdown",
   "id": "4b5b4c25",
   "metadata": {},
   "source": [
    "### mCrossBase"
   ]
  },
  {
   "cell_type": "markdown",
   "id": "b9ea7a4e",
   "metadata": {},
   "source": [
    "[https://zhanglab.c2b2.columbia.edu/mCrossBase/rbp.php?id=K562.RBFOX2](https://zhanglab.c2b2.columbia.edu/mCrossBase/rbp.php?id=K562.RBFOX2)"
   ]
  },
  {
   "cell_type": "code",
   "execution_count": 43,
   "id": "a4942599",
   "metadata": {},
   "outputs": [
    {
     "data": {
      "image/png": "[encoded data removed]",
      "text/plain": [
       "<IPython.core.display.Image object>"
      ]
     },
     "metadata": {},
     "output_type": "display_data"
    }
   ],
   "source": [
    "display(Image(\"../documentation/media/mcrossbase.rbfox2_example.png\"))"
   ]
  },
  {
   "cell_type": "code",
   "execution_count": 42,
   "id": "5d1dd0cf",
   "metadata": {},
   "outputs": [
    {
     "name": "stderr",
     "output_type": "stream",
     "text": [
      "/home/l10n/projects/ml4rg25-parnet/parnet_demo/.pixi/envs/parnet-demo/lib/python3.10/site-packages/urllib3/connectionpool.py:1097: InsecureRequestWarning: Unverified HTTPS request is being made to host 'zhanglab.c2b2.columbia.edu'. Adding certificate verification is strongly advised. See: https://urllib3.readthedocs.io/en/latest/advanced-usage.html#tls-warnings\n",
      "  warnings.warn(\n"
     ]
    },
    {
     "data": {
      "image/svg+xml": [
       "<svg xmlns=\"http://www.w3.org/2000/svg\" xmlns:xlink=\"http://www.w3.org/1999/xlink\" width=\"504pt\" height=\"504pt\" viewBox=\"0 0 504 504\" version=\"1.2\">\n",
       "<defs>\n",
       "<g>\n",
       "<symbol overflow=\"visible\" id=\"glyph0-0\">\n",
       "<path style=\"stroke:none;\" d=\"\"/>\n",
       "</symbol>\n",
       "<symbol overflow=\"visible\" id=\"glyph0-1\">\n",
       "<path style=\"stroke:none;\" d=\"M 2.40625 -3.5625 L 4.078125 -5.234375 L 7.671875 0 L 9.21875 0 L 5.015625 -6.046875 L 9.171875 -10.203125 L 7.484375 -10.203125 L 2.40625 -5.046875 L 2.40625 -10.203125 L 1.109375 -10.203125 L 1.109375 0 L 2.40625 0 Z M 2.40625 -3.5625 \"/>\n",
       "</symbol>\n",
       "<symbol overflow=\"visible\" id=\"glyph0-2\">\n",
       "<path style=\"stroke:none;\" d=\"M 6.65625 -9.921875 L 1.546875 -9.921875 L 0.796875 -4.515625 L 1.9375 -4.515625 C 2.5 -5.203125 2.984375 -5.453125 3.75 -5.453125 C 5.078125 -5.453125 5.921875 -4.53125 5.921875 -3.0625 C 5.921875 -1.640625 5.09375 -0.765625 3.75 -0.765625 C 2.671875 -0.765625 2.015625 -1.3125 1.71875 -2.4375 L 0.484375 -2.4375 C 0.65625 -1.625 0.796875 -1.234375 1.09375 -0.875 C 1.65625 -0.109375 2.65625 0.328125 3.78125 0.328125 C 5.78125 0.328125 7.1875 -1.140625 7.1875 -3.234375 C 7.1875 -5.1875 5.875 -6.53125 3.96875 -6.53125 C 3.28125 -6.53125 2.71875 -6.359375 2.140625 -5.9375 L 2.53125 -8.703125 L 6.65625 -8.703125 Z M 6.65625 -9.921875 \"/>\n",
       "</symbol>\n",
       "<symbol overflow=\"visible\" id=\"glyph0-3\">\n",
       "<path style=\"stroke:none;\" d=\"M 6.96875 -7.34375 C 6.734375 -8.953125 5.671875 -9.921875 4.15625 -9.921875 C 3.0625 -9.921875 2.09375 -9.390625 1.5 -8.515625 C 0.875 -7.546875 0.609375 -6.328125 0.609375 -4.515625 C 0.609375 -2.859375 0.859375 -1.796875 1.4375 -0.90625 C 1.96875 -0.109375 2.84375 0.328125 3.9375 0.328125 C 5.828125 0.328125 7.1875 -1.078125 7.1875 -3.03125 C 7.1875 -4.875 5.921875 -6.171875 4.140625 -6.171875 C 3.15625 -6.171875 2.390625 -5.796875 1.859375 -5.0625 C 1.875 -7.484375 2.65625 -8.828125 4.078125 -8.828125 C 4.9375 -8.828125 5.546875 -8.28125 5.734375 -7.34375 Z M 3.984375 -5.078125 C 5.1875 -5.078125 5.921875 -4.25 5.921875 -2.921875 C 5.921875 -1.6875 5.078125 -0.765625 3.953125 -0.765625 C 2.796875 -0.765625 1.9375 -1.71875 1.9375 -3 C 1.9375 -4.234375 2.765625 -5.078125 3.984375 -5.078125 Z M 3.984375 -5.078125 \"/>\n",
       "</symbol>\n",
       "<symbol overflow=\"visible\" id=\"glyph0-4\">\n",
       "<path style=\"stroke:none;\" d=\"M 7.078125 -1.21875 L 1.859375 -1.21875 C 1.984375 -2.03125 2.4375 -2.546875 3.65625 -3.265625 L 5.046875 -4.015625 C 6.4375 -4.78125 7.15625 -5.796875 7.15625 -7.015625 C 7.15625 -7.84375 6.8125 -8.609375 6.234375 -9.140625 C 5.640625 -9.671875 4.90625 -9.921875 3.96875 -9.921875 C 2.71875 -9.921875 1.78125 -9.484375 1.234375 -8.640625 C 0.875 -8.109375 0.734375 -7.484375 0.703125 -6.484375 L 1.9375 -6.484375 C 1.96875 -7.15625 2.0625 -7.5625 2.21875 -7.875 C 2.546875 -8.484375 3.1875 -8.84375 3.9375 -8.84375 C 5.046875 -8.84375 5.890625 -8.046875 5.890625 -6.984375 C 5.890625 -6.203125 5.4375 -5.53125 4.546875 -5.03125 L 3.265625 -4.296875 C 1.1875 -3.125 0.59375 -2.1875 0.46875 0 L 7.078125 0 Z M 7.078125 -1.21875 \"/>\n",
       "</symbol>\n",
       "<symbol overflow=\"visible\" id=\"glyph0-5\">\n",
       "<path style=\"stroke:none;\" d=\"M 2.671875 -1.453125 L 1.21875 -1.453125 L 1.21875 0 L 2.671875 0 Z M 2.671875 -1.453125 \"/>\n",
       "</symbol>\n",
       "<symbol overflow=\"visible\" id=\"glyph0-6\">\n",
       "<path style=\"stroke:none;\" d=\"M 2.609375 -4.390625 L 5.96875 -4.390625 C 7.125 -4.390625 7.640625 -3.84375 7.640625 -2.578125 L 7.625 -1.671875 C 7.625 -1.03125 7.734375 -0.421875 7.921875 0 L 9.5 0 L 9.5 -0.328125 C 9.015625 -0.65625 8.921875 -1.015625 8.890625 -2.375 C 8.875 -4.0625 8.609375 -4.5625 7.5 -5.046875 C 8.65625 -5.59375 9.109375 -6.3125 9.109375 -7.46875 C 9.109375 -9.234375 8.015625 -10.203125 6 -10.203125 L 1.296875 -10.203125 L 1.296875 0 L 2.609375 0 Z M 2.609375 -5.546875 L 2.609375 -9.0625 L 5.75 -9.0625 C 6.484375 -9.0625 6.90625 -8.953125 7.21875 -8.671875 C 7.578125 -8.375 7.75 -7.90625 7.75 -7.296875 C 7.75 -6.09375 7.140625 -5.546875 5.75 -5.546875 Z M 2.609375 -5.546875 \"/>\n",
       "</symbol>\n",
       "<symbol overflow=\"visible\" id=\"glyph0-7\">\n",
       "<path style=\"stroke:none;\" d=\"M 1.109375 0 L 5.71875 0 C 6.671875 0 7.390625 -0.265625 7.9375 -0.859375 C 8.4375 -1.390625 8.71875 -2.109375 8.71875 -2.90625 C 8.71875 -4.140625 8.15625 -4.890625 6.859375 -5.390625 C 7.78125 -5.828125 8.28125 -6.578125 8.28125 -7.609375 C 8.28125 -8.359375 8 -9.015625 7.46875 -9.484375 C 6.9375 -9.984375 6.234375 -10.203125 5.25 -10.203125 L 1.109375 -10.203125 Z M 2.40625 -5.8125 L 2.40625 -9.0625 L 4.921875 -9.0625 C 5.65625 -9.0625 6.0625 -8.953125 6.40625 -8.6875 C 6.78125 -8.40625 6.96875 -8 6.96875 -7.4375 C 6.96875 -6.890625 6.78125 -6.453125 6.40625 -6.171875 C 6.0625 -5.90625 5.65625 -5.8125 4.921875 -5.8125 Z M 2.40625 -1.140625 L 2.40625 -4.65625 L 5.59375 -4.65625 C 6.21875 -4.65625 6.640625 -4.515625 6.9375 -4.171875 C 7.25 -3.84375 7.421875 -3.40625 7.421875 -2.890625 C 7.421875 -2.40625 7.25 -1.953125 6.9375 -1.640625 C 6.640625 -1.296875 6.21875 -1.140625 5.59375 -1.140625 Z M 2.40625 -1.140625 \"/>\n",
       "</symbol>\n",
       "<symbol overflow=\"visible\" id=\"glyph0-8\">\n",
       "<path style=\"stroke:none;\" d=\"M 2.5625 -4.640625 L 7.4375 -4.640625 L 7.4375 -5.796875 L 2.5625 -5.796875 L 2.5625 -9.0625 L 8.109375 -9.0625 L 8.109375 -10.203125 L 1.265625 -10.203125 L 1.265625 0 L 2.5625 0 Z M 2.5625 -4.640625 \"/>\n",
       "</symbol>\n",
       "<symbol overflow=\"visible\" id=\"glyph0-9\">\n",
       "<path style=\"stroke:none;\" d=\"M 5.453125 -10.375 C 2.515625 -10.375 0.53125 -8.21875 0.53125 -5.03125 C 0.53125 -1.828125 2.515625 0.328125 5.453125 0.328125 C 6.6875 0.328125 7.796875 -0.0625 8.625 -0.75 C 9.734375 -1.6875 10.390625 -3.28125 10.390625 -4.9375 C 10.390625 -8.234375 8.4375 -10.375 5.453125 -10.375 Z M 5.453125 -9.21875 C 7.65625 -9.21875 9.09375 -7.546875 9.09375 -4.96875 C 9.09375 -2.5 7.609375 -0.828125 5.453125 -0.828125 C 3.296875 -0.828125 1.828125 -2.5 1.828125 -5.03125 C 1.828125 -7.546875 3.296875 -9.21875 5.453125 -9.21875 Z M 5.453125 -9.21875 \"/>\n",
       "</symbol>\n",
       "<symbol overflow=\"visible\" id=\"glyph0-10\">\n",
       "<path style=\"stroke:none;\" d=\"M 5.46875 -5.234375 L 8.921875 -10.203125 L 7.359375 -10.203125 L 4.734375 -6.203125 L 2.109375 -10.203125 L 0.53125 -10.203125 L 3.921875 -5.234375 L 0.3125 0 L 1.890625 0 L 4.6875 -4.25 L 7.46875 0 L 9.09375 0 Z M 5.46875 -5.234375 \"/>\n",
       "</symbol>\n",
       "<symbol overflow=\"visible\" id=\"glyph0-11\">\n",
       "<path style=\"stroke:none;\" d=\"M 3.84375 -9.921875 C 2.921875 -9.921875 2.09375 -9.515625 1.5625 -8.828125 C 0.921875 -7.96875 0.609375 -6.640625 0.609375 -4.796875 C 0.609375 -1.453125 1.71875 0.328125 3.84375 0.328125 C 5.953125 0.328125 7.09375 -1.453125 7.09375 -4.71875 C 7.09375 -6.65625 6.796875 -7.9375 6.125 -8.828125 C 5.609375 -9.53125 4.78125 -9.921875 3.84375 -9.921875 Z M 3.84375 -8.828125 C 5.1875 -8.828125 5.84375 -7.484375 5.84375 -4.828125 C 5.84375 -2.015625 5.1875 -0.703125 3.828125 -0.703125 C 2.515625 -0.703125 1.859375 -2.078125 1.859375 -4.78125 C 1.859375 -7.5 2.515625 -8.828125 3.84375 -8.828125 Z M 3.84375 -8.828125 \"/>\n",
       "</symbol>\n",
       "</g>\n",
       "</defs>\n",
       "<g id=\"surface1\">\n",
       "<path style=\" stroke:none;fill-rule:nonzero;fill:rgb(100%,70.196533%,17.254639%);fill-opacity:1;\" d=\"M 94.039062 324.878906 L 80.589844 324.878906 L 80.589844 324.960938 L 90.410156 324.960938 L 90.410156 324.988281 L 90.359375 325.011719 L 90.21875 325.039062 L 89.980469 325.058594 L 89.648438 325.078125 L 89.238281 325.101562 L 88.761719 325.121094 L 88.191406 325.140625 L 87.550781 325.160156 L 86.839844 325.171875 L 86.070312 325.191406 L 85.230469 325.199219 L 84.339844 325.210938 L 83.398438 325.21875 L 82.398438 325.21875 L 81.359375 325.230469 L 79.070312 325.230469 L 77.890625 325.21875 L 76.761719 325.21875 L 75.691406 325.210938 L 74.679688 325.199219 L 73.75 325.179688 L 72.898438 325.171875 L 72.140625 325.148438 L 71.378906 325.128906 L 70.710938 325.101562 L 70.121094 325.070312 L 69.640625 325.039062 L 69.25 325.011719 L 68.960938 324.96875 L 68.789062 324.941406 L 68.730469 324.898438 L 68.78125 324.871094 L 68.941406 324.828125 L 69.191406 324.800781 L 69.539062 324.769531 L 69.980469 324.738281 L 70.519531 324.71875 L 71.128906 324.691406 L 71.839844 324.671875 L 72.621094 324.648438 L 73.480469 324.628906 L 74.410156 324.621094 L 75.410156 324.601562 L 76.480469 324.589844 L 77.609375 324.589844 L 78.808594 324.578125 L 81.828125 324.578125 L 83.460938 324.589844 L 84.929688 324.609375 L 86.230469 324.628906 L 87.339844 324.648438 L 88.25 324.679688 L 88.941406 324.710938 L 89.390625 324.738281 L 93.601562 324.738281 L 93.339844 324.71875 L 92.988281 324.691406 L 92.558594 324.660156 L 92.039062 324.640625 L 91.441406 324.621094 L 90.769531 324.601562 L 90.019531 324.578125 L 89.191406 324.558594 L 88.289062 324.539062 L 87.308594 324.53125 L 86.269531 324.519531 L 85.160156 324.511719 L 83.988281 324.5 L 82.75 324.5 L 81.460938 324.488281 L 78.660156 324.488281 L 77.289062 324.5 L 75.980469 324.5 L 74.75 324.511719 L 73.578125 324.519531 L 72.46875 324.539062 L 71.429688 324.550781 L 70.449219 324.570312 L 69.140625 324.601562 L 67.96875 324.628906 L 66.96875 324.671875 L 66.140625 324.710938 L 65.480469 324.761719 L 65 324.808594 L 64.710938 324.851562 L 64.609375 324.910156 L 64.679688 324.949219 L 64.890625 324.988281 L 65.230469 325.03125 L 65.699219 325.070312 L 66.289062 325.109375 L 66.988281 325.140625 L 67.808594 325.171875 L 68.730469 325.199219 L 69.761719 325.230469 L 70.890625 325.25 L 72.101562 325.269531 L 73.410156 325.289062 L 74.789062 325.300781 L 76.25 325.308594 L 77.789062 325.308594 L 79.390625 325.320312 L 80.988281 325.308594 L 82.519531 325.308594 L 83.96875 325.300781 L 85.371094 325.289062 L 86.699219 325.269531 L 87.980469 325.25 L 89.210938 325.21875 L 90.410156 325.191406 L 91.429688 325.300781 L 94.039062 325.300781 Z M 94.039062 324.878906 \"/>\n",
       "<path style=\" stroke:none;fill-rule:nonzero;fill:rgb(12.548828%,0%,78.039551%);fill-opacity:1;\" d=\"M 94.230469 323.78125 L 93.941406 323.738281 L 93.570312 323.699219 L 93.128906 323.671875 L 92.628906 323.640625 L 92.050781 323.609375 L 91.390625 323.578125 L 90.671875 323.558594 L 89.871094 323.539062 L 89 323.519531 L 88.058594 323.5 L 87.039062 323.488281 L 85.949219 323.480469 L 84.78125 323.46875 L 83.539062 323.460938 L 77.5 323.460938 L 75.96875 323.46875 L 74.539062 323.488281 L 73.199219 323.5 L 71.96875 323.53125 L 70.839844 323.550781 L 69.820312 323.578125 L 68.710938 323.621094 L 67.730469 323.660156 L 66.898438 323.710938 L 66.210938 323.761719 L 65.660156 323.808594 L 65.269531 323.859375 L 65.03125 323.921875 L 64.960938 323.980469 L 65.039062 324.039062 L 65.28125 324.101562 L 65.691406 324.148438 L 66.25 324.199219 L 66.960938 324.25 L 67.828125 324.300781 L 68.851562 324.339844 L 70.011719 324.378906 L 71.050781 324.410156 L 72.160156 324.429688 L 73.351562 324.449219 L 74.628906 324.46875 L 75.988281 324.480469 L 77.441406 324.488281 L 83.648438 324.488281 L 85.019531 324.480469 L 86.308594 324.46875 L 87.511719 324.460938 L 88.621094 324.441406 L 89.640625 324.421875 L 90.578125 324.398438 L 91.429688 324.371094 L 92.199219 324.339844 L 92.871094 324.308594 L 93.460938 324.269531 L 93.960938 324.230469 L 94.378906 324.191406 L 94.710938 324.148438 L 94.949219 324.101562 L 90.371094 324.101562 L 90.058594 324.148438 L 89.710938 324.191406 L 89.289062 324.21875 L 88.789062 324.25 L 88.191406 324.28125 L 87.449219 324.308594 L 86.578125 324.328125 L 85.601562 324.351562 L 84.511719 324.359375 L 83.320312 324.371094 L 82.050781 324.378906 L 78.21875 324.378906 L 77.078125 324.371094 L 76.011719 324.351562 L 75 324.339844 L 74.078125 324.320312 L 73.21875 324.300781 L 72.449219 324.269531 L 71.75 324.238281 L 71.140625 324.210938 L 70.621094 324.179688 L 70.179688 324.140625 L 69.839844 324.109375 L 69.589844 324.070312 L 69.441406 324.019531 L 69.390625 323.980469 L 69.441406 323.929688 L 69.578125 323.890625 L 69.820312 323.851562 L 70.148438 323.808594 L 70.570312 323.769531 L 71.070312 323.738281 L 71.660156 323.699219 L 72.328125 323.679688 L 73.070312 323.648438 L 73.898438 323.628906 L 74.800781 323.609375 L 75.769531 323.601562 L 76.800781 323.578125 L 77.910156 323.570312 L 82.371094 323.570312 L 83.339844 323.578125 L 84.261719 323.578125 L 85.109375 323.589844 L 85.890625 323.601562 L 86.578125 323.621094 L 87.171875 323.628906 L 87.628906 323.640625 L 88.039062 323.660156 L 88.398438 323.671875 L 88.71875 323.691406 L 89.011719 323.710938 L 89.269531 323.730469 L 89.488281 323.75 L 89.699219 323.78125 Z M 94.230469 323.78125 \"/>\n",
       "<path style=\" stroke:none;fill-rule:nonzero;fill:rgb(0%,50.588989%,10.588074%);fill-opacity:1;\" d=\"M 87.128906 323.058594 L 91 323.460938 L 96.371094 323.460938 L 83.160156 322.140625 L 76.960938 322.140625 L 63.539062 323.460938 L 68.648438 323.460938 L 72.628906 323.058594 Z M 85.789062 322.921875 L 73.808594 322.921875 L 80.011719 322.320312 Z M 85.789062 322.921875 \"/>\n",
       "<path style=\" stroke:none;fill-rule:nonzero;fill:rgb(81.568909%,0%,0.392151%);fill-opacity:1;\" d=\"M 88.988281 320.660156 L 88.988281 321.671875 L 88.949219 321.699219 L 88.828125 321.738281 L 88.640625 321.769531 L 88.371094 321.800781 L 88.03125 321.828125 L 87.621094 321.851562 L 87.140625 321.878906 L 86.601562 321.898438 L 85.980469 321.921875 L 85.308594 321.929688 L 84.570312 321.949219 L 83.78125 321.960938 L 82.921875 321.96875 L 82.011719 321.96875 L 81.039062 321.980469 L 78.179688 321.980469 L 76.511719 321.960938 L 75.011719 321.941406 L 73.679688 321.910156 L 73.078125 321.878906 L 72.558594 321.859375 L 72.128906 321.828125 L 71.769531 321.808594 L 71.5 321.78125 L 71.308594 321.738281 L 71.191406 321.710938 L 71.148438 321.671875 L 71.148438 320.660156 L 66.71875 320.660156 L 66.71875 321.671875 L 66.78125 321.71875 L 66.949219 321.769531 L 67.238281 321.820312 L 67.640625 321.871094 L 68.140625 321.910156 L 68.75 321.949219 L 69.46875 321.980469 L 70.28125 322.011719 L 71.191406 322.039062 L 72.191406 322.070312 L 73.28125 322.089844 L 74.460938 322.109375 L 75.730469 322.121094 L 77.078125 322.128906 L 78.511719 322.140625 L 81.519531 322.140625 L 82.941406 322.128906 L 84.289062 322.121094 L 85.550781 322.109375 L 86.738281 322.089844 L 87.839844 322.070312 L 88.859375 322.039062 L 89.78125 322.011719 L 90.601562 321.980469 L 91.328125 321.941406 L 91.949219 321.910156 L 92.46875 321.859375 L 92.878906 321.820312 L 93.179688 321.769531 L 93.359375 321.71875 L 93.421875 321.671875 L 93.421875 320.660156 Z M 88.988281 320.660156 \"/>\n",
       "<path style=\" stroke:none;fill-rule:nonzero;fill:rgb(100%,70.196533%,17.254639%);fill-opacity:1;\" d=\"M 128.460938 325.171875 L 115.011719 325.171875 L 115.011719 325.199219 L 124.828125 325.199219 L 124.828125 325.210938 L 124.78125 325.21875 L 124.640625 325.21875 L 124.398438 325.230469 L 124.078125 325.238281 L 123.671875 325.25 L 123.179688 325.25 L 122.609375 325.261719 L 121.96875 325.261719 L 121.269531 325.269531 L 120.488281 325.269531 L 119.660156 325.28125 L 116.828125 325.28125 L 115.78125 325.289062 L 113.488281 325.289062 L 112.320312 325.28125 L 109.109375 325.28125 L 108.171875 325.269531 L 107.320312 325.269531 L 106.558594 325.261719 L 105.800781 325.25 L 105.128906 325.238281 L 104.550781 325.230469 L 104.058594 325.21875 L 103.671875 325.210938 L 103.390625 325.199219 L 103.210938 325.191406 L 103.148438 325.179688 L 103.210938 325.171875 L 103.359375 325.160156 L 103.609375 325.148438 L 103.960938 325.140625 L 104.410156 325.128906 L 104.941406 325.121094 L 105.558594 325.109375 L 106.261719 325.101562 L 107.039062 325.101562 L 107.898438 325.089844 L 108.828125 325.089844 L 109.839844 325.078125 L 112.039062 325.078125 L 113.230469 325.070312 L 116.25 325.070312 L 117.890625 325.078125 L 119.359375 325.078125 L 120.660156 325.089844 L 121.769531 325.101562 L 122.671875 325.101562 L 123.359375 325.121094 L 123.820312 325.128906 L 128.019531 325.128906 L 127.761719 325.121094 L 127.410156 325.109375 L 126.980469 325.101562 L 126.460938 325.089844 L 125.871094 325.078125 L 125.191406 325.078125 L 124.441406 325.070312 L 123.609375 325.070312 L 122.710938 325.058594 L 121.738281 325.058594 L 120.699219 325.050781 L 117.179688 325.050781 L 115.878906 325.039062 L 114.519531 325.039062 L 113.078125 325.050781 L 108 325.050781 L 106.898438 325.058594 L 105.859375 325.058594 L 104.878906 325.070312 L 103.558594 325.078125 L 102.398438 325.089844 L 101.398438 325.101562 L 100.558594 325.121094 L 99.910156 325.128906 L 99.429688 325.148438 L 99.140625 325.160156 L 99.039062 325.179688 L 99.109375 325.199219 L 99.320312 325.210938 L 99.648438 325.21875 L 100.121094 325.238281 L 100.710938 325.25 L 101.421875 325.261719 L 102.230469 325.269531 L 103.160156 325.28125 L 104.191406 325.289062 L 105.308594 325.289062 L 106.53125 325.300781 L 107.828125 325.308594 L 112.210938 325.308594 L 113.820312 325.320312 L 115.421875 325.308594 L 119.789062 325.308594 L 121.121094 325.300781 L 122.398438 325.289062 L 123.640625 325.28125 L 124.828125 325.269531 L 125.851562 325.308594 L 128.460938 325.308594 Z M 128.460938 325.171875 \"/>\n",
       "<path style=\" stroke:none;fill-rule:nonzero;fill:rgb(12.548828%,0%,78.039551%);fill-opacity:1;\" d=\"M 128.648438 324.839844 L 128.359375 324.820312 L 127.988281 324.808594 L 127.558594 324.800781 L 127.050781 324.789062 L 126.46875 324.789062 L 125.820312 324.78125 L 125.089844 324.769531 L 124.300781 324.761719 L 123.429688 324.761719 L 122.480469 324.75 L 120.371094 324.75 L 119.210938 324.738281 L 111.929688 324.738281 L 110.398438 324.75 L 108.960938 324.75 L 107.628906 324.761719 L 106.390625 324.761719 L 105.261719 324.769531 L 104.238281 324.78125 L 103.128906 324.789062 L 102.160156 324.800781 L 101.320312 324.808594 L 100.628906 324.828125 L 100.089844 324.839844 L 99.699219 324.859375 L 99.460938 324.878906 L 99.378906 324.890625 L 99.460938 324.910156 L 99.710938 324.929688 L 100.109375 324.941406 L 100.671875 324.960938 L 101.390625 324.96875 L 102.261719 324.988281 L 103.269531 325 L 104.429688 325.011719 L 105.46875 325.019531 L 106.578125 325.03125 L 107.78125 325.03125 L 109.050781 325.039062 L 120.730469 325.039062 L 121.929688 325.03125 L 123.039062 325.03125 L 124.070312 325.019531 L 125.011719 325.019531 L 125.859375 325.011719 L 126.621094 325 L 127.300781 324.988281 L 127.890625 324.980469 L 128.390625 324.96875 L 128.800781 324.960938 L 129.128906 324.941406 L 129.371094 324.929688 L 124.789062 324.929688 L 124.488281 324.941406 L 124.128906 324.960938 L 123.710938 324.96875 L 123.21875 324.96875 L 122.609375 324.980469 L 121.871094 324.988281 L 121.011719 325 L 120.019531 325 L 118.941406 325.011719 L 111.5 325.011719 L 110.429688 325 L 109.429688 325 L 108.5 324.988281 L 107.648438 324.988281 L 106.871094 324.980469 L 106.179688 324.96875 L 105.570312 324.960938 L 105.039062 324.949219 L 104.609375 324.941406 L 104.261719 324.929688 L 104.019531 324.921875 L 103.859375 324.910156 L 103.808594 324.890625 L 103.859375 324.878906 L 104.011719 324.871094 L 104.25 324.851562 L 104.570312 324.839844 L 104.988281 324.828125 L 105.5 324.820312 L 106.078125 324.808594 L 106.75 324.808594 L 107.5 324.800781 L 108.320312 324.789062 L 109.21875 324.789062 L 110.191406 324.78125 L 112.328125 324.78125 L 113.5 324.769531 L 116.789062 324.769531 L 117.761719 324.78125 L 120.320312 324.78125 L 121.011719 324.789062 L 121.601562 324.789062 L 122.050781 324.800781 L 122.820312 324.800781 L 123.148438 324.808594 L 123.429688 324.808594 L 123.691406 324.820312 L 123.921875 324.828125 L 124.121094 324.839844 Z M 128.648438 324.839844 \"/>\n",
       "<path style=\" stroke:none;fill-rule:nonzero;fill:rgb(0%,50.588989%,10.588074%);fill-opacity:1;\" d=\"M 121.550781 324.648438 L 125.429688 324.738281 L 130.789062 324.738281 L 117.578125 324.429688 L 111.390625 324.429688 L 97.96875 324.738281 L 103.078125 324.738281 L 107.050781 324.648438 Z M 120.210938 324.621094 L 108.238281 324.621094 L 114.429688 324.480469 Z M 120.210938 324.621094 \"/>\n",
       "<path style=\" stroke:none;fill-rule:nonzero;fill:rgb(81.568909%,0%,0.392151%);fill-opacity:1;\" d=\"M 123.410156 324.058594 L 123.410156 324.308594 L 123.371094 324.320312 L 123.25 324.328125 L 123.058594 324.339844 L 122.789062 324.351562 L 122.449219 324.351562 L 122.039062 324.359375 L 121.570312 324.371094 L 121.019531 324.371094 L 120.410156 324.378906 L 119 324.378906 L 118.199219 324.390625 L 110.941406 324.390625 L 109.441406 324.378906 L 108.101562 324.371094 L 107.5 324.371094 L 106.988281 324.359375 L 106.550781 324.359375 L 106.199219 324.351562 L 105.921875 324.339844 L 105.730469 324.328125 L 105.621094 324.320312 L 105.578125 324.308594 L 105.578125 324.058594 L 101.140625 324.058594 L 101.140625 324.308594 L 101.199219 324.328125 L 101.378906 324.339844 L 101.660156 324.351562 L 102.058594 324.359375 L 102.570312 324.371094 L 103.179688 324.378906 L 103.890625 324.390625 L 104.699219 324.398438 L 105.609375 324.410156 L 106.609375 324.410156 L 107.710938 324.421875 L 108.890625 324.421875 L 110.160156 324.429688 L 118.710938 324.429688 L 119.980469 324.421875 L 121.171875 324.421875 L 122.269531 324.410156 L 123.28125 324.410156 L 124.199219 324.398438 L 125.03125 324.390625 L 125.75 324.378906 L 126.378906 324.371094 L 126.898438 324.359375 L 127.308594 324.351562 L 127.601562 324.339844 L 127.78125 324.328125 L 127.839844 324.308594 L 127.839844 324.058594 Z M 123.410156 324.058594 \"/>\n",
       "<path style=\" stroke:none;fill-rule:nonzero;fill:rgb(100%,70.196533%,17.254639%);fill-opacity:1;\" d=\"M 162.890625 323.5 L 149.441406 323.5 L 149.441406 323.871094 L 159.261719 323.871094 L 159.261719 323.960938 L 159.210938 324.058594 L 159.058594 324.160156 L 158.828125 324.261719 L 158.5 324.359375 L 158.089844 324.441406 L 157.601562 324.519531 L 157.039062 324.601562 L 156.398438 324.671875 L 155.691406 324.730469 L 154.921875 324.789062 L 154.078125 324.839844 L 153.191406 324.878906 L 152.25 324.910156 L 151.25 324.929688 L 150.210938 324.949219 L 147.910156 324.949219 L 146.738281 324.929688 L 145.609375 324.898438 L 144.539062 324.871094 L 143.53125 324.820312 L 142.601562 324.761719 L 141.75 324.699219 L 140.980469 324.621094 L 140.230469 324.53125 L 139.558594 324.421875 L 138.96875 324.300781 L 138.480469 324.179688 L 138.089844 324.039062 L 137.808594 323.898438 L 137.640625 323.75 L 137.578125 323.601562 L 137.628906 323.460938 L 137.78125 323.320312 L 138.039062 323.191406 L 138.390625 323.058594 L 138.828125 322.949219 L 139.359375 322.839844 L 139.980469 322.738281 L 140.691406 322.648438 L 141.46875 322.570312 L 142.328125 322.488281 L 143.261719 322.429688 L 144.261719 322.378906 L 145.328125 322.339844 L 146.460938 322.308594 L 147.648438 322.289062 L 148.898438 322.289062 L 150.679688 322.300781 L 152.308594 322.328125 L 153.78125 322.390625 L 155.078125 322.460938 L 156.191406 322.558594 L 157.101562 322.679688 L 157.789062 322.808594 L 158.238281 322.960938 L 162.441406 322.960938 L 162.179688 322.839844 L 161.839844 322.71875 L 161.398438 322.621094 L 160.890625 322.519531 L 160.289062 322.421875 L 159.621094 322.339844 L 158.859375 322.261719 L 158.039062 322.191406 L 157.128906 322.128906 L 156.160156 322.070312 L 155.121094 322.03125 L 154.011719 321.988281 L 152.839844 321.960938 L 151.601562 321.941406 L 150.308594 321.929688 L 148.949219 321.921875 L 147.511719 321.929688 L 146.128906 321.941406 L 144.828125 321.960938 L 143.589844 322 L 142.421875 322.039062 L 141.320312 322.101562 L 140.28125 322.160156 L 139.300781 322.230469 L 137.980469 322.359375 L 136.820312 322.5 L 135.820312 322.660156 L 134.988281 322.828125 L 134.328125 323.011719 L 133.851562 323.210938 L 133.558594 323.410156 L 133.460938 323.628906 L 133.53125 323.808594 L 133.738281 323.988281 L 134.078125 324.148438 L 134.550781 324.308594 L 135.128906 324.460938 L 135.839844 324.601562 L 136.660156 324.730469 L 137.578125 324.839844 L 138.609375 324.949219 L 139.730469 325.039062 L 140.949219 325.121094 L 142.25 325.191406 L 143.640625 325.25 L 145.101562 325.28125 L 146.640625 325.308594 L 148.238281 325.320312 L 149.839844 325.308594 L 151.371094 325.28125 L 152.820312 325.25 L 154.210938 325.191406 L 155.550781 325.121094 L 156.828125 325.03125 L 158.058594 324.921875 L 159.261719 324.800781 L 160.28125 325.230469 L 162.890625 325.230469 Z M 162.890625 323.5 \"/>\n",
       "<path style=\" stroke:none;fill-rule:nonzero;fill:rgb(12.548828%,0%,78.039551%);fill-opacity:1;\" d=\"M 163.078125 316.769531 L 162.78125 316.480469 L 162.421875 316.21875 L 161.980469 315.96875 L 161.46875 315.738281 L 160.890625 315.53125 L 160.238281 315.339844 L 159.519531 315.171875 L 158.71875 315.011719 L 157.851562 314.878906 L 156.910156 314.761719 L 155.890625 314.660156 L 154.800781 314.578125 L 153.628906 314.519531 L 152.390625 314.46875 L 151.070312 314.449219 L 149.679688 314.441406 L 147.96875 314.449219 L 146.351562 314.488281 L 144.820312 314.558594 L 143.390625 314.660156 L 142.050781 314.789062 L 140.820312 314.941406 L 139.691406 315.121094 L 138.671875 315.328125 L 137.550781 315.609375 L 136.578125 315.910156 L 135.75 316.238281 L 135.058594 316.601562 L 134.511719 316.96875 L 134.121094 317.371094 L 133.878906 317.78125 L 133.800781 318.210938 L 133.890625 318.640625 L 134.128906 319.058594 L 134.539062 319.449219 L 135.101562 319.828125 L 135.808594 320.179688 L 136.679688 320.511719 L 137.699219 320.808594 L 138.859375 321.089844 L 139.898438 321.289062 L 141.011719 321.460938 L 142.199219 321.601562 L 143.480469 321.71875 L 144.839844 321.808594 L 146.289062 321.871094 L 147.839844 321.910156 L 149.488281 321.921875 L 151.039062 321.910156 L 152.5 321.878906 L 153.871094 321.820312 L 155.160156 321.738281 L 156.359375 321.648438 L 157.46875 321.519531 L 158.488281 321.378906 L 159.429688 321.210938 L 160.28125 321.03125 L 161.039062 320.820312 L 161.71875 320.578125 L 162.308594 320.328125 L 162.808594 320.050781 L 163.230469 319.75 L 163.550781 319.429688 L 163.789062 319.089844 L 159.21875 319.089844 L 158.910156 319.429688 L 158.550781 319.71875 L 158.140625 319.96875 L 157.640625 320.199219 L 157.039062 320.398438 L 156.300781 320.589844 L 155.429688 320.75 L 154.449219 320.878906 L 153.359375 320.980469 L 152.171875 321.058594 L 150.898438 321.101562 L 149.539062 321.121094 L 148.269531 321.101562 L 147.070312 321.070312 L 145.929688 321 L 144.859375 320.910156 L 143.851562 320.800781 L 142.921875 320.660156 L 142.070312 320.511719 L 141.300781 320.328125 L 140.601562 320.128906 L 139.988281 319.910156 L 139.46875 319.671875 L 139.03125 319.410156 L 138.691406 319.128906 L 138.441406 318.839844 L 138.289062 318.519531 L 138.238281 318.199219 L 138.289062 317.859375 L 138.429688 317.550781 L 138.671875 317.238281 L 139 316.960938 L 139.421875 316.699219 L 139.921875 316.460938 L 140.511719 316.230469 L 141.179688 316.03125 L 141.921875 315.851562 L 142.75 315.691406 L 143.640625 315.558594 L 144.609375 315.441406 L 145.648438 315.359375 L 146.761719 315.289062 L 147.929688 315.25 L 149.160156 315.238281 L 150.199219 315.25 L 151.210938 315.269531 L 152.191406 315.308594 L 153.109375 315.359375 L 153.960938 315.429688 L 154.738281 315.5 L 155.429688 315.589844 L 156.019531 315.691406 L 156.480469 315.789062 L 156.890625 315.890625 L 157.25 316 L 157.570312 316.121094 L 157.859375 316.261719 L 158.109375 316.410156 L 158.339844 316.578125 L 158.550781 316.769531 Z M 163.078125 316.769531 \"/>\n",
       "<path style=\" stroke:none;fill-rule:nonzero;fill:rgb(0%,50.588989%,10.588074%);fill-opacity:1;\" d=\"M 155.980469 309.390625 L 159.851562 314.441406 L 165.21875 314.441406 L 152 297.621094 L 145.808594 297.621094 L 132.390625 314.441406 L 137.5 314.441406 L 141.480469 309.390625 Z M 154.640625 307.589844 L 142.660156 307.589844 L 148.859375 299.929688 Z M 154.640625 307.589844 \"/>\n",
       "<path style=\" stroke:none;fill-rule:nonzero;fill:rgb(81.568909%,0%,0.392151%);fill-opacity:1;\" d=\"M 157.828125 195.96875 L 157.828125 265.179688 L 157.789062 267.601562 L 157.679688 269.898438 L 157.480469 272.070312 L 157.21875 274.109375 L 156.878906 276 L 156.46875 277.761719 L 155.988281 279.371094 L 155.441406 280.828125 L 154.828125 282.128906 L 154.160156 283.269531 L 153.421875 284.25 L 152.621094 285.058594 L 151.769531 285.699219 L 150.859375 286.160156 L 149.890625 286.441406 L 148.871094 286.539062 L 147.03125 286.210938 L 145.359375 285.238281 L 143.859375 283.628906 L 142.53125 281.398438 L 141.929688 279.921875 L 141.410156 278.320312 L 140.96875 276.570312 L 140.621094 274.660156 L 140.351562 272.578125 L 140.160156 270.320312 L 140.039062 267.859375 L 140 265.179688 L 140 195.96875 L 135.570312 195.96875 L 135.570312 265.179688 L 135.628906 268.839844 L 135.800781 272.320312 L 136.089844 275.601562 L 136.488281 278.691406 L 136.988281 281.570312 L 137.601562 284.238281 L 138.308594 286.679688 L 139.128906 288.898438 L 140.03125 290.890625 L 141.039062 292.628906 L 142.128906 294.128906 L 143.308594 295.371094 L 144.578125 296.339844 L 145.929688 297.050781 L 147.359375 297.480469 L 148.871094 297.621094 L 150.359375 297.480469 L 151.789062 297.039062 L 153.128906 296.320312 L 154.398438 295.328125 L 155.589844 294.070312 L 156.691406 292.558594 L 157.710938 290.800781 L 158.628906 288.800781 L 159.449219 286.570312 L 160.179688 284.121094 L 160.800781 281.449219 L 161.320312 278.578125 L 161.730469 275.5 L 162.03125 272.238281 L 162.210938 268.800781 L 162.269531 265.179688 L 162.269531 195.96875 Z M 157.828125 195.96875 \"/>\n",
       "<path style=\" stroke:none;fill-rule:nonzero;fill:rgb(81.568909%,0%,0.392151%);fill-opacity:1;\" d=\"M 192.261719 323.5 L 192.261719 324.730469 L 192.21875 324.78125 L 192.101562 324.820312 L 191.910156 324.859375 L 191.640625 324.890625 L 191.300781 324.929688 L 190.890625 324.960938 L 190.410156 324.988281 L 189.871094 325.011719 L 189.261719 325.039062 L 188.578125 325.058594 L 187.851562 325.078125 L 187.050781 325.089844 L 186.191406 325.101562 L 185.28125 325.109375 L 184.308594 325.121094 L 183.289062 325.121094 L 181.449219 325.109375 L 179.78125 325.089844 L 178.289062 325.070312 L 176.949219 325.03125 L 176.351562 325 L 175.828125 324.96875 L 175.398438 324.941406 L 175.050781 324.898438 L 174.769531 324.871094 L 174.578125 324.828125 L 174.460938 324.78125 L 174.429688 324.730469 L 174.429688 323.5 L 169.988281 323.5 L 169.988281 324.730469 L 170.050781 324.800781 L 170.230469 324.859375 L 170.511719 324.921875 L 170.910156 324.980469 L 171.421875 325.03125 L 172.03125 325.078125 L 172.738281 325.121094 L 173.550781 325.160156 L 174.460938 325.191406 L 175.460938 325.230469 L 176.550781 325.25 L 177.738281 325.28125 L 179 325.289062 L 180.351562 325.308594 L 181.789062 325.308594 L 183.289062 325.320312 L 184.789062 325.308594 L 186.210938 325.308594 L 187.558594 325.289062 L 188.828125 325.269531 L 190.011719 325.25 L 191.121094 325.21875 L 192.128906 325.191406 L 193.050781 325.160156 L 193.878906 325.121094 L 194.601562 325.070312 L 195.230469 325.03125 L 195.75 324.96875 L 196.148438 324.921875 L 196.449219 324.859375 L 196.628906 324.800781 L 196.691406 324.730469 L 196.691406 323.5 Z M 192.261719 323.5 \"/>\n",
       "<path style=\" stroke:none;fill-rule:nonzero;fill:rgb(100%,70.196533%,17.254639%);fill-opacity:1;\" d=\"M 197.308594 186.128906 L 183.859375 186.128906 L 183.859375 213.738281 L 193.679688 213.738281 L 193.679688 220.46875 L 193.628906 228.53125 L 193.488281 236.28125 L 193.25 243.679688 L 192.929688 250.71875 L 192.519531 257.359375 L 192.03125 263.570312 L 191.460938 269.320312 L 190.820312 274.589844 L 190.121094 279.351562 L 189.339844 283.570312 L 188.511719 287.210938 L 187.621094 290.261719 L 186.671875 292.679688 L 185.671875 294.441406 L 184.628906 295.519531 L 183.550781 295.890625 L 182.339844 295.46875 L 181.160156 294.21875 L 180.039062 292.179688 L 178.960938 289.359375 L 177.960938 285.808594 L 177.019531 281.539062 L 176.171875 276.589844 L 175.410156 270.96875 L 174.648438 263.878906 L 173.980469 255.800781 L 173.398438 246.871094 L 172.910156 237.21875 L 172.519531 226.96875 L 172.230469 216.238281 L 172.058594 205.171875 L 172 193.871094 L 172.050781 182.820312 L 172.210938 172.269531 L 172.460938 162.261719 L 172.808594 152.820312 L 173.261719 143.96875 L 173.789062 135.75 L 174.410156 128.171875 L 175.109375 121.269531 L 175.890625 115.078125 L 176.75 109.621094 L 177.679688 104.929688 L 178.679688 101.019531 L 179.75 97.941406 L 180.890625 95.699219 L 182.078125 94.339844 L 183.328125 93.871094 L 185.101562 94.761719 L 186.730469 97.371094 L 188.210938 101.621094 L 189.511719 107.429688 L 190.621094 114.71875 L 191.519531 123.421875 L 192.210938 133.449219 L 192.660156 144.71875 L 196.871094 144.71875 L 196.609375 135.621094 L 196.261719 127.039062 L 195.828125 118.96875 L 195.308594 111.441406 L 194.71875 104.441406 L 194.039062 98 L 193.289062 92.109375 L 192.460938 86.800781 L 191.558594 82.078125 L 190.589844 77.949219 L 189.550781 74.429688 L 188.441406 71.519531 L 187.261719 69.238281 L 186.03125 67.589844 L 184.730469 66.601562 L 183.371094 66.269531 L 181.929688 66.628906 L 180.558594 67.71875 L 179.261719 69.550781 L 178.019531 72.121094 L 176.851562 75.421875 L 175.738281 79.480469 L 174.699219 84.28125 L 173.730469 89.828125 L 172.410156 99.339844 L 171.25 110.089844 L 170.25 122.011719 L 169.410156 134.988281 L 168.75 148.941406 L 168.28125 163.738281 L 167.980469 179.320312 L 167.890625 195.550781 L 167.960938 209.421875 L 168.160156 222.710938 L 168.5 235.371094 L 168.96875 247.359375 L 169.558594 258.648438 L 170.261719 269.179688 L 171.078125 278.910156 L 172.011719 287.808594 L 173.03125 295.820312 L 174.160156 302.898438 L 175.371094 309.011719 L 176.679688 314.109375 L 178.058594 318.148438 L 179.53125 321.089844 L 181.058594 322.890625 L 182.660156 323.5 L 184.269531 322.910156 L 185.789062 321.128906 L 187.25 318.148438 L 188.640625 313.941406 L 189.96875 308.488281 L 191.25 301.769531 L 192.488281 293.761719 L 193.679688 284.441406 L 194.699219 317.101562 L 197.308594 317.101562 Z M 197.308594 186.128906 \"/>\n",
       "<path style=\" stroke:none;fill-rule:nonzero;fill:rgb(100%,70.196533%,17.254639%);fill-opacity:1;\" d=\"M 231.738281 324.460938 L 218.28125 324.460938 L 218.28125 324.640625 L 228.109375 324.640625 L 228.109375 324.679688 L 228.058594 324.730469 L 227.910156 324.769531 L 227.679688 324.820312 L 227.351562 324.859375 L 226.941406 324.910156 L 226.449219 324.941406 L 225.890625 324.980469 L 225.25 325.011719 L 224.539062 325.039062 L 223.769531 325.070312 L 222.929688 325.089844 L 222.039062 325.109375 L 221.089844 325.121094 L 220.101562 325.140625 L 216.761719 325.140625 L 215.589844 325.128906 L 214.460938 325.121094 L 213.390625 325.101562 L 212.378906 325.078125 L 211.449219 325.058594 L 210.589844 325.019531 L 209.828125 324.988281 L 209.078125 324.949219 L 208.398438 324.898438 L 207.820312 324.839844 L 207.328125 324.78125 L 206.941406 324.71875 L 206.660156 324.648438 L 206.480469 324.578125 L 206.429688 324.511719 L 206.480469 324.441406 L 206.628906 324.378906 L 206.890625 324.320312 L 207.238281 324.261719 L 207.679688 324.199219 L 208.210938 324.148438 L 208.828125 324.101562 L 209.53125 324.058594 L 210.320312 324.019531 L 211.171875 323.988281 L 212.109375 323.960938 L 213.109375 323.941406 L 214.179688 323.921875 L 215.308594 323.898438 L 216.5 323.898438 L 217.75 323.890625 L 219.53125 323.898438 L 221.160156 323.910156 L 222.628906 323.941406 L 223.929688 323.980469 L 225.039062 324.019531 L 225.949219 324.078125 L 226.640625 324.140625 L 227.089844 324.210938 L 231.289062 324.210938 L 231.03125 324.148438 L 230.691406 324.101562 L 230.25 324.050781 L 229.738281 324 L 229.140625 323.960938 L 228.46875 323.921875 L 227.710938 323.878906 L 226.878906 323.851562 L 225.980469 323.820312 L 225.011719 323.789062 L 223.96875 323.769531 L 222.859375 323.75 L 221.691406 323.738281 L 220.449219 323.730469 L 219.148438 323.71875 L 216.359375 323.71875 L 214.980469 323.730469 L 213.679688 323.738281 L 212.441406 323.761719 L 211.269531 323.78125 L 210.171875 323.800781 L 209.128906 323.828125 L 208.148438 323.871094 L 206.828125 323.929688 L 205.671875 323.988281 L 204.671875 324.070312 L 203.839844 324.148438 L 203.179688 324.230469 L 202.699219 324.328125 L 202.410156 324.421875 L 202.308594 324.519531 L 202.378906 324.609375 L 202.589844 324.691406 L 202.929688 324.769531 L 203.390625 324.839844 L 203.980469 324.910156 L 204.691406 324.980469 L 205.511719 325.039062 L 206.429688 325.089844 L 207.460938 325.140625 L 208.578125 325.191406 L 209.800781 325.230469 L 211.101562 325.261719 L 212.488281 325.28125 L 213.949219 325.300781 L 215.488281 325.308594 L 217.089844 325.320312 L 218.691406 325.308594 L 220.21875 325.300781 L 221.671875 325.28125 L 223.058594 325.261719 L 224.398438 325.21875 L 225.679688 325.179688 L 226.910156 325.128906 L 228.109375 325.070312 L 229.121094 325.28125 L 231.738281 325.28125 Z M 231.738281 324.460938 \"/>\n",
       "<path style=\" stroke:none;fill-rule:nonzero;fill:rgb(81.568909%,0%,0.392151%);fill-opacity:1;\" d=\"M 226.679688 318.238281 L 226.679688 321.96875 L 226.640625 322.101562 L 226.53125 322.230469 L 226.328125 322.339844 L 226.070312 322.449219 L 225.730469 322.558594 L 225.320312 322.648438 L 224.839844 322.738281 L 224.289062 322.820312 L 223.679688 322.890625 L 223.011719 322.949219 L 222.269531 323 L 221.46875 323.039062 L 220.621094 323.078125 L 219.710938 323.101562 L 218.738281 323.121094 L 217.71875 323.121094 L 215.878906 323.109375 L 214.210938 323.050781 L 212.710938 322.96875 L 211.378906 322.851562 L 210.78125 322.769531 L 210.261719 322.679688 L 209.820312 322.589844 L 209.46875 322.480469 L 209.199219 322.371094 L 209 322.25 L 208.890625 322.121094 L 208.851562 321.96875 L 208.851562 318.238281 L 204.421875 318.238281 L 204.421875 321.96875 L 204.480469 322.171875 L 204.648438 322.359375 L 204.941406 322.53125 L 205.328125 322.699219 L 205.839844 322.859375 L 206.449219 323 L 207.160156 323.128906 L 207.96875 323.25 L 208.878906 323.359375 L 209.878906 323.449219 L 210.980469 323.53125 L 212.160156 323.601562 L 213.429688 323.648438 L 214.78125 323.691406 L 216.210938 323.710938 L 217.71875 323.71875 L 219.210938 323.710938 L 220.628906 323.691406 L 221.980469 323.648438 L 223.25 323.601562 L 224.441406 323.53125 L 225.539062 323.449219 L 226.550781 323.351562 L 227.46875 323.25 L 228.300781 323.128906 L 229.03125 322.988281 L 229.648438 322.851562 L 230.171875 322.691406 L 230.578125 322.53125 L 230.878906 322.351562 L 231.058594 322.171875 L 231.121094 321.96875 L 231.121094 318.238281 Z M 226.679688 318.238281 \"/>\n",
       "<path style=\" stroke:none;fill-rule:nonzero;fill:rgb(0%,50.588989%,10.588074%);fill-opacity:1;\" d=\"M 224.828125 315.480469 L 228.699219 318.238281 L 234.070312 318.238281 L 220.851562 309.050781 L 214.660156 309.050781 L 201.238281 318.238281 L 206.351562 318.238281 L 210.320312 315.480469 Z M 223.488281 314.5 L 211.511719 314.5 L 217.699219 310.308594 Z M 223.488281 314.5 \"/>\n",
       "<path style=\" stroke:none;fill-rule:nonzero;fill:rgb(12.548828%,0%,78.039551%);fill-opacity:1;\" d=\"M 231.929688 184.050781 L 231.628906 177.148438 L 231.269531 170.699219 L 230.828125 164.710938 L 230.320312 159.179688 L 229.738281 154.089844 L 229.089844 149.449219 L 228.371094 145.261719 L 227.570312 141.519531 L 226.699219 138.21875 L 225.761719 135.371094 L 224.738281 132.949219 L 223.648438 130.988281 L 222.480469 129.460938 L 221.238281 128.371094 L 219.921875 127.710938 L 218.53125 127.488281 L 216.820312 127.839844 L 215.199219 128.871094 L 213.671875 130.578125 L 212.238281 132.960938 L 210.898438 136.011719 L 209.671875 139.730469 L 208.539062 144.101562 L 207.519531 149.121094 L 206.398438 155.878906 L 205.429688 163.308594 L 204.589844 171.351562 L 203.898438 179.949219 L 203.359375 189.070312 L 202.96875 198.640625 L 202.730469 208.628906 L 202.648438 218.980469 L 202.730469 229.480469 L 202.980469 239.558594 L 203.378906 249.171875 L 203.949219 258.28125 L 204.660156 266.851562 L 205.53125 274.820312 L 206.539062 282.171875 L 207.710938 288.851562 L 208.738281 293.671875 L 209.859375 297.820312 L 211.050781 301.300781 L 212.328125 304.121094 L 213.691406 306.289062 L 215.140625 307.828125 L 216.691406 308.738281 L 218.339844 309.050781 L 219.890625 308.78125 L 221.351562 307.980469 L 222.71875 306.640625 L 224.011719 304.761719 L 225.210938 302.359375 L 226.320312 299.410156 L 227.339844 295.929688 L 228.28125 291.910156 L 229.128906 287.351562 L 229.890625 282.25 L 230.570312 276.621094 L 231.160156 270.449219 L 231.660156 263.738281 L 232.070312 256.488281 L 232.398438 248.699219 L 232.640625 240.371094 L 228.070312 240.371094 L 227.761719 248.609375 L 227.398438 255.671875 L 226.988281 261.789062 L 226.488281 267.21875 L 225.890625 272.28125 L 225.140625 276.730469 L 224.28125 280.558594 L 223.300781 283.738281 L 222.210938 286.25 L 221.019531 288.070312 L 219.738281 289.191406 L 218.390625 289.558594 L 217.121094 289.238281 L 215.921875 288.289062 L 214.78125 286.730469 L 213.699219 284.578125 L 212.699219 281.851562 L 211.769531 278.558594 L 210.921875 274.730469 L 210.140625 270.371094 L 209.449219 265.511719 L 208.839844 260.160156 L 208.308594 254.339844 L 207.878906 248.058594 L 207.539062 241.339844 L 207.289062 234.210938 L 207.140625 226.671875 L 207.089844 218.75 L 207.128906 210.621094 L 207.28125 202.898438 L 207.519531 195.621094 L 207.851562 188.789062 L 208.261719 182.410156 L 208.769531 176.511719 L 209.359375 171.101562 L 210.019531 166.199219 L 210.769531 161.820312 L 211.601562 157.96875 L 212.488281 154.679688 L 213.460938 151.949219 L 214.5 149.800781 L 215.609375 148.238281 L 216.769531 147.300781 L 218 146.980469 L 219.050781 147.179688 L 220.058594 147.75 L 221.039062 148.679688 L 221.960938 149.949219 L 222.808594 151.53125 L 223.589844 153.398438 L 224.28125 155.53125 L 224.871094 157.910156 L 225.328125 160.210938 L 225.730469 162.699219 L 226.101562 165.410156 L 226.421875 168.398438 L 226.710938 171.710938 L 226.960938 175.390625 L 227.191406 179.488281 L 227.398438 184.050781 Z M 231.929688 184.050781 \"/>\n",
       "<path style=\" stroke:none;fill-rule:nonzero;fill:rgb(100%,70.196533%,17.254639%);fill-opacity:1;\" d=\"M 266.160156 323.789062 L 252.710938 323.789062 L 252.710938 324.101562 L 262.53125 324.101562 L 262.53125 324.171875 L 262.480469 324.261719 L 262.339844 324.351562 L 262.101562 324.429688 L 261.78125 324.511719 L 261.371094 324.578125 L 260.878906 324.648438 L 260.308594 324.710938 L 259.671875 324.769531 L 258.960938 324.820312 L 258.191406 324.871094 L 257.359375 324.910156 L 256.460938 324.949219 L 255.519531 324.96875 L 254.519531 324.988281 L 253.480469 325 L 252.398438 325.011719 L 251.191406 325 L 250.011719 324.988281 L 248.890625 324.96875 L 247.808594 324.941406 L 246.808594 324.898438 L 245.871094 324.851562 L 245.019531 324.789062 L 244.261719 324.730469 L 243.5 324.648438 L 242.828125 324.558594 L 242.25 324.460938 L 241.761719 324.359375 L 241.371094 324.238281 L 241.078125 324.121094 L 240.910156 324 L 240.851562 323.871094 L 240.898438 323.75 L 241.058594 323.628906 L 241.308594 323.519531 L 241.660156 323.421875 L 242.101562 323.320312 L 242.640625 323.230469 L 243.261719 323.140625 L 243.960938 323.070312 L 244.738281 323 L 245.601562 322.941406 L 246.53125 322.890625 L 247.53125 322.839844 L 248.601562 322.808594 L 249.730469 322.78125 L 250.929688 322.769531 L 252.179688 322.761719 L 253.949219 322.769531 L 255.578125 322.800781 L 257.058594 322.851562 L 258.359375 322.910156 L 259.46875 322.988281 L 260.371094 323.089844 L 261.058594 323.199219 L 261.511719 323.328125 L 265.71875 323.328125 L 265.460938 323.230469 L 265.109375 323.128906 L 264.679688 323.039062 L 264.160156 322.960938 L 263.570312 322.878906 L 262.890625 322.808594 L 262.140625 322.738281 L 261.308594 322.679688 L 260.410156 322.628906 L 259.441406 322.589844 L 258.390625 322.550781 L 257.289062 322.511719 L 256.109375 322.488281 L 254.878906 322.46875 L 253.578125 322.460938 L 250.78125 322.460938 L 249.410156 322.46875 L 248.101562 322.488281 L 246.871094 322.519531 L 245.699219 322.558594 L 244.589844 322.601562 L 243.550781 322.660156 L 242.578125 322.71875 L 241.261719 322.820312 L 240.089844 322.941406 L 239.089844 323.078125 L 238.261719 323.21875 L 237.601562 323.371094 L 237.121094 323.539062 L 236.828125 323.710938 L 236.730469 323.890625 L 236.800781 324.050781 L 237.011719 324.191406 L 237.351562 324.339844 L 237.820312 324.46875 L 238.410156 324.589844 L 239.109375 324.710938 L 239.929688 324.820312 L 240.859375 324.921875 L 241.878906 325.011719 L 243.011719 325.089844 L 244.21875 325.148438 L 245.53125 325.210938 L 246.910156 325.261719 L 248.378906 325.289062 L 249.910156 325.308594 L 251.511719 325.320312 L 253.121094 325.308594 L 254.640625 325.289062 L 256.101562 325.261719 L 257.488281 325.210938 L 258.820312 325.148438 L 260.101562 325.070312 L 261.339844 324.980469 L 262.53125 324.878906 L 263.550781 325.238281 L 266.160156 325.238281 Z M 266.160156 323.789062 \"/>\n",
       "<path style=\" stroke:none;fill-rule:nonzero;fill:rgb(12.548828%,0%,78.039551%);fill-opacity:1;\" d=\"M 266.351562 320.078125 L 266.058594 319.949219 L 265.691406 319.828125 L 265.261719 319.710938 L 264.75 319.609375 L 264.171875 319.511719 L 263.519531 319.421875 L 262.789062 319.339844 L 261.988281 319.269531 L 261.121094 319.210938 L 260.179688 319.148438 L 259.160156 319.109375 L 258.070312 319.070312 L 256.898438 319.039062 L 255.660156 319.019531 L 254.351562 319.011719 L 252.949219 319 L 251.238281 319.011719 L 249.621094 319.03125 L 248.089844 319.058594 L 246.660156 319.109375 L 245.320312 319.171875 L 244.089844 319.238281 L 242.960938 319.320312 L 241.941406 319.421875 L 240.828125 319.539062 L 239.851562 319.691406 L 239.019531 319.839844 L 238.328125 320 L 237.789062 320.179688 L 237.390625 320.359375 L 237.160156 320.550781 L 237.078125 320.738281 L 237.160156 320.941406 L 237.398438 321.128906 L 237.808594 321.320312 L 238.371094 321.488281 L 239.089844 321.648438 L 239.949219 321.800781 L 240.96875 321.941406 L 242.128906 322.070312 L 243.171875 322.160156 L 244.28125 322.238281 L 245.46875 322.308594 L 246.75 322.359375 L 248.109375 322.398438 L 249.570312 322.429688 L 251.109375 322.449219 L 252.761719 322.460938 L 254.308594 322.449219 L 255.769531 322.429688 L 257.140625 322.410156 L 258.429688 322.371094 L 259.628906 322.328125 L 260.738281 322.269531 L 261.769531 322.210938 L 262.699219 322.128906 L 263.550781 322.039062 L 264.320312 321.949219 L 264.988281 321.839844 L 265.578125 321.71875 L 266.078125 321.589844 L 266.5 321.460938 L 266.828125 321.308594 L 267.070312 321.148438 L 262.488281 321.148438 L 262.179688 321.308594 L 261.828125 321.441406 L 261.410156 321.558594 L 260.921875 321.660156 L 260.308594 321.761719 L 259.570312 321.839844 L 258.699219 321.910156 L 257.71875 321.96875 L 256.628906 322.019531 L 255.441406 322.058594 L 254.171875 322.078125 L 251.539062 322.078125 L 250.339844 322.058594 L 249.199219 322.03125 L 248.128906 321.988281 L 247.128906 321.941406 L 246.199219 321.878906 L 245.339844 321.800781 L 244.570312 321.71875 L 243.871094 321.628906 L 243.261719 321.53125 L 242.738281 321.421875 L 242.300781 321.300781 L 241.960938 321.171875 L 241.710938 321.03125 L 241.558594 320.890625 L 241.511719 320.738281 L 241.558594 320.578125 L 241.699219 320.441406 L 241.941406 320.300781 L 242.269531 320.171875 L 242.691406 320.050781 L 243.191406 319.941406 L 243.78125 319.828125 L 244.449219 319.738281 L 245.199219 319.660156 L 246.019531 319.578125 L 246.921875 319.519531 L 247.890625 319.46875 L 248.921875 319.429688 L 250.03125 319.398438 L 251.199219 319.378906 L 253.46875 319.378906 L 254.488281 319.390625 L 255.460938 319.410156 L 256.378906 319.429688 L 257.238281 319.460938 L 258.011719 319.5 L 258.699219 319.539062 L 259.289062 319.578125 L 259.75 319.628906 L 260.160156 319.671875 L 260.519531 319.730469 L 260.839844 319.78125 L 261.128906 319.851562 L 261.390625 319.921875 L 261.621094 319.988281 L 261.820312 320.078125 Z M 266.351562 320.078125 \"/>\n",
       "<path style=\" stroke:none;fill-rule:nonzero;fill:rgb(81.568909%,0%,0.392151%);fill-opacity:1;\" d=\"M 261.109375 314.691406 L 261.109375 317.628906 L 261.070312 317.730469 L 260.949219 317.828125 L 260.761719 317.921875 L 260.488281 318.011719 L 260.148438 318.089844 L 259.738281 318.160156 L 259.261719 318.230469 L 258.71875 318.289062 L 258.109375 318.351562 L 257.429688 318.398438 L 256.691406 318.441406 L 255.898438 318.46875 L 255.039062 318.5 L 254.128906 318.519531 L 253.160156 318.53125 L 252.140625 318.53125 L 250.300781 318.519531 L 248.628906 318.480469 L 247.128906 318.410156 L 245.800781 318.320312 L 245.199219 318.25 L 244.679688 318.191406 L 244.25 318.109375 L 243.890625 318.03125 L 243.621094 317.941406 L 243.429688 317.851562 L 243.308594 317.738281 L 243.269531 317.628906 L 243.269531 314.691406 L 238.839844 314.691406 L 238.839844 317.628906 L 238.898438 317.78125 L 239.070312 317.929688 L 239.359375 318.070312 L 239.761719 318.199219 L 240.261719 318.320312 L 240.871094 318.441406 L 241.589844 318.539062 L 242.398438 318.628906 L 243.308594 318.71875 L 244.308594 318.789062 L 245.398438 318.859375 L 246.578125 318.910156 L 247.851562 318.949219 L 249.199219 318.980469 L 250.628906 319 L 253.640625 319 L 255.058594 318.980469 L 256.410156 318.949219 L 257.679688 318.910156 L 258.859375 318.851562 L 259.960938 318.789062 L 260.980469 318.71875 L 261.898438 318.628906 L 262.71875 318.539062 L 263.449219 318.429688 L 264.078125 318.320312 L 264.589844 318.199219 L 265 318.070312 L 265.300781 317.929688 L 265.480469 317.78125 L 265.539062 317.628906 L 265.539062 314.691406 Z M 261.109375 314.691406 \"/>\n",
       "<path style=\" stroke:none;fill-rule:nonzero;fill:rgb(0%,50.588989%,10.588074%);fill-opacity:1;\" d=\"M 259.25 251.878906 L 263.121094 314.691406 L 268.488281 314.691406 L 255.28125 105.621094 L 249.078125 105.621094 L 235.671875 314.691406 L 240.769531 314.691406 L 244.75 251.878906 Z M 257.910156 229.511719 L 245.941406 229.511719 L 252.128906 134.300781 Z M 257.910156 229.511719 \"/>\n",
       "<path style=\" stroke:none;fill-rule:nonzero;fill:rgb(12.548828%,0%,78.039551%);fill-opacity:1;\" d=\"M 300.78125 323.78125 L 300.480469 323.691406 L 300.121094 323.609375 L 299.679688 323.539062 L 299.171875 323.46875 L 298.589844 323.410156 L 297.941406 323.351562 L 297.21875 323.300781 L 296.421875 323.25 L 295.550781 323.210938 L 294.601562 323.179688 L 293.589844 323.148438 L 292.488281 323.121094 L 291.328125 323.101562 L 290.089844 323.089844 L 288.769531 323.078125 L 285.671875 323.078125 L 284.050781 323.101562 L 282.519531 323.121094 L 281.078125 323.148438 L 279.75 323.191406 L 278.511719 323.230469 L 277.378906 323.28125 L 276.359375 323.351562 L 275.25 323.429688 L 274.28125 323.519531 L 273.441406 323.621094 L 272.75 323.730469 L 272.210938 323.839844 L 271.820312 323.960938 L 271.578125 324.078125 L 271.5 324.210938 L 271.578125 324.339844 L 271.828125 324.460938 L 272.230469 324.578125 L 272.789062 324.691406 L 273.511719 324.800781 L 274.378906 324.890625 L 275.390625 324.980469 L 276.550781 325.070312 L 277.589844 325.128906 L 278.710938 325.179688 L 279.898438 325.21875 L 281.171875 325.25 L 282.539062 325.28125 L 283.988281 325.300781 L 285.539062 325.308594 L 287.191406 325.320312 L 288.730469 325.308594 L 290.199219 325.300781 L 291.570312 325.289062 L 292.851562 325.261719 L 294.050781 325.230469 L 295.171875 325.199219 L 296.191406 325.148438 L 297.128906 325.101562 L 297.980469 325.050781 L 298.738281 324.988281 L 299.421875 324.921875 L 300.011719 324.839844 L 300.511719 324.761719 L 300.921875 324.671875 L 301.25 324.570312 L 301.488281 324.46875 L 296.910156 324.46875 L 296.609375 324.570312 L 296.25 324.660156 L 295.828125 324.730469 L 295.339844 324.800781 L 294.730469 324.859375 L 293.988281 324.921875 L 293.128906 324.960938 L 292.148438 325 L 291.058594 325.03125 L 289.871094 325.058594 L 288.589844 325.070312 L 287.230469 325.078125 L 285.96875 325.070312 L 284.761719 325.058594 L 283.621094 325.039062 L 282.550781 325.011719 L 281.550781 324.980469 L 280.621094 324.941406 L 279.769531 324.890625 L 278.988281 324.839844 L 278.300781 324.78125 L 277.691406 324.710938 L 277.160156 324.640625 L 276.730469 324.558594 L 276.390625 324.480469 L 276.140625 324.390625 L 275.988281 324.300781 L 275.929688 324.199219 L 275.980469 324.101562 L 276.128906 324.011719 L 276.371094 323.921875 L 276.699219 323.839844 L 277.109375 323.761719 L 277.621094 323.679688 L 278.199219 323.621094 L 278.871094 323.558594 L 279.621094 323.5 L 280.441406 323.460938 L 281.339844 323.421875 L 282.308594 323.378906 L 283.351562 323.359375 L 284.449219 323.339844 L 285.621094 323.320312 L 287.898438 323.320312 L 288.910156 323.328125 L 289.878906 323.339844 L 290.800781 323.359375 L 291.660156 323.378906 L 292.441406 323.398438 L 293.128906 323.429688 L 293.71875 323.449219 L 294.179688 323.480469 L 294.578125 323.511719 L 294.949219 323.550781 L 295.269531 323.578125 L 295.558594 323.621094 L 295.808594 323.671875 L 296.039062 323.71875 L 296.25 323.78125 Z M 300.78125 323.78125 \"/>\n",
       "<path style=\" stroke:none;fill-rule:nonzero;fill:rgb(81.568909%,0%,0.392151%);fill-opacity:1;\" d=\"M 295.53125 67.808594 L 295.53125 241.609375 L 295.488281 247.699219 L 295.371094 253.46875 L 295.179688 258.921875 L 294.910156 264.03125 L 294.578125 268.789062 L 294.171875 273.199219 L 293.691406 277.238281 L 293.140625 280.898438 L 292.53125 284.179688 L 291.851562 287.050781 L 291.121094 289.511719 L 290.320312 291.539062 L 289.46875 293.148438 L 288.550781 294.308594 L 287.589844 295.011719 L 286.570312 295.25 L 284.71875 294.421875 L 283.058594 291.980469 L 281.558594 287.941406 L 280.230469 282.351562 L 279.621094 278.628906 L 279.109375 274.601562 L 278.671875 270.199219 L 278.320312 265.421875 L 278.050781 260.199219 L 277.851562 254.519531 L 277.738281 248.328125 L 277.699219 241.609375 L 277.699219 67.808594 L 273.261719 67.808594 L 273.261719 241.609375 L 273.320312 250.808594 L 273.5 259.539062 L 273.789062 267.789062 L 274.179688 275.539062 L 274.691406 282.769531 L 275.300781 289.46875 L 276.011719 295.609375 L 276.820312 301.191406 L 277.730469 306.171875 L 278.730469 310.550781 L 279.828125 314.300781 L 281.011719 317.421875 L 282.28125 319.871094 L 283.628906 321.640625 L 285.058594 322.71875 L 286.570312 323.078125 L 288.058594 322.710938 L 289.480469 321.609375 L 290.828125 319.808594 L 292.101562 317.320312 L 293.289062 314.171875 L 294.390625 310.371094 L 295.398438 305.949219 L 296.320312 300.929688 L 297.148438 295.328125 L 297.878906 289.171875 L 298.5 282.46875 L 299.019531 275.25 L 299.429688 267.539062 L 299.71875 259.339844 L 299.898438 250.691406 L 299.960938 241.609375 L 299.960938 67.808594 Z M 295.53125 67.808594 \"/>\n",
       "<path style=\" stroke:none;fill-rule:nonzero;fill:rgb(12.548828%,0%,78.039551%);fill-opacity:1;\" d=\"M 335.199219 324.128906 L 334.910156 324.070312 L 334.539062 324.011719 L 334.101562 323.949219 L 333.601562 323.898438 L 333.019531 323.851562 L 332.359375 323.800781 L 331.640625 323.761719 L 330.839844 323.730469 L 329.96875 323.699219 L 329.03125 323.671875 L 328.011719 323.648438 L 326.921875 323.628906 L 325.75 323.621094 L 324.511719 323.601562 L 320.089844 323.601562 L 318.46875 323.609375 L 316.941406 323.628906 L 315.511719 323.648438 L 314.171875 323.679688 L 312.941406 323.710938 L 311.808594 323.75 L 310.789062 323.800781 L 309.679688 323.871094 L 308.699219 323.941406 L 307.871094 324.011719 L 307.179688 324.089844 L 306.628906 324.179688 L 306.238281 324.269531 L 306 324.359375 L 305.921875 324.460938 L 306.011719 324.558594 L 306.25 324.660156 L 306.660156 324.75 L 307.21875 324.828125 L 307.929688 324.921875 L 308.800781 324.988281 L 309.820312 325.058594 L 310.980469 325.121094 L 312.019531 325.171875 L 313.128906 325.210938 L 314.320312 325.238281 L 315.601562 325.269531 L 316.960938 325.289062 L 318.410156 325.300781 L 319.960938 325.308594 L 321.609375 325.320312 L 323.160156 325.308594 L 324.621094 325.308594 L 325.988281 325.289062 L 327.28125 325.28125 L 328.480469 325.25 L 329.589844 325.21875 L 330.609375 325.191406 L 331.550781 325.148438 L 332.398438 325.109375 L 333.171875 325.058594 L 333.839844 325.011719 L 334.429688 324.949219 L 334.929688 324.890625 L 335.351562 324.820312 L 335.671875 324.738281 L 335.921875 324.671875 L 331.339844 324.671875 L 331.03125 324.738281 L 330.679688 324.808594 L 330.261719 324.871094 L 329.761719 324.921875 L 329.160156 324.96875 L 328.421875 325.011719 L 327.550781 325.050781 L 326.570312 325.078125 L 325.480469 325.101562 L 324.289062 325.121094 L 323.019531 325.128906 L 320.390625 325.128906 L 319.191406 325.121094 L 318.050781 325.101562 L 316.980469 325.078125 L 315.96875 325.058594 L 315.050781 325.03125 L 314.191406 324.988281 L 313.421875 324.949219 L 312.71875 324.898438 L 312.109375 324.851562 L 311.589844 324.800781 L 311.148438 324.738281 L 310.808594 324.671875 L 310.558594 324.609375 L 310.410156 324.539062 L 310.359375 324.460938 L 310.410156 324.378906 L 310.550781 324.308594 L 310.789062 324.238281 L 311.121094 324.179688 L 311.539062 324.121094 L 312.039062 324.058594 L 312.628906 324.011719 L 313.300781 323.960938 L 314.039062 323.921875 L 314.871094 323.890625 L 315.769531 323.851562 L 316.738281 323.828125 L 317.769531 323.808594 L 318.878906 323.789062 L 320.050781 323.78125 L 322.320312 323.78125 L 323.339844 323.789062 L 324.308594 323.800781 L 325.230469 323.808594 L 326.078125 323.820312 L 326.859375 323.839844 L 327.550781 323.859375 L 328.140625 323.878906 L 328.601562 323.910156 L 329.011719 323.929688 L 329.371094 323.960938 L 329.691406 323.980469 L 329.980469 324.019531 L 330.238281 324.050781 L 330.460938 324.089844 L 330.671875 324.128906 Z M 335.199219 324.128906 \"/>\n",
       "<path style=\" stroke:none;fill-rule:nonzero;fill:rgb(81.568909%,0%,0.392151%);fill-opacity:1;\" d=\"M 329.960938 320.109375 L 329.960938 322.480469 L 329.921875 322.570312 L 329.800781 322.648438 L 329.609375 322.71875 L 329.339844 322.789062 L 329 322.851562 L 328.589844 322.910156 L 328.109375 322.96875 L 327.570312 323.019531 L 326.949219 323.058594 L 326.28125 323.101562 L 325.539062 323.140625 L 324.75 323.171875 L 323.890625 323.191406 L 322.980469 323.199219 L 322.011719 323.210938 L 320.988281 323.21875 L 319.148438 323.199219 L 317.480469 323.171875 L 315.980469 323.121094 L 314.648438 323.039062 L 314.050781 322.988281 L 313.53125 322.929688 L 313.101562 322.871094 L 312.738281 322.808594 L 312.46875 322.738281 L 312.28125 322.660156 L 312.160156 322.570312 L 312.121094 322.480469 L 312.121094 320.109375 L 307.691406 320.109375 L 307.691406 322.480469 L 307.75 322.609375 L 307.921875 322.730469 L 308.210938 322.839844 L 308.609375 322.949219 L 309.109375 323.050781 L 309.71875 323.140625 L 310.441406 323.21875 L 311.25 323.300781 L 312.160156 323.371094 L 313.160156 323.429688 L 314.25 323.480469 L 315.429688 323.519531 L 316.699219 323.550781 L 318.050781 323.578125 L 319.480469 323.589844 L 320.988281 323.601562 L 322.488281 323.589844 L 323.910156 323.578125 L 325.261719 323.550781 L 326.519531 323.519531 L 327.710938 323.46875 L 328.808594 323.421875 L 329.828125 323.359375 L 330.75 323.289062 L 331.570312 323.21875 L 332.300781 323.128906 L 332.921875 323.039062 L 333.441406 322.941406 L 333.851562 322.839844 L 334.148438 322.730469 L 334.328125 322.609375 L 334.390625 322.480469 L 334.390625 320.109375 Z M 329.960938 320.109375 \"/>\n",
       "<path style=\" stroke:none;fill-rule:nonzero;fill:rgb(100%,70.196533%,17.254639%);fill-opacity:1;\" d=\"M 335.011719 192.230469 L 321.558594 192.230469 L 321.558594 217.929688 L 331.378906 217.929688 L 331.378906 224.199219 L 331.328125 231.699219 L 331.191406 238.921875 L 330.949219 245.808594 L 330.621094 252.359375 L 330.210938 258.539062 L 329.730469 264.320312 L 329.160156 269.679688 L 328.519531 274.578125 L 327.808594 279.011719 L 327.039062 282.941406 L 326.199219 286.328125 L 325.308594 289.171875 L 324.371094 291.421875 L 323.371094 293.058594 L 322.328125 294.070312 L 321.25 294.410156 L 320.03125 294.019531 L 318.859375 292.851562 L 317.730469 290.949219 L 316.660156 288.339844 L 315.648438 285.03125 L 314.71875 281.050781 L 313.871094 276.441406 L 313.109375 271.210938 L 312.351562 264.609375 L 311.679688 257.089844 L 311.089844 248.78125 L 310.609375 239.789062 L 310.21875 230.25 L 309.929688 220.261719 L 309.761719 209.960938 L 309.699219 199.441406 L 309.75 189.148438 L 309.910156 179.328125 L 310.160156 170.019531 L 310.511719 161.230469 L 310.949219 152.988281 L 311.488281 145.328125 L 312.101562 138.28125 L 312.808594 131.859375 L 313.589844 126.089844 L 314.449219 121.011719 L 315.378906 116.640625 L 316.378906 113.011719 L 317.449219 110.140625 L 318.578125 108.050781 L 319.78125 106.78125 L 321.03125 106.351562 L 322.800781 107.179688 L 324.429688 109.609375 L 325.898438 113.558594 L 327.199219 118.96875 L 328.308594 125.761719 L 329.21875 133.859375 L 329.910156 143.191406 L 330.359375 153.679688 L 334.570312 153.679688 L 334.308594 145.21875 L 333.960938 137.230469 L 333.53125 129.71875 L 333.011719 122.699219 L 332.410156 116.191406 L 331.738281 110.191406 L 330.980469 104.710938 L 330.160156 99.769531 L 329.261719 95.371094 L 328.28125 91.53125 L 327.238281 88.25 L 326.128906 85.539062 L 324.960938 83.421875 L 323.71875 81.890625 L 322.429688 80.960938 L 321.070312 80.648438 L 319.628906 80.988281 L 318.261719 82.011719 L 316.949219 83.710938 L 315.71875 86.101562 L 314.550781 89.179688 L 313.441406 92.949219 L 312.398438 97.421875 L 311.421875 102.589844 L 310.109375 111.441406 L 308.941406 121.449219 L 307.941406 132.550781 L 307.109375 144.628906 L 306.449219 157.609375 L 305.96875 171.390625 L 305.679688 185.890625 L 305.578125 201.011719 L 305.648438 213.921875 L 305.859375 226.28125 L 306.199219 238.070312 L 306.671875 249.238281 L 307.25 259.738281 L 307.960938 269.550781 L 308.78125 278.609375 L 309.699219 286.890625 L 310.730469 294.339844 L 311.859375 300.941406 L 313.070312 306.628906 L 314.378906 311.371094 L 315.761719 315.128906 L 317.21875 317.871094 L 318.761719 319.539062 L 320.359375 320.109375 L 321.960938 319.558594 L 323.488281 317.910156 L 324.941406 315.128906 L 326.339844 311.21875 L 327.671875 306.140625 L 328.949219 299.878906 L 330.179688 292.421875 L 331.378906 283.75 L 332.398438 314.148438 L 335.011719 314.148438 Z M 335.011719 192.230469 \"/>\n",
       "<path style=\" stroke:none;fill-rule:nonzero;fill:rgb(100%,70.196533%,17.254639%);fill-opacity:1;\" d=\"M 369.429688 324.140625 L 355.980469 324.140625 L 355.980469 324.378906 L 365.800781 324.378906 L 365.800781 324.441406 L 365.75 324.511719 L 365.609375 324.570312 L 365.371094 324.628906 L 365.050781 324.691406 L 364.640625 324.75 L 364.148438 324.800781 L 363.578125 324.851562 L 362.941406 324.898438 L 362.238281 324.941406 L 361.460938 324.96875 L 360.628906 325.011719 L 359.738281 325.03125 L 358.789062 325.050781 L 357.800781 325.070312 L 356.75 325.078125 L 354.460938 325.078125 L 353.289062 325.070312 L 352.160156 325.050781 L 351.089844 325.019531 L 350.078125 324.988281 L 349.140625 324.960938 L 348.289062 324.921875 L 347.53125 324.871094 L 346.769531 324.808594 L 346.101562 324.738281 L 345.519531 324.660156 L 345.03125 324.578125 L 344.640625 324.488281 L 344.359375 324.398438 L 344.179688 324.308594 L 344.121094 324.210938 L 344.171875 324.121094 L 344.328125 324.03125 L 344.578125 323.941406 L 344.929688 323.859375 L 345.378906 323.78125 L 345.910156 323.710938 L 346.53125 323.648438 L 347.230469 323.589844 L 348.011719 323.539062 L 348.871094 323.488281 L 349.800781 323.449219 L 350.808594 323.421875 L 351.871094 323.390625 L 353.011719 323.371094 L 354.199219 323.359375 L 357.21875 323.359375 L 358.859375 323.390625 L 360.328125 323.421875 L 361.628906 323.46875 L 362.738281 323.53125 L 363.640625 323.609375 L 364.328125 323.691406 L 364.789062 323.789062 L 368.988281 323.789062 L 368.730469 323.710938 L 368.378906 323.640625 L 367.949219 323.570312 L 367.429688 323.511719 L 366.839844 323.449219 L 366.160156 323.390625 L 365.410156 323.339844 L 364.578125 323.300781 L 363.679688 323.261719 L 362.710938 323.21875 L 361.671875 323.191406 L 360.558594 323.171875 L 359.378906 323.148438 L 358.148438 323.128906 L 356.851562 323.121094 L 354.050781 323.121094 L 352.679688 323.128906 L 351.378906 323.148438 L 350.140625 323.171875 L 348.96875 323.199219 L 347.871094 323.230469 L 346.828125 323.28125 L 345.851562 323.320312 L 344.53125 323.398438 L 343.371094 323.5 L 342.371094 323.601562 L 341.53125 323.710938 L 340.878906 323.828125 L 340.398438 323.949219 L 340.109375 324.089844 L 340.011719 324.21875 L 340.078125 324.339844 L 340.28125 324.460938 L 340.621094 324.558594 L 341.089844 324.671875 L 341.679688 324.761719 L 342.390625 324.851562 L 343.199219 324.941406 L 344.128906 325.011719 L 345.160156 325.078125 L 346.28125 325.140625 L 347.5 325.191406 L 348.800781 325.238281 L 350.191406 325.269531 L 351.648438 325.300781 L 353.179688 325.308594 L 354.789062 325.320312 L 356.390625 325.308594 L 357.910156 325.300781 L 359.371094 325.269531 L 360.761719 325.230469 L 362.089844 325.191406 L 363.371094 325.128906 L 364.609375 325.058594 L 365.800781 324.980469 L 366.820312 325.261719 L 369.429688 325.261719 Z M 369.429688 324.140625 \"/>\n",
       "<path style=\" stroke:none;fill-rule:nonzero;fill:rgb(0%,50.588989%,10.588074%);fill-opacity:1;\" d=\"M 362.519531 321.289062 L 366.390625 323.121094 L 371.761719 323.121094 L 358.550781 317.039062 L 352.359375 317.039062 L 338.941406 323.121094 L 344.050781 323.121094 L 348.019531 321.289062 Z M 361.179688 320.640625 L 349.210938 320.640625 L 355.398438 317.871094 Z M 361.179688 320.640625 \"/>\n",
       "<path style=\" stroke:none;fill-rule:nonzero;fill:rgb(81.568909%,0%,0.392151%);fill-opacity:1;\" d=\"M 364.378906 301.25 L 364.378906 312 L 364.339844 312.378906 L 364.21875 312.730469 L 364.03125 313.070312 L 363.761719 313.390625 L 363.421875 313.679688 L 363.011719 313.949219 L 362.539062 314.199219 L 361.988281 314.429688 L 361.378906 314.628906 L 360.699219 314.808594 L 359.96875 314.960938 L 359.171875 315.089844 L 358.308594 315.191406 L 357.398438 315.261719 L 356.441406 315.300781 L 355.421875 315.320312 L 353.570312 315.269531 L 351.910156 315.121094 L 350.410156 314.871094 L 349.070312 314.519531 L 348.46875 314.289062 L 347.960938 314.039062 L 347.519531 313.769531 L 347.171875 313.46875 L 346.890625 313.148438 L 346.699219 312.800781 L 346.589844 312.421875 L 346.550781 312 L 346.550781 301.25 L 342.109375 301.25 L 342.109375 312 L 342.171875 312.570312 L 342.351562 313.109375 L 342.628906 313.621094 L 343.03125 314.101562 L 343.539062 314.550781 L 344.148438 314.960938 L 344.859375 315.339844 L 345.671875 315.679688 L 346.578125 315.988281 L 347.578125 316.261719 L 348.679688 316.5 L 349.859375 316.691406 L 351.121094 316.839844 L 352.480469 316.949219 L 353.910156 317.019531 L 355.421875 317.039062 L 356.910156 317.019531 L 358.328125 316.949219 L 359.679688 316.839844 L 360.949219 316.679688 L 362.140625 316.488281 L 363.238281 316.25 L 364.25 315.980469 L 365.171875 315.671875 L 366 315.320312 L 366.71875 314.941406 L 367.351562 314.53125 L 367.871094 314.078125 L 368.28125 313.601562 L 368.570312 313.101562 L 368.75 312.558594 L 368.808594 312 L 368.808594 301.25 Z M 364.378906 301.25 \"/>\n",
       "<path style=\" stroke:none;fill-rule:nonzero;fill:rgb(12.548828%,0%,78.039551%);fill-opacity:1;\" d=\"M 369.621094 290.019531 L 369.328125 289.398438 L 368.960938 288.820312 L 368.53125 288.289062 L 368.019531 287.789062 L 367.441406 287.328125 L 366.789062 286.921875 L 366.058594 286.539062 L 365.269531 286.199219 L 364.398438 285.910156 L 363.449219 285.648438 L 362.441406 285.429688 L 361.339844 285.261719 L 360.179688 285.121094 L 358.941406 285.019531 L 357.621094 284.960938 L 356.230469 284.941406 L 354.519531 284.980469 L 352.898438 285.070312 L 351.371094 285.21875 L 349.929688 285.441406 L 348.601562 285.710938 L 347.359375 286.039062 L 346.230469 286.441406 L 345.210938 286.890625 L 344.101562 287.488281 L 343.121094 288.160156 L 342.289062 288.878906 L 341.601562 289.648438 L 341.058594 290.46875 L 340.671875 291.328125 L 340.429688 292.230469 L 340.351562 293.160156 L 340.429688 294.101562 L 340.679688 295.011719 L 341.078125 295.871094 L 341.640625 296.691406 L 342.359375 297.460938 L 343.230469 298.171875 L 344.238281 298.828125 L 345.398438 299.429688 L 346.441406 299.871094 L 347.550781 300.238281 L 348.75 300.550781 L 350.019531 300.800781 L 351.378906 301 L 352.839844 301.140625 L 354.390625 301.21875 L 356.039062 301.25 L 357.578125 301.21875 L 359.039062 301.148438 L 360.421875 301.03125 L 361.699219 300.859375 L 362.898438 300.648438 L 364.011719 300.378906 L 365.039062 300.070312 L 365.980469 299.710938 L 366.828125 299.300781 L 367.589844 298.839844 L 368.269531 298.339844 L 368.859375 297.78125 L 369.359375 297.179688 L 369.769531 296.53125 L 370.101562 295.828125 L 370.339844 295.078125 L 365.761719 295.078125 L 365.460938 295.820312 L 365.101562 296.449219 L 364.679688 297 L 364.191406 297.488281 L 363.578125 297.941406 L 362.839844 298.339844 L 361.980469 298.691406 L 360.988281 298.96875 L 359.898438 299.199219 L 358.71875 299.359375 L 357.441406 299.460938 L 356.078125 299.5 L 354.820312 299.46875 L 353.609375 299.378906 L 352.46875 299.238281 L 351.398438 299.050781 L 350.398438 298.800781 L 349.46875 298.511719 L 348.621094 298.160156 L 347.839844 297.769531 L 347.148438 297.339844 L 346.539062 296.859375 L 346.011719 296.328125 L 345.578125 295.769531 L 345.230469 295.171875 L 344.988281 294.53125 L 344.828125 293.851562 L 344.78125 293.140625 L 344.828125 292.410156 L 344.980469 291.71875 L 345.210938 291.058594 L 345.539062 290.449219 L 345.960938 289.878906 L 346.46875 289.351562 L 347.050781 288.859375 L 347.71875 288.421875 L 348.46875 288.03125 L 349.289062 287.679688 L 350.191406 287.390625 L 351.160156 287.140625 L 352.199219 286.949219 L 353.300781 286.808594 L 354.46875 286.71875 L 355.699219 286.691406 L 356.75 286.710938 L 357.761719 286.761719 L 358.730469 286.851562 L 359.648438 286.960938 L 360.511719 287.101562 L 361.289062 287.269531 L 361.980469 287.460938 L 362.570312 287.679688 L 363.019531 287.878906 L 363.429688 288.109375 L 363.789062 288.351562 L 364.121094 288.621094 L 364.398438 288.910156 L 364.660156 289.25 L 364.890625 289.609375 L 365.089844 290.019531 Z M 369.621094 290.019531 \"/>\n",
       "<path style=\" stroke:none;fill-rule:nonzero;fill:rgb(12.548828%,0%,78.039551%);fill-opacity:1;\" d=\"M 404.050781 324.691406 L 403.75 324.648438 L 403.390625 324.621094 L 402.949219 324.589844 L 402.441406 324.558594 L 401.859375 324.539062 L 401.210938 324.511719 L 400.488281 324.488281 L 399.691406 324.46875 L 398.820312 324.460938 L 397.878906 324.441406 L 396.859375 324.429688 L 395.769531 324.421875 L 394.601562 324.410156 L 393.359375 324.410156 L 392.039062 324.398438 L 388.941406 324.398438 L 387.320312 324.410156 L 385.789062 324.421875 L 384.359375 324.429688 L 383.019531 324.441406 L 381.789062 324.460938 L 380.660156 324.480469 L 379.640625 324.511719 L 378.519531 324.539062 L 377.550781 324.578125 L 376.710938 324.621094 L 376.019531 324.671875 L 375.480469 324.710938 L 375.089844 324.761719 L 374.851562 324.808594 L 374.769531 324.859375 L 374.859375 324.910156 L 375.101562 324.96875 L 375.5 325.011719 L 376.070312 325.058594 L 376.78125 325.101562 L 377.648438 325.140625 L 378.671875 325.179688 L 379.828125 325.210938 L 380.859375 325.238281 L 381.980469 325.261719 L 383.171875 325.28125 L 384.449219 325.289062 L 385.808594 325.300781 L 387.261719 325.308594 L 388.808594 325.308594 L 390.460938 325.320312 L 392.011719 325.308594 L 393.46875 325.308594 L 394.839844 325.300781 L 396.128906 325.289062 L 397.328125 325.28125 L 398.441406 325.269531 L 399.460938 325.25 L 400.398438 325.230469 L 401.25 325.210938 L 402.011719 325.179688 L 402.691406 325.148438 L 403.28125 325.121094 L 403.78125 325.089844 L 404.199219 325.050781 L 404.519531 325.011719 L 404.761719 324.96875 L 400.191406 324.96875 L 399.878906 325.011719 L 399.519531 325.050781 L 399.109375 325.078125 L 398.609375 325.101562 L 398.011719 325.128906 L 397.269531 325.148438 L 396.398438 325.171875 L 395.421875 325.191406 L 394.328125 325.199219 L 393.140625 325.210938 L 391.859375 325.21875 L 389.238281 325.21875 L 388.039062 325.210938 L 386.898438 325.199219 L 385.828125 325.191406 L 384.820312 325.179688 L 383.890625 325.160156 L 383.039062 325.140625 L 382.261719 325.121094 L 381.570312 325.101562 L 380.960938 325.070312 L 380.441406 325.039062 L 380 325.011719 L 379.660156 324.96875 L 379.410156 324.941406 L 379.261719 324.898438 L 379.210938 324.859375 L 379.261719 324.820312 L 379.398438 324.78125 L 379.640625 324.738281 L 379.96875 324.710938 L 380.390625 324.679688 L 380.890625 324.648438 L 381.480469 324.621094 L 382.148438 324.601562 L 382.890625 324.570312 L 383.71875 324.550781 L 384.609375 324.539062 L 385.578125 324.519531 L 386.621094 324.511719 L 387.730469 324.511719 L 388.898438 324.5 L 392.179688 324.5 L 393.160156 324.511719 L 394.078125 324.511719 L 394.929688 324.519531 L 395.710938 324.53125 L 396.398438 324.539062 L 396.988281 324.550781 L 397.449219 324.570312 L 397.859375 324.578125 L 398.21875 324.589844 L 398.539062 324.609375 L 398.828125 324.621094 L 399.078125 324.640625 L 399.308594 324.660156 L 399.519531 324.691406 Z M 404.050781 324.691406 \"/>\n",
       "<path style=\" stroke:none;fill-rule:nonzero;fill:rgb(0%,50.588989%,10.588074%);fill-opacity:1;\" d=\"M 396.949219 324.078125 L 400.820312 324.398438 L 406.191406 324.398438 L 392.96875 323.339844 L 386.78125 323.339844 L 373.359375 324.398438 L 378.46875 324.398438 L 382.449219 324.078125 Z M 395.609375 323.96875 L 383.628906 323.96875 L 389.828125 323.480469 Z M 395.609375 323.96875 \"/>\n",
       "<path style=\" stroke:none;fill-rule:nonzero;fill:rgb(100%,70.196533%,17.254639%);fill-opacity:1;\" d=\"M 403.859375 322.730469 L 390.410156 322.730469 L 390.410156 322.851562 L 400.230469 322.851562 L 400.230469 322.878906 L 400.179688 322.921875 L 400.03125 322.949219 L 399.800781 322.988281 L 399.46875 323.019531 L 399.058594 323.050781 L 398.570312 323.070312 L 398.011719 323.101562 L 397.371094 323.121094 L 396.660156 323.140625 L 395.890625 323.160156 L 395.050781 323.179688 L 394.160156 323.191406 L 393.21875 323.199219 L 392.21875 323.210938 L 387.710938 323.210938 L 386.578125 323.199219 L 385.511719 323.191406 L 384.5 323.171875 L 383.570312 323.148438 L 382.71875 323.128906 L 381.949219 323.109375 L 381.199219 323.070312 L 380.53125 323.039062 L 379.941406 323 L 379.449219 322.960938 L 379.058594 322.910156 L 378.78125 322.871094 L 378.609375 322.820312 L 378.550781 322.769531 L 378.601562 322.71875 L 378.75 322.671875 L 379.011719 322.628906 L 379.359375 322.589844 L 379.800781 322.550781 L 380.328125 322.511719 L 380.949219 322.480469 L 381.660156 322.449219 L 382.441406 322.421875 L 383.300781 322.398438 L 384.230469 322.378906 L 385.230469 322.359375 L 386.300781 322.351562 L 387.429688 322.339844 L 388.621094 322.328125 L 391.648438 322.328125 L 393.28125 322.339844 L 394.75 322.359375 L 396.050781 322.390625 L 397.160156 322.421875 L 398.070312 322.460938 L 398.761719 322.5 L 399.210938 322.550781 L 403.410156 322.550781 L 403.148438 322.511719 L 402.808594 322.46875 L 402.371094 322.441406 L 401.859375 322.398438 L 401.261719 322.371094 L 400.589844 322.351562 L 399.828125 322.320312 L 399.011719 322.300781 L 398.101562 322.28125 L 397.128906 322.261719 L 396.089844 322.238281 L 394.980469 322.230469 L 393.808594 322.21875 L 392.570312 322.210938 L 387.101562 322.210938 L 385.800781 322.21875 L 384.558594 322.230469 L 383.390625 322.25 L 382.289062 322.261719 L 381.25 322.289062 L 380.269531 322.308594 L 378.949219 322.351562 L 377.789062 322.398438 L 376.789062 322.449219 L 375.960938 322.511719 L 375.300781 322.570312 L 374.820312 322.628906 L 374.53125 322.699219 L 374.429688 322.769531 L 374.5 322.839844 L 374.710938 322.890625 L 375.050781 322.949219 L 375.511719 323 L 376.101562 323.050781 L 376.808594 323.101562 L 377.628906 323.140625 L 378.550781 323.179688 L 379.578125 323.210938 L 380.699219 323.25 L 381.921875 323.269531 L 383.21875 323.289062 L 384.609375 323.308594 L 386.070312 323.328125 L 387.609375 323.328125 L 389.210938 323.339844 L 390.808594 323.328125 L 392.339844 323.328125 L 393.789062 323.308594 L 395.179688 323.289062 L 396.519531 323.269531 L 397.800781 323.238281 L 399.03125 323.210938 L 400.230469 323.160156 L 401.25 323.308594 L 403.859375 323.308594 Z M 403.859375 322.730469 \"/>\n",
       "<path style=\" stroke:none;fill-rule:nonzero;fill:rgb(81.568909%,0%,0.392151%);fill-opacity:1;\" d=\"M 398.800781 320.570312 L 398.800781 321.691406 L 398.761719 321.71875 L 398.648438 321.761719 L 398.449219 321.800781 L 398.191406 321.828125 L 397.851562 321.859375 L 397.441406 321.890625 L 396.960938 321.910156 L 396.410156 321.941406 L 395.800781 321.960938 L 395.128906 321.980469 L 394.390625 321.988281 L 393.589844 322 L 392.738281 322.011719 L 391.828125 322.019531 L 390.859375 322.03125 L 389.839844 322.03125 L 388 322.019531 L 386.328125 322.011719 L 384.828125 321.980469 L 383.5 321.949219 L 382.898438 321.921875 L 382.378906 321.898438 L 381.941406 321.871094 L 381.589844 321.839844 L 381.320312 321.800781 L 381.128906 321.769531 L 381.011719 321.730469 L 380.96875 321.691406 L 380.96875 320.570312 L 376.539062 320.570312 L 376.539062 321.691406 L 376.601562 321.738281 L 376.769531 321.800781 L 377.058594 321.851562 L 377.460938 321.898438 L 377.960938 321.949219 L 378.570312 321.988281 L 379.28125 322.03125 L 380.101562 322.070312 L 381 322.101562 L 382.011719 322.128906 L 383.101562 322.148438 L 384.28125 322.171875 L 385.550781 322.191406 L 386.898438 322.199219 L 388.328125 322.199219 L 389.839844 322.210938 L 391.328125 322.199219 L 392.761719 322.199219 L 394.101562 322.191406 L 395.371094 322.171875 L 396.558594 322.148438 L 397.660156 322.128906 L 398.671875 322.101562 L 399.601562 322.058594 L 400.421875 322.03125 L 401.148438 321.988281 L 401.769531 321.949219 L 402.289062 321.898438 L 402.699219 321.851562 L 403 321.800781 L 403.179688 321.738281 L 403.238281 321.691406 L 403.238281 320.570312 Z M 398.800781 320.570312 \"/>\n",
       "<path style=\" stroke:none;fill-rule:nonzero;fill:rgb(12.548828%,0%,78.039551%);fill-opacity:1;\" d=\"M 438.46875 324.410156 L 438.179688 324.359375 L 437.808594 324.320312 L 437.378906 324.269531 L 436.871094 324.230469 L 436.289062 324.191406 L 435.640625 324.160156 L 434.910156 324.128906 L 434.121094 324.101562 L 433.25 324.078125 L 432.300781 324.058594 L 431.28125 324.039062 L 430.191406 324.03125 L 429.03125 324.019531 L 427.78125 324.011719 L 426.46875 324 L 425.070312 324 L 423.371094 324.011719 L 421.738281 324.011719 L 420.21875 324.019531 L 418.78125 324.039062 L 417.449219 324.058594 L 416.210938 324.089844 L 415.078125 324.121094 L 414.058594 324.160156 L 412.949219 324.210938 L 411.96875 324.261719 L 411.140625 324.320312 L 410.449219 324.378906 L 409.910156 324.449219 L 409.511719 324.519531 L 409.28125 324.589844 L 409.199219 324.660156 L 409.28125 324.738281 L 409.519531 324.808594 L 409.929688 324.878906 L 410.488281 324.949219 L 411.210938 325.011719 L 412.070312 325.070312 L 413.089844 325.121094 L 414.25 325.171875 L 415.289062 325.199219 L 416.398438 325.230469 L 417.589844 325.261719 L 418.871094 325.28125 L 420.230469 325.300781 L 421.691406 325.308594 L 423.238281 325.308594 L 424.878906 325.320312 L 426.429688 325.308594 L 427.890625 325.308594 L 429.269531 325.300781 L 430.550781 325.28125 L 431.75 325.269531 L 432.859375 325.25 L 433.890625 325.21875 L 434.828125 325.191406 L 435.679688 325.160156 L 436.441406 325.121094 L 437.109375 325.078125 L 437.699219 325.039062 L 438.210938 324.988281 L 438.621094 324.941406 L 438.949219 324.878906 L 439.191406 324.820312 L 434.609375 324.820312 L 434.300781 324.878906 L 433.949219 324.929688 L 433.53125 324.96875 L 433.039062 325.011719 L 432.429688 325.050781 L 431.691406 325.078125 L 430.820312 325.109375 L 429.839844 325.128906 L 428.75 325.148438 L 427.570312 325.160156 L 426.289062 325.171875 L 422.460938 325.171875 L 421.320312 325.148438 L 420.25 325.140625 L 419.25 325.121094 L 418.320312 325.101562 L 417.460938 325.070312 L 416.691406 325.039062 L 415.988281 325 L 415.378906 324.960938 L 414.859375 324.921875 L 414.429688 324.871094 L 414.078125 324.828125 L 413.828125 324.769531 L 413.679688 324.71875 L 413.628906 324.660156 L 413.679688 324.601562 L 413.828125 324.550781 L 414.058594 324.5 L 414.390625 324.449219 L 414.808594 324.398438 L 415.308594 324.359375 L 415.898438 324.320312 L 416.570312 324.28125 L 417.320312 324.25 L 418.140625 324.21875 L 419.039062 324.199219 L 420.011719 324.179688 L 421.050781 324.160156 L 422.148438 324.148438 L 423.320312 324.148438 L 424.550781 324.140625 L 425.589844 324.140625 L 426.609375 324.148438 L 427.578125 324.160156 L 428.5 324.171875 L 429.359375 324.179688 L 430.140625 324.191406 L 430.828125 324.210938 L 431.421875 324.21875 L 431.871094 324.238281 L 432.28125 324.261719 L 432.640625 324.28125 L 432.96875 324.300781 L 433.25 324.320312 L 433.511719 324.351562 L 433.738281 324.378906 L 433.941406 324.410156 Z M 438.46875 324.410156 \"/>\n",
       "<path style=\" stroke:none;fill-rule:nonzero;fill:rgb(0%,50.588989%,10.588074%);fill-opacity:1;\" d=\"M 431.371094 323.589844 L 435.238281 324 L 440.609375 324 L 427.398438 322.628906 L 421.210938 322.628906 L 407.789062 324 L 412.898438 324 L 416.871094 323.589844 Z M 430.03125 323.441406 L 418.058594 323.441406 L 424.25 322.820312 Z M 430.03125 323.441406 \"/>\n",
       "<path style=\" stroke:none;fill-rule:nonzero;fill:rgb(100%,70.196533%,17.254639%);fill-opacity:1;\" d=\"M 438.28125 321.78125 L 424.828125 321.78125 L 424.828125 321.949219 L 434.648438 321.949219 L 434.648438 321.988281 L 434.601562 322.039062 L 434.460938 322.089844 L 434.21875 322.140625 L 433.898438 322.179688 L 433.488281 322.21875 L 433 322.261719 L 432.429688 322.289062 L 431.789062 322.328125 L 431.078125 322.359375 L 430.308594 322.378906 L 429.480469 322.398438 L 428.589844 322.421875 L 427.640625 322.441406 L 426.640625 322.449219 L 425.601562 322.460938 L 423.308594 322.460938 L 422.128906 322.449219 L 421.011719 322.441406 L 419.929688 322.421875 L 418.929688 322.398438 L 417.988281 322.371094 L 417.140625 322.339844 L 416.378906 322.300781 L 415.621094 322.261719 L 414.949219 322.210938 L 414.371094 322.160156 L 413.878906 322.101562 L 413.488281 322.03125 L 413.199219 321.96875 L 413.03125 321.898438 L 412.96875 321.828125 L 413.019531 321.761719 L 413.179688 321.699219 L 413.429688 321.628906 L 413.78125 321.578125 L 414.230469 321.519531 L 414.761719 321.46875 L 415.378906 321.421875 L 416.078125 321.378906 L 416.859375 321.339844 L 417.71875 321.308594 L 418.648438 321.28125 L 419.648438 321.261719 L 420.71875 321.238281 L 421.859375 321.21875 L 423.050781 321.21875 L 424.300781 321.210938 L 426.070312 321.21875 L 427.699219 321.230469 L 429.179688 321.261719 L 430.480469 321.300781 L 431.589844 321.339844 L 432.488281 321.390625 L 433.179688 321.460938 L 433.628906 321.53125 L 437.839844 321.53125 L 437.578125 321.46875 L 437.230469 321.421875 L 436.800781 321.371094 L 436.28125 321.320312 L 435.691406 321.28125 L 435.011719 321.238281 L 434.261719 321.199219 L 433.429688 321.171875 L 432.53125 321.140625 L 431.558594 321.109375 L 430.511719 321.089844 L 429.410156 321.070312 L 428.230469 321.058594 L 427 321.050781 L 425.699219 321.039062 L 422.898438 321.039062 L 421.53125 321.050781 L 420.21875 321.058594 L 418.988281 321.078125 L 417.820312 321.101562 L 416.710938 321.121094 L 415.671875 321.148438 L 414.699219 321.191406 L 413.378906 321.25 L 412.21875 321.308594 L 411.21875 321.390625 L 410.378906 321.46875 L 409.71875 321.550781 L 409.25 321.640625 L 408.949219 321.738281 L 408.859375 321.839844 L 408.929688 321.929688 L 409.128906 322.011719 L 409.46875 322.089844 L 409.941406 322.160156 L 410.53125 322.230469 L 411.230469 322.289062 L 412.050781 322.351562 L 412.980469 322.410156 L 414 322.460938 L 415.128906 322.5 L 416.339844 322.539062 L 417.648438 322.570312 L 419.03125 322.601562 L 420.5 322.609375 L 422.03125 322.621094 L 423.628906 322.628906 L 425.238281 322.621094 L 426.761719 322.609375 L 428.21875 322.601562 L 429.609375 322.570312 L 430.941406 322.539062 L 432.21875 322.488281 L 433.460938 322.449219 L 434.648438 322.390625 L 435.671875 322.589844 L 438.28125 322.589844 Z M 438.28125 321.78125 \"/>\n",
       "<path style=\" stroke:none;fill-rule:nonzero;fill:rgb(81.568909%,0%,0.392151%);fill-opacity:1;\" d=\"M 433.230469 318.578125 L 433.230469 320.261719 L 433.191406 320.308594 L 433.070312 320.371094 L 432.878906 320.421875 L 432.609375 320.46875 L 432.269531 320.519531 L 431.859375 320.558594 L 431.378906 320.601562 L 430.839844 320.640625 L 430.230469 320.671875 L 429.550781 320.691406 L 428.820312 320.71875 L 428.019531 320.738281 L 427.160156 320.75 L 426.25 320.761719 L 425.28125 320.769531 L 422.421875 320.769531 L 420.75 320.738281 L 419.261719 320.699219 L 417.921875 320.648438 L 417.320312 320.609375 L 416.800781 320.570312 L 416.371094 320.53125 L 416.019531 320.488281 L 415.738281 320.441406 L 415.550781 320.378906 L 415.429688 320.320312 L 415.398438 320.261719 L 415.398438 318.578125 L 410.960938 318.578125 L 410.960938 320.261719 L 411.019531 320.339844 L 411.191406 320.429688 L 411.480469 320.511719 L 411.878906 320.578125 L 412.390625 320.648438 L 413 320.71875 L 413.710938 320.78125 L 414.519531 320.828125 L 415.429688 320.878906 L 416.429688 320.921875 L 417.519531 320.960938 L 418.710938 320.988281 L 419.96875 321.011719 L 421.320312 321.03125 L 422.761719 321.039062 L 425.761719 321.039062 L 427.179688 321.03125 L 428.53125 321.011719 L 429.800781 320.988281 L 430.980469 320.960938 L 432.089844 320.921875 L 433.101562 320.878906 L 434.019531 320.828125 L 434.851562 320.769531 L 435.570312 320.71875 L 436.199219 320.648438 L 436.710938 320.578125 L 437.121094 320.511719 L 437.421875 320.429688 L 437.601562 320.339844 L 437.660156 320.261719 L 437.660156 318.578125 Z M 433.230469 318.578125 \"/>\n",
       "<g style=\"fill:rgb(0%,0%,0%);fill-opacity:1;\">\n",
       "  <use xlink:href=\"#glyph0-1\" x=\"200.28\" y=\"45.62\"/>\n",
       "  <use xlink:href=\"#glyph0-2\" x=\"209.618\" y=\"45.62\"/>\n",
       "  <use xlink:href=\"#glyph0-3\" x=\"217.402\" y=\"45.62\"/>\n",
       "  <use xlink:href=\"#glyph0-4\" x=\"225.186\" y=\"45.62\"/>\n",
       "  <use xlink:href=\"#glyph0-5\" x=\"232.97\" y=\"45.62\"/>\n",
       "  <use xlink:href=\"#glyph0-6\" x=\"236.862\" y=\"45.62\"/>\n",
       "  <use xlink:href=\"#glyph0-7\" x=\"246.97\" y=\"45.62\"/>\n",
       "  <use xlink:href=\"#glyph0-8\" x=\"256.308\" y=\"45.62\"/>\n",
       "  <use xlink:href=\"#glyph0-9\" x=\"264.862\" y=\"45.62\"/>\n",
       "</g>\n",
       "<g style=\"fill:rgb(0%,0%,0%);fill-opacity:1;\">\n",
       "  <use xlink:href=\"#glyph0-10\" x=\"274.914\" y=\"45.62\"/>\n",
       "  <use xlink:href=\"#glyph0-4\" x=\"284.252\" y=\"45.62\"/>\n",
       "  <use xlink:href=\"#glyph0-5\" x=\"292.036\" y=\"45.62\"/>\n",
       "  <use xlink:href=\"#glyph0-11\" x=\"295.928\" y=\"45.62\"/>\n",
       "</g>\n",
       "<path style=\" stroke:none;fill-rule:nonzero;fill:rgb(30.979919%,50.588989%,74.118042%);fill-opacity:1;\" d=\"M 64.429688 337.191406 L 93.289062 337.191406 L 93.289062 344.5 L 64.429688 344.5 Z M 64.429688 337.191406 \"/>\n",
       "<path style=\" stroke:none;fill-rule:nonzero;fill:rgb(30.979919%,50.588989%,74.118042%);fill-opacity:1;\" d=\"M 99.058594 337.191406 L 127.921875 337.191406 L 127.921875 338.988281 L 99.058594 338.988281 Z M 99.058594 337.191406 \"/>\n",
       "<path style=\" stroke:none;fill-rule:nonzero;fill:rgb(30.979919%,50.588989%,74.118042%);fill-opacity:1;\" d=\"M 133.679688 337.191406 L 162.539062 337.191406 L 162.539062 339.359375 L 133.679688 339.359375 Z M 133.679688 337.191406 \"/>\n",
       "<path style=\" stroke:none;fill-rule:nonzero;fill:rgb(30.979919%,50.588989%,74.118042%);fill-opacity:1;\" d=\"M 168.308594 337.191406 L 197.171875 337.191406 L 197.171875 456.480469 L 168.308594 456.480469 Z M 168.308594 337.191406 \"/>\n",
       "<path style=\" stroke:none;fill-rule:nonzero;fill:rgb(30.979919%,50.588989%,74.118042%);fill-opacity:1;\" d=\"M 202.941406 337.191406 L 231.800781 337.191406 L 231.800781 337.460938 L 202.941406 337.460938 Z M 202.941406 337.191406 \"/>\n",
       "<path style=\" stroke:none;fill-rule:nonzero;fill:rgb(30.979919%,50.588989%,74.118042%);fill-opacity:1;\" d=\"M 237.570312 337.191406 L 266.429688 337.191406 L 266.429688 337.460938 L 237.570312 337.460938 Z M 237.570312 337.191406 \"/>\n",
       "<path style=\" stroke:none;fill-rule:nonzero;fill:rgb(30.979919%,50.588989%,74.118042%);fill-opacity:1;\" d=\"M 272.199219 337.191406 L 301.058594 337.191406 L 301.058594 356.679688 L 272.199219 356.679688 Z M 272.199219 337.191406 \"/>\n",
       "<path style=\" stroke:none;fill-rule:nonzero;fill:rgb(30.979919%,50.588989%,74.118042%);fill-opacity:1;\" d=\"M 306.828125 337.191406 L 335.691406 337.191406 L 335.691406 390.109375 L 306.828125 390.109375 Z M 306.828125 337.191406 \"/>\n",
       "<path style=\" stroke:none;fill-rule:nonzero;fill:rgb(30.979919%,50.588989%,74.118042%);fill-opacity:1;\" d=\"M 341.460938 337.191406 L 370.320312 337.191406 L 370.320312 339.398438 L 341.460938 339.398438 Z M 341.460938 337.191406 \"/>\n",
       "<path style=\" stroke:none;fill-rule:nonzero;fill:rgb(30.979919%,50.588989%,74.118042%);fill-opacity:1;\" d=\"M 376.089844 337.191406 L 404.949219 337.191406 L 404.949219 341.25 L 376.089844 341.25 Z M 376.089844 337.191406 \"/>\n",
       "<path style=\" stroke:none;fill-rule:nonzero;fill:rgb(30.979919%,50.588989%,74.118042%);fill-opacity:1;\" d=\"M 410.71875 337.191406 L 439.578125 337.191406 L 439.578125 345.71875 L 410.71875 345.71875 Z M 410.71875 337.191406 \"/>\n",
       "</g>\n",
       "</svg>"
      ],
      "text/plain": [
       "<IPython.core.display.SVG object>"
      ]
     },
     "metadata": {},
     "output_type": "display_data"
    }
   ],
   "source": [
    "url = \"https://zhanglab.c2b2.columbia.edu/mCrossBase/static/plots/logo/{CELLTYPE}.{RBP}.top10.cluster.m1.00.svg\".format(\n",
    "    RBP=\"RBFOX2\", CELLTYPE=\"K562\"\n",
    ")\n",
    "response = requests.get(url, verify=False)\n",
    "\n",
    "display(SVG(response.content))"
   ]
  },
  {
   "cell_type": "markdown",
   "id": "babb43a9",
   "metadata": {},
   "source": [
    "## Cleanup"
   ]
  },
  {
   "cell_type": "code",
   "execution_count": null,
   "id": "1ddc7b14",
   "metadata": {},
   "outputs": [],
   "source": [
    "pbt.cleanup()"
   ]
  }
 ],
 "metadata": {
  "kernelspec": {
   "display_name": "parnet-demo",
   "language": "python",
   "name": "python3"
  },
  "language_info": {
   "codemirror_mode": {
    "name": "ipython",
    "version": 3
   },
   "file_extension": ".py",
   "mimetype": "text/x-python",
   "name": "python",
   "nbconvert_exporter": "python",
   "pygments_lexer": "ipython3",
   "version": "3.10.18"
  }
 },
 "nbformat": 4,
 "nbformat_minor": 5
}
