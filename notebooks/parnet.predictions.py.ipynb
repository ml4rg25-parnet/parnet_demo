{
 "cells": [
  {
   "cell_type": "code",
   "execution_count": 1,
   "id": "ec654047",
   "metadata": {
    "tags": [
     "parameters"
    ]
   },
   "outputs": [],
   "source": [
    "params_notebook_name = \"parnet.predictions.py.ipynb\"\n",
    "params_resource_dir = \"../resources/\""
   ]
  },
  {
   "cell_type": "markdown",
   "id": "096a0379",
   "metadata": {},
   "source": [
    "# PARNET - predictions"
   ]
  },
  {
   "cell_type": "code",
   "execution_count": null,
   "id": "7aa21fba",
   "metadata": {},
   "outputs": [],
   "source": []
  },
  {
   "cell_type": "markdown",
   "id": "64af15ac",
   "metadata": {},
   "source": [
    "## Imports"
   ]
  },
  {
   "cell_type": "code",
   "execution_count": null,
   "id": "c523168b",
   "metadata": {},
   "outputs": [],
   "source": [
    "import inspect\n",
    "import os\n",
    "import random\n",
    "import sys\n",
    "from pathlib import Path\n",
    "\n",
    "import numpy as np\n",
    "import pandas as pd\n",
    "import parnet\n",
    "import parnet.additional_utils\n",
    "import parnet.utils\n",
    "import torch\n",
    "import yaml\n",
    "from dotenv import find_dotenv, load_dotenv"
   ]
  },
  {
   "cell_type": "code",
   "execution_count": null,
   "id": "b6aab745",
   "metadata": {},
   "outputs": [],
   "source": [
    "import matplotlib as mpl\n",
    "import matplotlib.pyplot as plt\n",
    "import seaborn as sns"
   ]
  },
  {
   "cell_type": "code",
   "execution_count": 4,
   "id": "5729c34b",
   "metadata": {},
   "outputs": [
    {
     "name": "stdout",
     "output_type": "stream",
     "text": [
      "Confirmed CWD: /home/l10n/projects/ml4rg25-parnet/parnet_demo/notebooks contains expected file: parnet.predictions.py.ipynb\n",
      "/home/l10n/projects/ml4rg25-parnet/parnet_demo/notebooks\n"
     ]
    }
   ],
   "source": [
    "def assert_notebook_working_dir(expected_local_file: os.PathLike) -> Path:\n",
    "    \"\"\"Assert or try updating the current working directory to where the notebook is located, to enable relative paths references.\n",
    "\n",
    "    This function is used in a set-up where notebooks are contained within a project\n",
    "    directory structure in which we want to reference filepaths relative to the notebook.\n",
    "    e.g. \"../src\" or \"../resources\" should be accessible if the notebook is in\n",
    "    \"../notebooks/<notebook_name>.ipynb\".\n",
    "\n",
    "    The function first check the filepath of the expected local file relative\n",
    "    to the current working directory.\n",
    "\n",
    "    If not found, the function will try to use the VSCode Jupyter variable `__vsc_ipynb_file__`\n",
    "    which should report the path of the notebook file being executed.\n",
    "\n",
    "    It then checks if the expected local file exists, relative to the new working directory.\n",
    "\n",
    "\n",
    "    Args:\n",
    "        expected_local_file (os.PathLike): The expected local file to check for in the current working directory.\n",
    "            This can be the name of the notebook file.\n",
    "\n",
    "    Raises:\n",
    "        KeyError: if the `__vsc_ipynb_file__` variable is not found in the global scope, while the first CWD check failed.\n",
    "        FileNotFoundError: if the expected local file is not found in the current working directory after attempting to change it.\n",
    "    \"\"\"\n",
    "    import os\n",
    "    from pathlib import Path\n",
    "\n",
    "    cwd = Path(os.getcwd())\n",
    "    expected_local_filepath = cwd / expected_local_file\n",
    "\n",
    "    if not expected_local_filepath.exists():\n",
    "        if \"__vsc_ipynb_file__\" not in globals():\n",
    "            raise KeyError(\n",
    "                f\"Detected CWD: {cwd} ; CWD does not contain expected file, but cannot use __vsc_ipynb_file__ to recover.\"\n",
    "            )\n",
    "        else:\n",
    "            os.chdir(Path(globals()[\"__vsc_ipynb_file__\"]).parent)\n",
    "            cwd = Path(os.getcwd())\n",
    "            print(f\"Changed CWD to {cwd}\")\n",
    "\n",
    "            expected_local_filepath = cwd / expected_local_file\n",
    "            if not expected_local_filepath.exists():\n",
    "                raise FileNotFoundError(\n",
    "                    f\"Updated (using __vsc_ipynb_file__) CWD: {cwd} ; CWD does not contain expected file.\"\n",
    "                )\n",
    "\n",
    "            return cwd\n",
    "    else:\n",
    "        print(f\"Confirmed CWD: {cwd} contains expected file: {expected_local_file}\")\n",
    "        return cwd\n",
    "\n",
    "\n",
    "expected_local_file: str = params_notebook_name\n",
    "cwd = assert_notebook_working_dir(expected_local_file=expected_local_file)\n",
    "print(cwd)"
   ]
  },
  {
   "cell_type": "markdown",
   "id": "c3ebe436",
   "metadata": {},
   "source": [
    "## Initialization"
   ]
  },
  {
   "cell_type": "code",
   "execution_count": 7,
   "id": "3635a511",
   "metadata": {},
   "outputs": [
    {
     "data": {
      "text/plain": [
       "False"
      ]
     },
     "execution_count": 7,
     "metadata": {},
     "output_type": "execute_result"
    }
   ],
   "source": [
    "# Env variables, defined in the `.env` file at the root of the project directory.\n",
    "load_dotenv(find_dotenv(), override=True)"
   ]
  },
  {
   "cell_type": "code",
   "execution_count": 8,
   "id": "cd901f56",
   "metadata": {},
   "outputs": [
    {
     "name": "stdout",
     "output_type": "stream",
     "text": [
      "Using resources from: ../resources\n"
     ]
    }
   ],
   "source": [
    "resource_dir = Path(params_resource_dir)\n",
    "if not resource_dir.exists():\n",
    "    raise FileNotFoundError(\"Resource directory does not exist: \" + str(resource_dir))\n",
    "\n",
    "print(\"Using resources from:\", resource_dir)"
   ]
  },
  {
   "cell_type": "markdown",
   "id": "38745093",
   "metadata": {},
   "source": [
    "## Load"
   ]
  },
  {
   "cell_type": "code",
   "execution_count": 10,
   "id": "6884baec",
   "metadata": {},
   "outputs": [
    {
     "data": {
      "text/plain": [
       "{'parnet_21m': {'blob_metadata': '21M parameters, 2024-11-26',\n",
       "  'is_old_model': True,\n",
       "  'is_penalized': False,\n",
       "  'identifier_model_weights': 'parnet.21m-none',\n",
       "  'identifier_table_of_tasks': 'full_rbp_set'},\n",
       " 'parnet_7m_p0.0': {'blob_metadata': 'penalized model, 7M parameters, 2025-01-10 ; official Github distribution parnet v0.3.0',\n",
       "  'is_old_model': False,\n",
       "  'is_penalized': True,\n",
       "  'penalty': 0.0,\n",
       "  'softmax_output': ['total', 'target', 'control'],\n",
       "  'identifier_model_weights': 'parnet.7m-0.0',\n",
       "  'identifier_table_of_tasks': 'full_rbp_set'},\n",
       " 'parnet_7m_p2.5': {'blob_metadata': 'penalized model, 7M parameters, penalty of 2.5, 2025-01-10',\n",
       "  'is_old_model': False,\n",
       "  'is_penalized': True,\n",
       "  'penalty': 2.5,\n",
       "  'softmax_output': ['total', 'target', 'control'],\n",
       "  'path_model_weights': 'parnet.7m-p2.5',\n",
       "  'path_table_of_tasks': 'full_rbp_set'}}"
      ]
     },
     "metadata": {},
     "output_type": "display_data"
    }
   ],
   "source": [
    "with open(resource_dir / \"parnet_models\" / \"config.parnet_models.yaml\") as f:\n",
    "    config_models = yaml.safe_load(f)\n",
    "\n",
    "display(config_models[\"models\"])"
   ]
  },
  {
   "cell_type": "markdown",
   "id": "204491a7",
   "metadata": {},
   "source": [
    "PARNET is still in development, so while different pretrained models are available,\n",
    "some of the parameters have been changed.\n",
    "\n",
    "Notably the `parnet_21m` model is missing some elements, and is thus labelled as an \"old\" model.\n",
    "\n",
    "On the other end, the newer 7 million parameters models are up-to-date with respect to the \n",
    "code in the PARNET repository.\n",
    "\n",
    "\n",
    "\n",
    "What this means is that the 7 million parameters models are likely to be usable for both \n",
    "fine-tuning and inference, while the 21 million parameters model is only usable for inference."
   ]
  },
  {
   "cell_type": "markdown",
   "id": "7634eceb",
   "metadata": {},
   "source": [
    "To help with working with any of the models, we provide a `load_model` function to load the model for inference.\n"
   ]
  },
  {
   "cell_type": "code",
   "execution_count": 17,
   "id": "fc651c6c",
   "metadata": {},
   "outputs": [
    {
     "name": "stdout",
     "output_type": "stream",
     "text": [
      "def load_parnet_model_for_prediction(\n",
      "    model_weigth_path: os.PathLike,\n",
      "    device: torch.device,\n",
      "    dtype: torch.dtype,\n",
      "    is_old_model: bool = False,\n",
      ") -> RBPNet:\n",
      "    \"\"\"Load a parnet model for prediction.\"\"\"\n",
      "    model = torch.load(\n",
      "        model_weigth_path,\n",
      "        map_location=device,\n",
      "        weights_only=False,\n",
      "    ).to(dtype)\n",
      "\n",
      "    # disable dropout for deterministic results\n",
      "    model.eval()\n",
      "\n",
      "    # Parnet is still under heavy dev. and some \"older\" models are lacking\n",
      "    # components in their architectures. For prediction it is enough to\n",
      "    # simply set these components to None.\n",
      "    if is_old_model:\n",
      "        model.projection = None\n",
      "        model.head.control_nograd = False\n",
      "\n",
      "\n",
      "    return model\n",
      "\n"
     ]
    }
   ],
   "source": [
    "print(inspect.getsource(parnet.additional_utils.load_parnet_model_for_prediction))"
   ]
  },
  {
   "cell_type": "code",
   "execution_count": null,
   "id": "b95350f4",
   "metadata": {},
   "outputs": [],
   "source": [
    "filepaths = {\n",
    "    \"parnet.21m-none\": resource_dir / \"parnet_models\" / \"parnet.21m-non.pt\",\n",
    "    \"parnet.7m-0.0\": resource_dir / \"parnet_models\" / \"parnet.7m-0.0.pt\",\n",
    "    \"parnet.7m-2.5\": resource_dir / \"parnet_models\" / \"parnet.7m-2.5.pt\",\n",
    "    \"full_rbp_set\": resource_dir / \"parnet_models\" / \"full_rbp_set.tsv\",\n",
    "}"
   ]
  },
  {
   "cell_type": "code",
   "execution_count": null,
   "id": "c0ca422e",
   "metadata": {},
   "outputs": [
    {
     "name": "stdout",
     "output_type": "stream",
     "text": [
      "Object `parnet.additional_utils.print_parnet_model_info` not found.\n"
     ]
    }
   ],
   "source": [
    "selected_parnet_model = \"parnet_7m_p0.0\"\n",
    "\n",
    "device = torch.device(\"cuda\" if torch.cuda.is_available() else \"cpu\")\n",
    "dtype = torch.float16\n",
    "filepath_selected_model = filepaths[config_models[\"models\"][selected_parnet_model][\"identifier_model_weights\"]]\n",
    "\n",
    "parnet_model = parnet.additional_utils.load_parnet_model_for_prediction(\n",
    "    model_weigth_path=filepath_selected_model,\n",
    "    device=device,\n",
    "    dtype=dtype,\n",
    "    is_old_model=config_models[\"models\"][selected_parnet_model][\"is_old_model\"],\n",
    ")\n"
   ]
  },
  {
   "cell_type": "code",
   "execution_count": 26,
   "id": "415dee7b",
   "metadata": {},
   "outputs": [
    {
     "name": "stdout",
     "output_type": "stream",
     "text": [
      "Number of trainable parameters: 7_534_815\n",
      "Available output data:  dict_keys(['target', 'control', 'total', 'mix_coeff', 'penalty_loss'])\n"
     ]
    },
    {
     "name": "stderr",
     "output_type": "stream",
     "text": [
      "/home/l10n/projects/ml4rg25-parnet/parnet_demo/.pixi/envs/parnet-demo-gpu/lib/python3.10/site-packages/torch/nn/modules/conv.py:370: UserWarning: Using padding='same' with even kernel lengths and odd dilation may require a zero-padded copy of the input be created (Triggered internally at /home/conda/feedstock_root/build_artifacts/libtorch_1730827426462/work/aten/src/ATen/native/Convolution.cpp:1036.)\n",
      "  return F.conv1d(\n"
     ]
    }
   ],
   "source": [
    "parnet.additional_utils.print_basic_info_parnet_model(\n",
    "    model=parnet_model,\n",
    "    device=device,\n",
    "    dtype=dtype,\n",
    ")"
   ]
  },
  {
   "cell_type": "code",
   "execution_count": 34,
   "id": "ac81842d",
   "metadata": {},
   "outputs": [
    {
     "data": {
      "text/html": [
       "<div>\n",
       "<style scoped>\n",
       "    .dataframe tbody tr th:only-of-type {\n",
       "        vertical-align: middle;\n",
       "    }\n",
       "\n",
       "    .dataframe tbody tr th {\n",
       "        vertical-align: top;\n",
       "    }\n",
       "\n",
       "    .dataframe thead th {\n",
       "        text-align: right;\n",
       "    }\n",
       "</style>\n",
       "<table border=\"1\" class=\"dataframe\">\n",
       "  <thead>\n",
       "    <tr style=\"text-align: right;\">\n",
       "      <th></th>\n",
       "      <th>rbp_ct</th>\n",
       "      <th>rbp</th>\n",
       "      <th>ct</th>\n",
       "    </tr>\n",
       "  </thead>\n",
       "  <tbody>\n",
       "    <tr>\n",
       "      <th>0</th>\n",
       "      <td>AARS_K562</td>\n",
       "      <td>AARS</td>\n",
       "      <td>K562</td>\n",
       "    </tr>\n",
       "    <tr>\n",
       "      <th>1</th>\n",
       "      <td>AATF_K562</td>\n",
       "      <td>AATF</td>\n",
       "      <td>K562</td>\n",
       "    </tr>\n",
       "    <tr>\n",
       "      <th>2</th>\n",
       "      <td>ABCF1_K562</td>\n",
       "      <td>ABCF1</td>\n",
       "      <td>K562</td>\n",
       "    </tr>\n",
       "    <tr>\n",
       "      <th>3</th>\n",
       "      <td>AGGF1_HepG2</td>\n",
       "      <td>AGGF1</td>\n",
       "      <td>HepG2</td>\n",
       "    </tr>\n",
       "    <tr>\n",
       "      <th>4</th>\n",
       "      <td>AGGF1_K562</td>\n",
       "      <td>AGGF1</td>\n",
       "      <td>K562</td>\n",
       "    </tr>\n",
       "    <tr>\n",
       "      <th>5</th>\n",
       "      <td>AKAP1_HepG2</td>\n",
       "      <td>AKAP1</td>\n",
       "      <td>HepG2</td>\n",
       "    </tr>\n",
       "    <tr>\n",
       "      <th>6</th>\n",
       "      <td>AKAP1_K562</td>\n",
       "      <td>AKAP1</td>\n",
       "      <td>K562</td>\n",
       "    </tr>\n",
       "    <tr>\n",
       "      <th>7</th>\n",
       "      <td>AKAP8L_K562</td>\n",
       "      <td>AKAP8L</td>\n",
       "      <td>K562</td>\n",
       "    </tr>\n",
       "    <tr>\n",
       "      <th>8</th>\n",
       "      <td>APOBEC3C_K562</td>\n",
       "      <td>APOBEC3C</td>\n",
       "      <td>K562</td>\n",
       "    </tr>\n",
       "    <tr>\n",
       "      <th>9</th>\n",
       "      <td>AQR_HepG2</td>\n",
       "      <td>AQR</td>\n",
       "      <td>HepG2</td>\n",
       "    </tr>\n",
       "  </tbody>\n",
       "</table>\n",
       "</div>"
      ],
      "text/plain": [
       "          rbp_ct       rbp     ct\n",
       "0      AARS_K562      AARS   K562\n",
       "1      AATF_K562      AATF   K562\n",
       "2     ABCF1_K562     ABCF1   K562\n",
       "3    AGGF1_HepG2     AGGF1  HepG2\n",
       "4     AGGF1_K562     AGGF1   K562\n",
       "5    AKAP1_HepG2     AKAP1  HepG2\n",
       "6     AKAP1_K562     AKAP1   K562\n",
       "7    AKAP8L_K562    AKAP8L   K562\n",
       "8  APOBEC3C_K562  APOBEC3C   K562\n",
       "9      AQR_HepG2       AQR  HepG2"
      ]
     },
     "metadata": {},
     "output_type": "display_data"
    },
    {
     "name": "stdout",
     "output_type": "stream",
     "text": [
      "Number of tracks in the table: 223\n"
     ]
    }
   ],
   "source": [
    "parnet_tracks_table = pd.read_csv(filepaths[\"full_rbp_set\"], header=0, index_col=None, sep=\"\\t\")\n",
    "display(parnet_tracks_table.head(10))\n",
    "print(\"Number of tracks in the table:\", len(parnet_tracks_table))"
   ]
  },
  {
   "cell_type": "code",
   "execution_count": 36,
   "id": "66a8cc80",
   "metadata": {},
   "outputs": [],
   "source": [
    "# NOTE: the parnet model is composed of three parts: `stem`, `body`, and `head`.\n",
    "# We can create a model that produces the embedding vectors by omitting the `head` part.\n",
    "\n",
    "parnet_model_embedding = torch.nn.Sequential(*[parnet_model.stem, parnet_model.body])\n",
    "parnet_model_embedding = parnet_model_embedding.to(device=device, dtype=dtype)\n"
   ]
  },
  {
   "cell_type": "markdown",
   "id": "14e797db",
   "metadata": {},
   "source": [
    "## Demonstration"
   ]
  },
  {
   "cell_type": "markdown",
   "id": "ca6f6eda",
   "metadata": {},
   "source": [
    "### Sequence"
   ]
  },
  {
   "cell_type": "markdown",
   "id": "d4cc6978",
   "metadata": {},
   "source": [
    "Here we build a mock sequence with the \"QKI\" motif in the center.\n",
    "\n",
    "QKI is an RBP that has a very well defined sequence motif, and usually shows very sharp\n",
    "binding profiles.\n",
    "\n",
    "NOTE: most models have been trained to predict the binding profiles over 600 nucleotides windows,\n",
    "so here we also demonstrate that the prediction task can be done over larger sequences.\n",
    "\n",
    "(and of course the sequence can be shorter than 600 nucleotides, without the need for padding)"
   ]
  },
  {
   "cell_type": "code",
   "execution_count": null,
   "id": "b911a219",
   "metadata": {},
   "outputs": [
    {
     "name": "stdout",
     "output_type": "stream",
     "text": [
      "Mock sequence length: 1010\n"
     ]
    }
   ],
   "source": [
    "# IMPORTANT: The alphabet should be \"ACGT\" even though we manipulate RNA sequences.\n",
    "\n",
    "qki_motif = \"TACTAACATT\"\n",
    "\n",
    "# Build a sequence with 500 randomly sampled nucleotides upstream and downstream of the motif.\n",
    "\n",
    "mock_sequence = (\n",
    "    random.choices(population=[\"A\", \"C\", \"G\", \"T\"], k=500)\n",
    "    + list(qki_motif)\n",
    "    + random.choices(population=[\"A\", \"C\", \"G\", \"T\"], k=500)\n",
    ")\n",
    "\n",
    "mock_sequence = \"\".join(mock_sequence)\n",
    "\n",
    "print(\"Mock sequence length:\", len(mock_sequence))"
   ]
  },
  {
   "cell_type": "markdown",
   "id": "9abd65c0",
   "metadata": {},
   "source": [
    "### Embeddings and profile predictions"
   ]
  },
  {
   "cell_type": "code",
   "execution_count": 58,
   "id": "7d330255",
   "metadata": {},
   "outputs": [],
   "source": [
    "with torch.no_grad():\n",
    "    seq_onehot = torch.stack([parnet.utils.sequence_to_onehot(mock_sequence).float()]).to(device=device, dtype=dtype)\n",
    "    embeddings = parnet_model_embedding(seq_onehot)\n",
    "    predictions = parnet_model({\"sequence\": seq_onehot})\n",
    "\n",
    "    # Apply softmax transformation if needed, as per the config file.\n",
    "    for k in config_models[\"models\"][selected_parnet_model].get(\"softmax_output\", []):\n",
    "        if k == \"mix_coeff\":\n",
    "            dim = 1\n",
    "        elif k in [\"target\", \"control\", \"total\"]:\n",
    "            dim = 2\n",
    "        else:\n",
    "            raise ValueError(f\"Unknown key {k} for softmax transformation.\")\n",
    "        predictions[k] = torch.nn.functional.softmax(predictions[k], dim=dim)\n",
    "\n",
    "    # Move back to CPU.\n",
    "    embeddings = embeddings.detach().cpu().numpy()\n",
    "    predictions = {k: v.detach().cpu().numpy() for k, v in predictions.items()}\n"
   ]
  },
  {
   "cell_type": "code",
   "execution_count": null,
   "id": "82e5495d",
   "metadata": {},
   "outputs": [
    {
     "data": {
      "text/plain": [
       "(1, 512, 1010)"
      ]
     },
     "metadata": {},
     "output_type": "display_data"
    }
   ],
   "source": [
    "# The embeddings are a numerical representation of each of the position in the sequence.\n",
    "# This can be useful for e.g. comparing the impact of a mutation on the representation of the\n",
    "# mutated position in the sequence (the higher functional impact, the more different the representation),\n",
    "# or to compare the average representation of two different sequences, e.g. two genes, or two\n",
    "# peaks of a different RBPs.\n",
    "\n",
    "# dim = N_ITEM x N_DIM x N_POSITIONS\n",
    "display(embeddings.shape)"
   ]
  },
  {
   "cell_type": "code",
   "execution_count": 40,
   "id": "9de72846",
   "metadata": {},
   "outputs": [
    {
     "data": {
      "text/plain": [
       "dict_keys(['target', 'control', 'total', 'mix_coeff', 'penalty_loss'])"
      ]
     },
     "execution_count": 40,
     "metadata": {},
     "output_type": "execute_result"
    }
   ],
   "source": [
    "predictions.keys()"
   ]
  },
  {
   "cell_type": "markdown",
   "id": "f886453a",
   "metadata": {},
   "source": [
    "Explanation of the prediction keys:\n",
    "\n",
    "- `total`: the predicted eCLIP profile, calculated as a composition of the \"cleaned\" `target` and `control` profile.\n",
    "- `control`: the predicted profile for the control \"input\" signal (corresponding to the experimental measurements where the protein was \"glued\" to the RNA, but then all RNAs sequences were sequenced, rather than retrieved only the protein-bound ones).\n",
    "- `target` : the \"cleaned\" predicted profile for the RBP binding.\n",
    "- `mix_coef` : the predicted weight associated to the `target` signal when combining the `target` and `control` profiles to get the `total` profile. The higher, the more \"high-quality\" the signal is.\n",
    "- `penalty_loss`: additional penalty parameter applied to the `mix_coef`.\n"
   ]
  },
  {
   "cell_type": "code",
   "execution_count": 44,
   "id": "1705e782",
   "metadata": {},
   "outputs": [
    {
     "data": {
      "text/plain": [
       "(1, 223, 1010)"
      ]
     },
     "execution_count": 44,
     "metadata": {},
     "output_type": "execute_result"
    }
   ],
   "source": [
    "# dim = N_ITEM x N_EXPERIMENTS x N_POSITIONS\n",
    "predictions[\"target\"].shape"
   ]
  },
  {
   "cell_type": "code",
   "execution_count": null,
   "id": "f0ade6ed",
   "metadata": {},
   "outputs": [
    {
     "name": "stdout",
     "output_type": "stream",
     "text": [
      "(1010,)\n"
     ]
    },
    {
     "data": {
      "text/plain": [
       "[<matplotlib.lines.Line2D at 0x7f9fe1aa1c30>]"
      ]
     },
     "execution_count": 63,
     "metadata": {},
     "output_type": "execute_result"
    },
    {
     "data": {
      "image/png": "[encoded data removed]",
      "text/plain": [
       "<Figure size 1200x500 with 1 Axes>"
      ]
     },
     "metadata": {},
     "output_type": "display_data"
    }
   ],
   "source": [
    "# We will plot the profile for the QKI_HepG2 experiment.\n",
    "\n",
    "row_qki_hepg2 = parnet_tracks_table.loc[lambda df: df[\"rbp_ct\"] == \"QKI_HepG2\"]\n",
    "predictions_qki_hepg2 = predictions[\"target\"][0, row_qki_hepg2.index[0], :]\n",
    "\n",
    "print(predictions_qki_hepg2.shape)\n",
    "\n",
    "\n",
    "fig = plt.figure(figsize=(12, 5))\n",
    "ax1 = fig.add_subplot(1, 1, 1)\n",
    "plt.plot(predictions_qki_hepg2, label=\"QKI_HepG2\", color=\"blue\")\n"
   ]
  }
 ],
 "metadata": {
  "kernelspec": {
   "display_name": "parnet-demo-gpu",
   "language": "python",
   "name": "python3"
  },
  "language_info": {
   "codemirror_mode": {
    "name": "ipython",
    "version": 3
   },
   "file_extension": ".py",
   "mimetype": "text/x-python",
   "name": "python",
   "nbconvert_exporter": "python",
   "pygments_lexer": "ipython3",
   "version": "3.10.18"
  }
 },
 "nbformat": 4,
 "nbformat_minor": 5
}
