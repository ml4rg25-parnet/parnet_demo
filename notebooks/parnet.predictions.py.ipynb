{
 "cells": [
  {
   "cell_type": "code",
   "execution_count": 1,
   "id": "ec654047",
   "metadata": {
    "tags": [
     "parameters"
    ]
   },
   "outputs": [],
   "source": [
    "params_notebook_name = \"parnet.predictions.py.ipynb\"\n",
    "params_resource_dir = \"../resources/\""
   ]
  },
  {
   "cell_type": "markdown",
   "id": "096a0379",
   "metadata": {},
   "source": [
    "# PARNET - predictions"
   ]
  },
  {
   "cell_type": "code",
   "execution_count": null,
   "id": "7aa21fba",
   "metadata": {},
   "outputs": [],
   "source": []
  },
  {
   "cell_type": "markdown",
   "id": "64af15ac",
   "metadata": {},
   "source": [
    "## Imports"
   ]
  },
  {
   "cell_type": "code",
   "execution_count": 196,
   "id": "c523168b",
   "metadata": {},
   "outputs": [],
   "source": [
    "import functools\n",
    "import inspect\n",
    "import os\n",
    "import random\n",
    "import sys\n",
    "from pathlib import Path\n",
    "\n",
    "import h5py\n",
    "import logomaker as lm\n",
    "import numpy as np\n",
    "import pandas as pd\n",
    "import parnet\n",
    "import parnet.additional_utils\n",
    "import parnet.utils\n",
    "import torch\n",
    "import yaml\n",
    "from captum.attr import DeepLift, FeatureAblation, GradientShap, IntegratedGradients, NoiseTunnel\n",
    "from dotenv import find_dotenv, load_dotenv"
   ]
  },
  {
   "cell_type": "code",
   "execution_count": 3,
   "id": "b6aab745",
   "metadata": {},
   "outputs": [],
   "source": [
    "import matplotlib as mpl\n",
    "import matplotlib.pyplot as plt\n",
    "import seaborn as sns"
   ]
  },
  {
   "cell_type": "code",
   "execution_count": 4,
   "id": "5729c34b",
   "metadata": {},
   "outputs": [
    {
     "name": "stdout",
     "output_type": "stream",
     "text": [
      "Confirmed CWD: /home/l10n/projects/ml4rg25-parnet/parnet_demo/notebooks contains expected file: parnet.predictions.py.ipynb\n",
      "/home/l10n/projects/ml4rg25-parnet/parnet_demo/notebooks\n"
     ]
    }
   ],
   "source": [
    "def assert_notebook_working_dir(expected_local_file: os.PathLike) -> Path:\n",
    "    \"\"\"Assert or try updating the current working directory to where the notebook is located, to enable relative paths references.\n",
    "\n",
    "    This function is used in a set-up where notebooks are contained within a project\n",
    "    directory structure in which we want to reference filepaths relative to the notebook.\n",
    "    e.g. \"../src\" or \"../resources\" should be accessible if the notebook is in\n",
    "    \"../notebooks/<notebook_name>.ipynb\".\n",
    "\n",
    "    The function first check the filepath of the expected local file relative\n",
    "    to the current working directory.\n",
    "\n",
    "    If not found, the function will try to use the VSCode Jupyter variable `__vsc_ipynb_file__`\n",
    "    which should report the path of the notebook file being executed.\n",
    "\n",
    "    It then checks if the expected local file exists, relative to the new working directory.\n",
    "\n",
    "\n",
    "    Args:\n",
    "        expected_local_file (os.PathLike): The expected local file to check for in the current working directory.\n",
    "            This can be the name of the notebook file.\n",
    "\n",
    "    Raises:\n",
    "        KeyError: if the `__vsc_ipynb_file__` variable is not found in the global scope, while the first CWD check failed.\n",
    "        FileNotFoundError: if the expected local file is not found in the current working directory after attempting to change it.\n",
    "    \"\"\"\n",
    "    import os\n",
    "    from pathlib import Path\n",
    "\n",
    "    cwd = Path(os.getcwd())\n",
    "    expected_local_filepath = cwd / expected_local_file\n",
    "\n",
    "    if not expected_local_filepath.exists():\n",
    "        if \"__vsc_ipynb_file__\" not in globals():\n",
    "            raise KeyError(\n",
    "                f\"Detected CWD: {cwd} ; CWD does not contain expected file, but cannot use __vsc_ipynb_file__ to recover.\"\n",
    "            )\n",
    "        else:\n",
    "            os.chdir(Path(globals()[\"__vsc_ipynb_file__\"]).parent)\n",
    "            cwd = Path(os.getcwd())\n",
    "            print(f\"Changed CWD to {cwd}\")\n",
    "\n",
    "            expected_local_filepath = cwd / expected_local_file\n",
    "            if not expected_local_filepath.exists():\n",
    "                raise FileNotFoundError(\n",
    "                    f\"Updated (using __vsc_ipynb_file__) CWD: {cwd} ; CWD does not contain expected file.\"\n",
    "                )\n",
    "\n",
    "            return cwd\n",
    "    else:\n",
    "        print(f\"Confirmed CWD: {cwd} contains expected file: {expected_local_file}\")\n",
    "        return cwd\n",
    "\n",
    "\n",
    "expected_local_file: str = params_notebook_name\n",
    "cwd = assert_notebook_working_dir(expected_local_file=expected_local_file)\n",
    "print(cwd)"
   ]
  },
  {
   "cell_type": "markdown",
   "id": "c3ebe436",
   "metadata": {},
   "source": [
    "## Initialization"
   ]
  },
  {
   "cell_type": "code",
   "execution_count": 5,
   "id": "3635a511",
   "metadata": {},
   "outputs": [
    {
     "data": {
      "text/plain": [
       "False"
      ]
     },
     "execution_count": 5,
     "metadata": {},
     "output_type": "execute_result"
    }
   ],
   "source": [
    "# Env variables, defined in the `.env` file at the root of the project directory.\n",
    "load_dotenv(find_dotenv(), override=True)"
   ]
  },
  {
   "cell_type": "code",
   "execution_count": 6,
   "id": "cd901f56",
   "metadata": {},
   "outputs": [
    {
     "name": "stdout",
     "output_type": "stream",
     "text": [
      "Using resources from: ../resources\n"
     ]
    }
   ],
   "source": [
    "resource_dir = Path(params_resource_dir)\n",
    "if not resource_dir.exists():\n",
    "    raise FileNotFoundError(\"Resource directory does not exist: \" + str(resource_dir))\n",
    "\n",
    "print(\"Using resources from:\", resource_dir)"
   ]
  },
  {
   "cell_type": "markdown",
   "id": "38745093",
   "metadata": {},
   "source": [
    "## Load"
   ]
  },
  {
   "cell_type": "code",
   "execution_count": 7,
   "id": "6884baec",
   "metadata": {},
   "outputs": [
    {
     "data": {
      "text/plain": [
       "{'parnet_21m': {'blob_metadata': '21M parameters, 2024-11-26',\n",
       "  'is_old_model': True,\n",
       "  'is_penalized': False,\n",
       "  'identifier_model_weights': 'parnet.21m-none',\n",
       "  'identifier_table_of_tasks': 'full_rbp_set'},\n",
       " 'parnet_7m_p0.0': {'blob_metadata': 'penalized model, 7M parameters, 2025-01-10 ; official Github distribution parnet v0.3.0',\n",
       "  'is_old_model': False,\n",
       "  'is_penalized': True,\n",
       "  'penalty': 0.0,\n",
       "  'softmax_output': ['total', 'target', 'control'],\n",
       "  'identifier_model_weights': 'parnet.7m-0.0',\n",
       "  'identifier_table_of_tasks': 'full_rbp_set'},\n",
       " 'parnet_7m_p2.5': {'blob_metadata': 'penalized model, 7M parameters, penalty of 2.5, 2025-01-10',\n",
       "  'is_old_model': False,\n",
       "  'is_penalized': True,\n",
       "  'penalty': 2.5,\n",
       "  'softmax_output': ['total', 'target', 'control'],\n",
       "  'path_model_weights': 'parnet.7m-p2.5',\n",
       "  'path_table_of_tasks': 'full_rbp_set'}}"
      ]
     },
     "metadata": {},
     "output_type": "display_data"
    }
   ],
   "source": [
    "with open(resource_dir / \"parnet_models\" / \"config.parnet_models.yaml\") as f:\n",
    "    config_models = yaml.safe_load(f)\n",
    "\n",
    "display(config_models[\"models\"])"
   ]
  },
  {
   "cell_type": "markdown",
   "id": "204491a7",
   "metadata": {},
   "source": [
    "PARNET is still in development, so while different pretrained models are available,\n",
    "some of the parameters have been changed.\n",
    "\n",
    "Notably the `parnet_21m` model is missing some elements, and is thus labelled as an \"old\" model.\n",
    "\n",
    "On the other end, the newer 7 million parameters models are up-to-date with respect to the \n",
    "code in the PARNET repository.\n",
    "\n",
    "\n",
    "\n",
    "What this means is that the 7 million parameters models are likely to be usable for both \n",
    "fine-tuning and inference, while the 21 million parameters model is only usable for inference."
   ]
  },
  {
   "cell_type": "markdown",
   "id": "7634eceb",
   "metadata": {},
   "source": [
    "To help with working with any of the models, we provide a `load_model` function to load the model for inference.\n"
   ]
  },
  {
   "cell_type": "code",
   "execution_count": 8,
   "id": "fc651c6c",
   "metadata": {},
   "outputs": [
    {
     "name": "stdout",
     "output_type": "stream",
     "text": [
      "def load_parnet_model_for_prediction(\n",
      "    model_weigth_path: os.PathLike,\n",
      "    device: torch.device,\n",
      "    dtype: torch.dtype,\n",
      "    is_old_model: bool = False,\n",
      ") -> RBPNet:\n",
      "    \"\"\"Load a parnet model for prediction.\"\"\"\n",
      "    model = torch.load(\n",
      "        model_weigth_path,\n",
      "        map_location=device,\n",
      "        weights_only=False,\n",
      "    ).to(dtype)\n",
      "\n",
      "    # disable dropout for deterministic results\n",
      "    model.eval()\n",
      "\n",
      "    # Parnet is still under heavy dev. and some \"older\" models are lacking\n",
      "    # components in their architectures. For prediction it is enough to\n",
      "    # simply set these components to None.\n",
      "    if is_old_model:\n",
      "        model.projection = None\n",
      "        model.head.control_nograd = False\n",
      "\n",
      "\n",
      "    return model\n",
      "\n"
     ]
    }
   ],
   "source": [
    "print(inspect.getsource(parnet.additional_utils.load_parnet_model_for_prediction))"
   ]
  },
  {
   "cell_type": "code",
   "execution_count": 9,
   "id": "b95350f4",
   "metadata": {},
   "outputs": [],
   "source": [
    "filepaths = {\n",
    "    \"parnet.21m-none\": resource_dir / \"parnet_models\" / \"parnet.21m-non.pt\",\n",
    "    \"parnet.7m-0.0\": resource_dir / \"parnet_models\" / \"parnet.7m-0.0.pt\",\n",
    "    \"parnet.7m-2.5\": resource_dir / \"parnet_models\" / \"parnet.7m-2.5.pt\",\n",
    "    \"full_rbp_set\": resource_dir / \"parnet_models\" / \"full_rbp_set.tsv\",\n",
    "}"
   ]
  },
  {
   "cell_type": "code",
   "execution_count": 229,
   "id": "c0ca422e",
   "metadata": {},
   "outputs": [],
   "source": [
    "selected_parnet_model = \"parnet_7m_p0.0\"\n",
    "\n",
    "device = torch.device(\"cuda\" if torch.cuda.is_available() else \"cpu\")\n",
    "dtype = torch.float16\n",
    "filepath_selected_model = filepaths[config_models[\"models\"][selected_parnet_model][\"identifier_model_weights\"]]\n",
    "\n",
    "parnet_model = parnet.additional_utils.load_parnet_model_for_prediction(\n",
    "    model_weigth_path=filepath_selected_model,\n",
    "    device=device,\n",
    "    dtype=dtype,\n",
    "    is_old_model=config_models[\"models\"][selected_parnet_model][\"is_old_model\"],\n",
    ")\n"
   ]
  },
  {
   "cell_type": "code",
   "execution_count": 11,
   "id": "415dee7b",
   "metadata": {},
   "outputs": [
    {
     "name": "stdout",
     "output_type": "stream",
     "text": [
      "Number of trainable parameters: 7_534_815\n",
      "Available output data:  dict_keys(['target', 'control', 'total', 'mix_coeff', 'penalty_loss'])\n"
     ]
    },
    {
     "name": "stderr",
     "output_type": "stream",
     "text": [
      "/home/l10n/projects/ml4rg25-parnet/parnet_demo/.pixi/envs/parnet-demo-gpu/lib/python3.10/site-packages/torch/nn/modules/conv.py:370: UserWarning: Using padding='same' with even kernel lengths and odd dilation may require a zero-padded copy of the input be created (Triggered internally at /home/conda/feedstock_root/build_artifacts/libtorch_1730827426462/work/aten/src/ATen/native/Convolution.cpp:1036.)\n",
      "  return F.conv1d(\n"
     ]
    }
   ],
   "source": [
    "parnet.additional_utils.print_basic_info_parnet_model(\n",
    "    model=parnet_model,\n",
    "    device=device,\n",
    "    dtype=dtype,\n",
    ")"
   ]
  },
  {
   "cell_type": "code",
   "execution_count": 12,
   "id": "ac81842d",
   "metadata": {},
   "outputs": [
    {
     "data": {
      "text/html": [
       "<div>\n",
       "<style scoped>\n",
       "    .dataframe tbody tr th:only-of-type {\n",
       "        vertical-align: middle;\n",
       "    }\n",
       "\n",
       "    .dataframe tbody tr th {\n",
       "        vertical-align: top;\n",
       "    }\n",
       "\n",
       "    .dataframe thead th {\n",
       "        text-align: right;\n",
       "    }\n",
       "</style>\n",
       "<table border=\"1\" class=\"dataframe\">\n",
       "  <thead>\n",
       "    <tr style=\"text-align: right;\">\n",
       "      <th></th>\n",
       "      <th>rbp_ct</th>\n",
       "      <th>rbp</th>\n",
       "      <th>ct</th>\n",
       "    </tr>\n",
       "  </thead>\n",
       "  <tbody>\n",
       "    <tr>\n",
       "      <th>0</th>\n",
       "      <td>AARS_K562</td>\n",
       "      <td>AARS</td>\n",
       "      <td>K562</td>\n",
       "    </tr>\n",
       "    <tr>\n",
       "      <th>1</th>\n",
       "      <td>AATF_K562</td>\n",
       "      <td>AATF</td>\n",
       "      <td>K562</td>\n",
       "    </tr>\n",
       "    <tr>\n",
       "      <th>2</th>\n",
       "      <td>ABCF1_K562</td>\n",
       "      <td>ABCF1</td>\n",
       "      <td>K562</td>\n",
       "    </tr>\n",
       "    <tr>\n",
       "      <th>3</th>\n",
       "      <td>AGGF1_HepG2</td>\n",
       "      <td>AGGF1</td>\n",
       "      <td>HepG2</td>\n",
       "    </tr>\n",
       "    <tr>\n",
       "      <th>4</th>\n",
       "      <td>AGGF1_K562</td>\n",
       "      <td>AGGF1</td>\n",
       "      <td>K562</td>\n",
       "    </tr>\n",
       "    <tr>\n",
       "      <th>5</th>\n",
       "      <td>AKAP1_HepG2</td>\n",
       "      <td>AKAP1</td>\n",
       "      <td>HepG2</td>\n",
       "    </tr>\n",
       "    <tr>\n",
       "      <th>6</th>\n",
       "      <td>AKAP1_K562</td>\n",
       "      <td>AKAP1</td>\n",
       "      <td>K562</td>\n",
       "    </tr>\n",
       "    <tr>\n",
       "      <th>7</th>\n",
       "      <td>AKAP8L_K562</td>\n",
       "      <td>AKAP8L</td>\n",
       "      <td>K562</td>\n",
       "    </tr>\n",
       "    <tr>\n",
       "      <th>8</th>\n",
       "      <td>APOBEC3C_K562</td>\n",
       "      <td>APOBEC3C</td>\n",
       "      <td>K562</td>\n",
       "    </tr>\n",
       "    <tr>\n",
       "      <th>9</th>\n",
       "      <td>AQR_HepG2</td>\n",
       "      <td>AQR</td>\n",
       "      <td>HepG2</td>\n",
       "    </tr>\n",
       "  </tbody>\n",
       "</table>\n",
       "</div>"
      ],
      "text/plain": [
       "          rbp_ct       rbp     ct\n",
       "0      AARS_K562      AARS   K562\n",
       "1      AATF_K562      AATF   K562\n",
       "2     ABCF1_K562     ABCF1   K562\n",
       "3    AGGF1_HepG2     AGGF1  HepG2\n",
       "4     AGGF1_K562     AGGF1   K562\n",
       "5    AKAP1_HepG2     AKAP1  HepG2\n",
       "6     AKAP1_K562     AKAP1   K562\n",
       "7    AKAP8L_K562    AKAP8L   K562\n",
       "8  APOBEC3C_K562  APOBEC3C   K562\n",
       "9      AQR_HepG2       AQR  HepG2"
      ]
     },
     "metadata": {},
     "output_type": "display_data"
    },
    {
     "name": "stdout",
     "output_type": "stream",
     "text": [
      "Number of tracks in the table: 223\n"
     ]
    }
   ],
   "source": [
    "parnet_tracks_table = pd.read_csv(filepaths[\"full_rbp_set\"], header=0, index_col=None, sep=\"\\t\")\n",
    "display(parnet_tracks_table.head(10))\n",
    "print(\"Number of tracks in the table:\", len(parnet_tracks_table))"
   ]
  },
  {
   "cell_type": "code",
   "execution_count": 13,
   "id": "66a8cc80",
   "metadata": {},
   "outputs": [],
   "source": [
    "# NOTE: the parnet model is composed of three parts: `stem`, `body`, and `head`.\n",
    "# We can create a model that produces the embedding vectors by omitting the `head` part.\n",
    "\n",
    "parnet_model_embedding = torch.nn.Sequential(*[parnet_model.stem, parnet_model.body])\n",
    "parnet_model_embedding = parnet_model_embedding.to(device=device, dtype=dtype)\n"
   ]
  },
  {
   "cell_type": "markdown",
   "id": "14e797db",
   "metadata": {},
   "source": [
    "## Demonstration"
   ]
  },
  {
   "cell_type": "markdown",
   "id": "ca6f6eda",
   "metadata": {},
   "source": [
    "### Sequence"
   ]
  },
  {
   "cell_type": "markdown",
   "id": "d4cc6978",
   "metadata": {},
   "source": [
    "Here we build a mock sequence with the \"QKI\" motif in the center.\n",
    "\n",
    "QKI is an RBP that has a very well defined sequence motif, and usually shows very sharp\n",
    "binding profiles.\n",
    "\n",
    "NOTE: most models have been trained to predict the binding profiles over 600 nucleotides windows,\n",
    "so here we also demonstrate that the prediction task can be done over larger sequences.\n",
    "\n",
    "(and of course the sequence can be shorter than 600 nucleotides, without the need for padding)"
   ]
  },
  {
   "cell_type": "code",
   "execution_count": 96,
   "id": "b911a219",
   "metadata": {},
   "outputs": [
    {
     "name": "stdout",
     "output_type": "stream",
     "text": [
      "Mock sequence length: 1010\n"
     ]
    }
   ],
   "source": [
    "# IMPORTANT: The alphabet should be \"ACGT\" even though we manipulate RNA sequences.\n",
    "\n",
    "known_motif = \"TACTAACATT\"\n",
    "\n",
    "# Build a sequence with 500 randomly sampled nucleotides upstream and downstream of the motif.\n",
    "\n",
    "# mock_sequence = (\n",
    "#    random.choices(population=[\"A\", \"C\", \"G\", \"T\"], k=500)\n",
    "#    + list(qki_motif)\n",
    "#    + random.choices(population=[\"A\", \"C\", \"G\", \"T\"], k=500)\n",
    "# )\n",
    "# mock_sequence = \"\".join(mock_sequence)\n",
    "\n",
    "# Simplify even more: only \"A\" before and after the qki_motif\n",
    "mock_sequence = \"A\" * 500 + known_motif + \"A\" * 500\n",
    "\n",
    "\n",
    "print(\"Mock sequence length:\", len(mock_sequence))"
   ]
  },
  {
   "cell_type": "markdown",
   "id": "c2c80c4d",
   "metadata": {},
   "source": [
    "### Embeddings"
   ]
  },
  {
   "cell_type": "code",
   "execution_count": 97,
   "id": "4941ff31",
   "metadata": {},
   "outputs": [],
   "source": [
    "with torch.no_grad():\n",
    "    seq_onehot = torch.stack([parnet.utils.sequence_to_onehot(mock_sequence).float()]).to(device=device, dtype=dtype)\n",
    "    embeddings = parnet_model_embedding(seq_onehot)\n",
    "\n",
    "    # Move back to CPU.\n",
    "    embeddings = embeddings.detach().cpu().numpy()"
   ]
  },
  {
   "cell_type": "code",
   "execution_count": 98,
   "id": "142e3a2b",
   "metadata": {},
   "outputs": [
    {
     "data": {
      "text/plain": [
       "(1, 512, 1010)"
      ]
     },
     "metadata": {},
     "output_type": "display_data"
    }
   ],
   "source": [
    "# The embeddings are a numerical representation of each of the position in the sequence.\n",
    "# This can be useful for e.g. comparing the impact of a mutation on the representation of the\n",
    "# mutated position in the sequence (the higher functional impact, the more different the representation),\n",
    "# or to compare the average representation of two different sequences, e.g. two genes, or two\n",
    "# peaks of a different RBPs.\n",
    "\n",
    "# dim = N_ITEM x N_DIM x N_POSITIONS\n",
    "display(embeddings.shape)"
   ]
  },
  {
   "cell_type": "markdown",
   "id": "3d35817b",
   "metadata": {},
   "source": [
    "Embeddings are the numerical features that the model has learned to represent the sequence.\n",
    "\n",
    "They can be used for downstream tasks such as clustering, visualization, or as input features for other models.\n",
    "\n",
    "They can also be used directly to explore the sequence space, comparing the embeddings of different sequences.\n",
    "\n",
    "Hereafter we demonstrate this by inducing mutations in the sequence, and observing how the embeddings change,\n",
    "through the cosine similarity."
   ]
  },
  {
   "cell_type": "code",
   "execution_count": 99,
   "id": "258ca418",
   "metadata": {},
   "outputs": [
    {
     "name": "stdout",
     "output_type": "stream",
     "text": [
      "(1, 512, 1010)\n"
     ]
    }
   ],
   "source": [
    "# Here: we mutate the sequence by replacing the central nucleotide with its complement.\n",
    "\n",
    "complement_nucleotide = {\n",
    "    \"A\": \"T\",\n",
    "    \"C\": \"G\",\n",
    "    \"G\": \"C\",\n",
    "    \"T\": \"A\",\n",
    "}\n",
    "\n",
    "mutated_sequence = list(mock_sequence)\n",
    "mutated_sequence[len(mutated_sequence) // 2] = complement_nucleotide[mutated_sequence[len(mutated_sequence) // 2]]\n",
    "mutated_sequence = \"\".join(mutated_sequence)\n",
    "\n",
    "with torch.no_grad():\n",
    "    seq_onehot = torch.stack([parnet.utils.sequence_to_onehot(mutated_sequence).float()]).to(device=device, dtype=dtype)\n",
    "    mut_embeddings = parnet_model_embedding(seq_onehot)\n",
    "\n",
    "    # Move back to CPU.\n",
    "    mut_embeddings = mut_embeddings.detach().cpu().numpy()\n",
    "\n",
    "print(mut_embeddings.shape)\n"
   ]
  },
  {
   "cell_type": "code",
   "execution_count": 100,
   "id": "25935897",
   "metadata": {},
   "outputs": [
    {
     "data": {
      "text/plain": [
       "[<matplotlib.lines.Line2D at 0x7f5c37dae980>]"
      ]
     },
     "execution_count": 100,
     "metadata": {},
     "output_type": "execute_result"
    },
    {
     "data": {
      "image/png": "[encoded data removed]",
      "text/plain": [
       "<Figure size 640x480 with 1 Axes>"
      ]
     },
     "metadata": {},
     "output_type": "display_data"
    }
   ],
   "source": [
    "# We can now calculate the cosine similarity between the original and mutated embeddings at each position.\n",
    "# This can be interpreted as a measure of how much the mutation has changed the representation of the sequence at each position.\n",
    "\n",
    "per_pos_cosinesim = torch.nn.functional.cosine_similarity(\n",
    "    torch.Tensor(embeddings[0, :, :]), torch.Tensor(mut_embeddings[0, :, :]), dim=0\n",
    ")\n",
    "\n",
    "# This should show a great decrease at the central position, representing that the numerical representation of the\n",
    "# mutation has changed significantly.\n",
    "\n",
    "plt.plot(\n",
    "    per_pos_cosinesim,\n",
    "    label=\"Cosine similarity between original and mutated embeddings\",\n",
    "    color=\"blue\",\n",
    ")\n"
   ]
  },
  {
   "cell_type": "markdown",
   "id": "9abd65c0",
   "metadata": {},
   "source": [
    "### Profile predictions"
   ]
  },
  {
   "cell_type": "code",
   "execution_count": 101,
   "id": "7d330255",
   "metadata": {},
   "outputs": [],
   "source": [
    "with torch.no_grad():\n",
    "    seq_onehot = torch.stack([parnet.utils.sequence_to_onehot(mock_sequence).float()]).to(device=device, dtype=dtype)\n",
    "    predictions = parnet_model({\"sequence\": seq_onehot})\n",
    "\n",
    "    # Apply softmax transformation if needed, as per the config file.\n",
    "    for k in config_models[\"models\"][selected_parnet_model].get(\"softmax_output\", []):\n",
    "        if k == \"mix_coeff\":\n",
    "            dim = 1\n",
    "        elif k in [\"target\", \"control\", \"total\"]:\n",
    "            dim = 2\n",
    "        else:\n",
    "            raise ValueError(f\"Unknown key {k} for softmax transformation.\")\n",
    "        predictions[k] = torch.nn.functional.softmax(predictions[k], dim=dim)\n",
    "\n",
    "    # Move back to CPU.\n",
    "    predictions = {k: v.detach().cpu().numpy() for k, v in predictions.items()}\n"
   ]
  },
  {
   "cell_type": "code",
   "execution_count": 102,
   "id": "9de72846",
   "metadata": {},
   "outputs": [
    {
     "data": {
      "text/plain": [
       "dict_keys(['target', 'control', 'total', 'mix_coeff', 'penalty_loss'])"
      ]
     },
     "execution_count": 102,
     "metadata": {},
     "output_type": "execute_result"
    }
   ],
   "source": [
    "predictions.keys()"
   ]
  },
  {
   "cell_type": "markdown",
   "id": "f886453a",
   "metadata": {},
   "source": [
    "Explanation of the prediction keys:\n",
    "\n",
    "- `total`: the predicted eCLIP profile, calculated as a composition of the \"cleaned\" `target` and `control` profile.\n",
    "- `control`: the predicted profile for the control \"input\" signal (corresponding to the experimental measurements where the protein was \"glued\" to the RNA, but then all RNAs sequences were sequenced, rather than retrieved only the protein-bound ones).\n",
    "- `target` : the \"cleaned\" predicted profile for the RBP binding.\n",
    "- `mix_coef` : the predicted weight associated to the `target` signal when combining the `target` and `control` profiles to get the `total` profile. The higher, the more \"high-quality\" the signal is.\n",
    "- `penalty_loss`: additional penalty parameter applied to the `mix_coef`.\n"
   ]
  },
  {
   "cell_type": "code",
   "execution_count": 103,
   "id": "1705e782",
   "metadata": {},
   "outputs": [
    {
     "data": {
      "text/plain": [
       "(1, 223, 1010)"
      ]
     },
     "execution_count": 103,
     "metadata": {},
     "output_type": "execute_result"
    }
   ],
   "source": [
    "# dim = N_ITEM x N_EXPERIMENTS x N_POSITIONS\n",
    "predictions[\"target\"].shape"
   ]
  },
  {
   "cell_type": "code",
   "execution_count": 122,
   "id": "f0ade6ed",
   "metadata": {},
   "outputs": [
    {
     "name": "stdout",
     "output_type": "stream",
     "text": [
      "(1010,)\n"
     ]
    },
    {
     "data": {
      "image/png": "[encoded data removed]",
      "text/plain": [
       "<Figure size 1200x500 with 2 Axes>"
      ]
     },
     "metadata": {},
     "output_type": "display_data"
    }
   ],
   "source": [
    "# We will plot the profile for the QKI_HepG2 experiment.\n",
    "\n",
    "# First: retrieve the index of the QKI_HepG2 experiment.\n",
    "candidate_rbp_ct = \"QKI_HepG2\"\n",
    "selected_track = \"target\"\n",
    "\n",
    "index_predictions_candidate_rbp_ct = parnet_tracks_table.loc[lambda df: df[\"rbp_ct\"] == candidate_rbp_ct].index[0]\n",
    "\n",
    "# Now: extract the prediction profile for the QKI_HepG2 experiment.\n",
    "# Here: we extract the \"cleaned\" `target` profile.\n",
    "predictions_selected = predictions[selected_track][0, index_predictions_candidate_rbp_ct, :]\n",
    "\n",
    "print(predictions_selected.shape)\n",
    "\n",
    "fig = plt.figure(figsize=(12, 5))\n",
    "ax1 = fig.add_subplot(2, 1, 1)\n",
    "ax1.plot(predictions_selected, label=candidate_rbp_ct, color=\"blue\")\n",
    "ax1.set_ylabel(\"Probability Density Function\")\n",
    "\n",
    "ax2 = fig.add_subplot(2, 1, 2, sharex=ax1)\n",
    "\n",
    "ax2.plot(predictions_selected[10:-10], label=candidate_rbp_ct, color=\"blue\")\n",
    "ax2.set_ylabel(\"Probability Density Function\")\n",
    "\n",
    "plt.suptitle(f\"{candidate_rbp_ct} profile predictions ({selected_track})\", y=1.02)\n",
    "\n",
    "plt.tight_layout(rect=[0, 0, 1, 0.98])\n"
   ]
  },
  {
   "cell_type": "markdown",
   "id": "ebc3a1f3",
   "metadata": {},
   "source": [
    "NOTE: as seen above, some profiles show \"border effects\" at the beginning or the end of any sequence.\n",
    "\n",
    "So for interpretation, you could decide to ignore the first and last 10% of nucleotides in the profiles."
   ]
  },
  {
   "cell_type": "markdown",
   "id": "9ea9fa1d",
   "metadata": {},
   "source": [
    "### Feature importance - from the profile"
   ]
  },
  {
   "cell_type": "code",
   "execution_count": null,
   "id": "416cda6a",
   "metadata": {},
   "outputs": [
    {
     "data": {
      "text/html": [
       "<div>\n",
       "<style scoped>\n",
       "    .dataframe tbody tr th:only-of-type {\n",
       "        vertical-align: middle;\n",
       "    }\n",
       "\n",
       "    .dataframe tbody tr th {\n",
       "        vertical-align: top;\n",
       "    }\n",
       "\n",
       "    .dataframe thead th {\n",
       "        text-align: right;\n",
       "    }\n",
       "</style>\n",
       "<table border=\"1\" class=\"dataframe\">\n",
       "  <thead>\n",
       "    <tr style=\"text-align: right;\">\n",
       "      <th></th>\n",
       "      <th>A</th>\n",
       "      <th>C</th>\n",
       "      <th>G</th>\n",
       "      <th>T</th>\n",
       "    </tr>\n",
       "  </thead>\n",
       "  <tbody>\n",
       "    <tr>\n",
       "      <th>0</th>\n",
       "      <td>0.000310</td>\n",
       "      <td>0.0</td>\n",
       "      <td>0</td>\n",
       "      <td>0.0</td>\n",
       "    </tr>\n",
       "    <tr>\n",
       "      <th>1</th>\n",
       "      <td>0.000421</td>\n",
       "      <td>0.0</td>\n",
       "      <td>0</td>\n",
       "      <td>0.0</td>\n",
       "    </tr>\n",
       "    <tr>\n",
       "      <th>2</th>\n",
       "      <td>0.000647</td>\n",
       "      <td>0.0</td>\n",
       "      <td>0</td>\n",
       "      <td>0.0</td>\n",
       "    </tr>\n",
       "    <tr>\n",
       "      <th>3</th>\n",
       "      <td>0.000716</td>\n",
       "      <td>0.0</td>\n",
       "      <td>0</td>\n",
       "      <td>0.0</td>\n",
       "    </tr>\n",
       "    <tr>\n",
       "      <th>4</th>\n",
       "      <td>0.000684</td>\n",
       "      <td>0.0</td>\n",
       "      <td>0</td>\n",
       "      <td>0.0</td>\n",
       "    </tr>\n",
       "    <tr>\n",
       "      <th>5</th>\n",
       "      <td>0.000528</td>\n",
       "      <td>0.0</td>\n",
       "      <td>0</td>\n",
       "      <td>0.0</td>\n",
       "    </tr>\n",
       "    <tr>\n",
       "      <th>6</th>\n",
       "      <td>0.000485</td>\n",
       "      <td>0.0</td>\n",
       "      <td>0</td>\n",
       "      <td>0.0</td>\n",
       "    </tr>\n",
       "    <tr>\n",
       "      <th>7</th>\n",
       "      <td>0.000514</td>\n",
       "      <td>0.0</td>\n",
       "      <td>0</td>\n",
       "      <td>0.0</td>\n",
       "    </tr>\n",
       "    <tr>\n",
       "      <th>8</th>\n",
       "      <td>0.000487</td>\n",
       "      <td>0.0</td>\n",
       "      <td>0</td>\n",
       "      <td>0.0</td>\n",
       "    </tr>\n",
       "    <tr>\n",
       "      <th>9</th>\n",
       "      <td>0.000423</td>\n",
       "      <td>0.0</td>\n",
       "      <td>0</td>\n",
       "      <td>0.0</td>\n",
       "    </tr>\n",
       "  </tbody>\n",
       "</table>\n",
       "</div>"
      ],
      "text/plain": [
       "          A    C  G    T\n",
       "0  0.000310  0.0  0  0.0\n",
       "1  0.000421  0.0  0  0.0\n",
       "2  0.000647  0.0  0  0.0\n",
       "3  0.000716  0.0  0  0.0\n",
       "4  0.000684  0.0  0  0.0\n",
       "5  0.000528  0.0  0  0.0\n",
       "6  0.000485  0.0  0  0.0\n",
       "7  0.000514  0.0  0  0.0\n",
       "8  0.000487  0.0  0  0.0\n",
       "9  0.000423  0.0  0  0.0"
      ]
     },
     "metadata": {},
     "output_type": "display_data"
    }
   ],
   "source": [
    "feature_importance_df = pd.get_dummies(list(mock_sequence)).astype(int)\n",
    "feature_importance_df = feature_importance_df * predictions_selected[:, None]\n",
    "\n",
    "for base in [\"A\", \"C\", \"G\", \"T\"]:\n",
    "    if base not in feature_importance_df.columns:\n",
    "        feature_importance_df[base] = 0\n",
    "feature_importance_df = feature_importance_df.loc[:, [\"A\", \"C\", \"G\", \"T\"]].replace(np.nan, 0)\n",
    "\n",
    "display(feature_importance_df.head(10))"
   ]
  },
  {
   "cell_type": "code",
   "execution_count": null,
   "id": "6d824a3f",
   "metadata": {},
   "outputs": [
    {
     "data": {
      "image/png": "[encoded data removed]",
      "text/plain": [
       "<Figure size 1000x250 with 1 Axes>"
      ]
     },
     "metadata": {},
     "output_type": "display_data"
    }
   ],
   "source": [
    "center_pos = len(mock_sequence) // 2\n",
    "start = center_pos - 50\n",
    "end = center_pos + 50\n",
    "\n",
    "nn_logo = lm.Logo(feature_importance_df.iloc[start:end, :])"
   ]
  },
  {
   "cell_type": "markdown",
   "id": "b1699c37",
   "metadata": {},
   "source": [
    "### Feature importance - using Captum"
   ]
  },
  {
   "cell_type": "markdown",
   "id": "82264bdb",
   "metadata": {},
   "source": [
    "NOTE: here using the `IntegratedGradients` method from Captum, but you can check NoiseTunnel, DeepLift, GradientShap, or FeatureAblation."
   ]
  },
  {
   "cell_type": "code",
   "execution_count": 233,
   "id": "ea10bc86",
   "metadata": {},
   "outputs": [],
   "source": [
    "def model_wrapper(\n",
    "    input_tensor: torch.Tensor,\n",
    "    model: torch.nn.Module,\n",
    "    task_index: int,\n",
    "    output_key: str = \"target\",\n",
    "    softmax_output: bool = True,\n",
    "    softmax_output_dim: int = 2,\n",
    ") -> torch.Tensor:\n",
    "    input_dict = {\"sequence\": input_tensor}\n",
    "\n",
    "    outputs = model(input_dict)\n",
    "    outputs_elem = outputs[output_key]\n",
    "    if softmax_output:\n",
    "        dim = softmax_output_dim\n",
    "        outputs_elem = torch.nn.functional.softmax(outputs_elem, dim=dim)\n",
    "\n",
    "    return outputs_elem[:, task_index, :]\n"
   ]
  },
  {
   "cell_type": "code",
   "execution_count": 242,
   "id": "2222429b",
   "metadata": {},
   "outputs": [
    {
     "name": "stdout",
     "output_type": "stream",
     "text": [
      "0\n",
      "200\n",
      "400\n",
      "600\n",
      "800\n",
      "1000\n",
      "attributions_all.shape=torch.Size([1010, 1, 4, 1010])\n"
     ]
    }
   ],
   "source": [
    "# NOTE: using float16 seems to fail for some methods???\n",
    "dtype = torch.float16\n",
    "\n",
    "\n",
    "parametrized_model_wrapper = functools.partial(\n",
    "    model_wrapper,\n",
    "    model=parnet_model.to(device=device, dtype=dtype),\n",
    "    task_index=int(index_predictions_candidate_rbp_ct),\n",
    "    output_key=\"target\",\n",
    "    softmax_output=True,\n",
    "    softmax_output_dim=2,\n",
    ")\n",
    "\n",
    "ig = IntegratedGradients(parametrized_model_wrapper)\n",
    "\n",
    "# Initialize attribution methods\n",
    "ig = IntegratedGradients(parametrized_model_wrapper)\n",
    "ig_nt = NoiseTunnel(ig)\n",
    "dl = DeepLift(parametrized_model_wrapper)\n",
    "gs = GradientShap(parametrized_model_wrapper)\n",
    "fa = FeatureAblation(parametrized_model_wrapper)\n",
    "\n",
    "methods = {\"IntegratedGradients\": ig, \"NoiseTunnel\": ig_nt, \"DeepLift\": dl, \"GradientShap\": gs, \"FeatureAblation\": fa}\n",
    "\n",
    "########################################################################\n",
    "\n",
    "seq_onehot = torch.stack([parnet.utils.sequence_to_onehot(mock_sequence).float()]).to(device=device, dtype=dtype)\n",
    "input_data = {\"sequence\": seq_onehot}\n",
    "\n",
    "# Define baseline (e.g., all zeros)\n",
    "baseline = torch.zeros_like(seq_onehot).to(device=device, dtype=dtype)\n",
    "\n",
    "selected_method = \"IntegratedGradients\"\n",
    "method = methods[selected_method]\n",
    "\n",
    "\n",
    "# NOW: we will iterate over all the positions over length L, to calculate the contribution from all nucleotide positions\n",
    "# to each output position.\n",
    "# We will then be able to calculate the mean\n",
    "\n",
    "attributions_all = []\n",
    "for i in range(len(mock_sequence)):\n",
    "    if i % 200 == 0:\n",
    "        print(i)\n",
    "\n",
    "    # TODO: verify with Andreina whether baselines make sense.\n",
    "    if selected_method == \"GradientShap\" or selected_method in [\"DeepLift\", \"IntegratedGradients\"]:\n",
    "        attr, delta = method.attribute(inputs=seq_onehot, baselines=baseline, target=i, return_convergence_delta=True)\n",
    "\n",
    "    else:\n",
    "        attr, delta = method.attribute(inputs=seq_onehot, target=i, return_convergence_delta=True)\n",
    "\n",
    "    attributions_all.append(attr)\n",
    "\n",
    "# Stack results: shape [L, batch, channels, sequence_length]\n",
    "# First dimension : we assessed for each position in the OUTPUT how much each nucleotide position\n",
    "# in the INPUT contributed to the output.\n",
    "attributions_all = torch.stack(attributions_all)\n",
    "\n",
    "print(f\"{attributions_all.shape=}\")"
   ]
  },
  {
   "cell_type": "code",
   "execution_count": 243,
   "id": "54830afb",
   "metadata": {},
   "outputs": [
    {
     "name": "stdout",
     "output_type": "stream",
     "text": [
      "mean_attr.shape=torch.Size([1, 4, 1010])\n",
      "pos_importance.shape=torch.Size([1, 1010])\n",
      "pos_importance.shape=torch.Size([1010])\n"
     ]
    }
   ],
   "source": [
    "# average over L outputs → shape [1, 4, sequence_length]\n",
    "mean_attr = attributions_all.mean(dim=0)\n",
    "print(f\"{mean_attr.shape=}\")\n",
    "\n",
    "# Drop the \"one-hot-encoding\" 4 channels dimension ; only keep one score per position.\n",
    "pos_importance = mean_attr.sum(dim=1)\n",
    "print(f\"{pos_importance.shape=}\")\n",
    "\n",
    "# Since we have only one sequence, we can drop the batch dimension.\n",
    "pos_importance = pos_importance.squeeze(0)\n",
    "print(f\"{pos_importance.shape=}\")\n",
    "\n",
    "# Detach and move to CPU\n",
    "pos_importance = pos_importance.detach().cpu().numpy()"
   ]
  },
  {
   "cell_type": "code",
   "execution_count": 244,
   "id": "290e0a9d",
   "metadata": {},
   "outputs": [
    {
     "data": {
      "text/html": [
       "<div>\n",
       "<style scoped>\n",
       "    .dataframe tbody tr th:only-of-type {\n",
       "        vertical-align: middle;\n",
       "    }\n",
       "\n",
       "    .dataframe tbody tr th {\n",
       "        vertical-align: top;\n",
       "    }\n",
       "\n",
       "    .dataframe thead th {\n",
       "        text-align: right;\n",
       "    }\n",
       "</style>\n",
       "<table border=\"1\" class=\"dataframe\">\n",
       "  <thead>\n",
       "    <tr style=\"text-align: right;\">\n",
       "      <th></th>\n",
       "      <th>A</th>\n",
       "      <th>C</th>\n",
       "      <th>G</th>\n",
       "      <th>T</th>\n",
       "    </tr>\n",
       "  </thead>\n",
       "  <tbody>\n",
       "    <tr>\n",
       "      <th>0</th>\n",
       "      <td>0.000001</td>\n",
       "      <td>0.0</td>\n",
       "      <td>0</td>\n",
       "      <td>0.0</td>\n",
       "    </tr>\n",
       "    <tr>\n",
       "      <th>1</th>\n",
       "      <td>0.000002</td>\n",
       "      <td>0.0</td>\n",
       "      <td>0</td>\n",
       "      <td>0.0</td>\n",
       "    </tr>\n",
       "    <tr>\n",
       "      <th>2</th>\n",
       "      <td>0.000002</td>\n",
       "      <td>0.0</td>\n",
       "      <td>0</td>\n",
       "      <td>0.0</td>\n",
       "    </tr>\n",
       "    <tr>\n",
       "      <th>3</th>\n",
       "      <td>0.000003</td>\n",
       "      <td>0.0</td>\n",
       "      <td>0</td>\n",
       "      <td>0.0</td>\n",
       "    </tr>\n",
       "    <tr>\n",
       "      <th>4</th>\n",
       "      <td>0.000002</td>\n",
       "      <td>0.0</td>\n",
       "      <td>0</td>\n",
       "      <td>0.0</td>\n",
       "    </tr>\n",
       "    <tr>\n",
       "      <th>5</th>\n",
       "      <td>0.000002</td>\n",
       "      <td>0.0</td>\n",
       "      <td>0</td>\n",
       "      <td>0.0</td>\n",
       "    </tr>\n",
       "    <tr>\n",
       "      <th>6</th>\n",
       "      <td>0.000002</td>\n",
       "      <td>0.0</td>\n",
       "      <td>0</td>\n",
       "      <td>0.0</td>\n",
       "    </tr>\n",
       "    <tr>\n",
       "      <th>7</th>\n",
       "      <td>0.000002</td>\n",
       "      <td>0.0</td>\n",
       "      <td>0</td>\n",
       "      <td>0.0</td>\n",
       "    </tr>\n",
       "    <tr>\n",
       "      <th>8</th>\n",
       "      <td>0.000002</td>\n",
       "      <td>0.0</td>\n",
       "      <td>0</td>\n",
       "      <td>0.0</td>\n",
       "    </tr>\n",
       "    <tr>\n",
       "      <th>9</th>\n",
       "      <td>0.000002</td>\n",
       "      <td>0.0</td>\n",
       "      <td>0</td>\n",
       "      <td>0.0</td>\n",
       "    </tr>\n",
       "  </tbody>\n",
       "</table>\n",
       "</div>"
      ],
      "text/plain": [
       "          A    C  G    T\n",
       "0  0.000001  0.0  0  0.0\n",
       "1  0.000002  0.0  0  0.0\n",
       "2  0.000002  0.0  0  0.0\n",
       "3  0.000003  0.0  0  0.0\n",
       "4  0.000002  0.0  0  0.0\n",
       "5  0.000002  0.0  0  0.0\n",
       "6  0.000002  0.0  0  0.0\n",
       "7  0.000002  0.0  0  0.0\n",
       "8  0.000002  0.0  0  0.0\n",
       "9  0.000002  0.0  0  0.0"
      ]
     },
     "metadata": {},
     "output_type": "display_data"
    }
   ],
   "source": [
    "feature_importance_df = pd.get_dummies(list(mock_sequence)).astype(int)\n",
    "feature_importance_df = feature_importance_df * pos_importance[:, None]\n",
    "\n",
    "for base in [\"A\", \"C\", \"G\", \"T\"]:\n",
    "    if base not in feature_importance_df.columns:\n",
    "        feature_importance_df[base] = 0\n",
    "feature_importance_df = feature_importance_df.loc[:, [\"A\", \"C\", \"G\", \"T\"]].replace(np.nan, 0)\n",
    "\n",
    "display(feature_importance_df.head(10))"
   ]
  },
  {
   "cell_type": "code",
   "execution_count": 245,
   "id": "1fd9f30b",
   "metadata": {},
   "outputs": [
    {
     "data": {
      "image/png": "[encoded data removed]",
      "text/plain": [
       "<Figure size 1000x250 with 1 Axes>"
      ]
     },
     "metadata": {},
     "output_type": "display_data"
    }
   ],
   "source": [
    "center_pos = len(mock_sequence) // 2\n",
    "start = center_pos - 50\n",
    "end = center_pos + 50\n",
    "\n",
    "nn_logo = lm.Logo(feature_importance_df.iloc[start:end, :])"
   ]
  }
 ],
 "metadata": {
  "kernelspec": {
   "display_name": "parnet-demo-gpu",
   "language": "python",
   "name": "python3"
  },
  "language_info": {
   "codemirror_mode": {
    "name": "ipython",
    "version": 3
   },
   "file_extension": ".py",
   "mimetype": "text/x-python",
   "name": "python",
   "nbconvert_exporter": "python",
   "pygments_lexer": "ipython3",
   "version": "3.10.18"
  }
 },
 "nbformat": 4,
 "nbformat_minor": 5
}
